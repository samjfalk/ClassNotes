{
 "cells": [
  {
   "cell_type": "markdown",
   "metadata": {
    "slideshow": {
     "slide_type": "slide"
    }
   },
   "source": [
    "<img src=\"https://ga-dash.s3.amazonaws.com/production/assets/logo-9f88ae6c9c3871690e33280fcf557f33.png\" style=\"float: left; margin: 15px;\">\n",
    "\n",
    "# Intro to Data Cleaning\n",
    "\n",
    "***\n",
    "\n",
    "Week 2 | Lesson 2.3"
   ]
  },
  {
   "cell_type": "markdown",
   "metadata": {
    "slideshow": {
     "slide_type": "slide"
    }
   },
   "source": [
    "### LEARNING OBJECTIVES\n",
    "*After this lesson, you will be able to:*\n",
    "\n",
    "- Inspect data types and values\n",
    "- Diagram a data processing workflow\n",
    "- Clean up a column using df.apply()"
   ]
  },
  {
   "cell_type": "markdown",
   "metadata": {
    "slideshow": {
     "slide_type": "slide"
    }
   },
   "source": [
    "### LESSON GUIDE\n",
    "| TIMING  | TYPE  | TOPIC  |\n",
    "|:-:|---|---|\n",
    "| 5 min  | [Introduction](#introduction)   | Inspect data types, df.apply(), .value_counts()  |\n",
    "| 10 min  | [Demo /Guided Practice](#common_steps)  | Common cleaning |\n",
    "| 10 min  | [Demo /Guided Practice](#dfd)  | Data flow diagrams |\n",
    "| 10 min  | [Demo /Guided Practice](#inspect_data_types)  | Inspecting data types |\n",
    "| 10 min  | [Demo /Guided Practice](#apply)  | Applying functions |\n",
    "| 10 min  | [Demo /Guided Practice](#value_counts)  | .value_counts() |\n",
    "| 20 min  | [Independent Practice](#ind-practice)  |   |\n",
    "| 5 min  | [Conclusion](#conclusion)  |   |"
   ]
  },
  {
   "cell_type": "markdown",
   "metadata": {
    "slideshow": {
     "slide_type": "slide"
    }
   },
   "source": [
    "<a name=\"introduction\"></a>\n",
    "## Introduction: data cleaning (5 mins)\n",
    "\n",
    "Since we're starting to get pretty comfortable with using pandas to do EDA, let's add some more tools to our toolbox.\n",
    "\n",
    "\n"
   ]
  },
  {
   "cell_type": "markdown",
   "metadata": {
    "slideshow": {
     "slide_type": "slide"
    }
   },
   "source": [
    "### Conceptually: what do you look for, and how do you stay organized?\n",
    "\n",
    "There's no magic formula, but we'll list common cleaning operations.\n",
    "\n",
    "Reproducibility matters, so document! For high-level planning and documentation, **data flow diagrams** are helpful.\n",
    "\n"
   ]
  },
  {
   "cell_type": "markdown",
   "metadata": {
    "slideshow": {
     "slide_type": "slide"
    }
   },
   "source": [
    "### Technically: once you know what you want to do, how do you do it in pandas?\n",
    "\n",
    "Pandas has many functions to help process and manipulate your data. You learned some this morning. We'll take a second look at .dtypes, .apply() and .value_counts.\n",
    "\n",
    "**.dtypes** is the data type attribute of numpy/pandas objects.\n",
    "\n",
    "**df.apply()** applies a function along any axis of a DataFrame.\n",
    "\n",
    "**pandas.Series.value_counts** returns a Series containing counts of unique values. Excludes NaN values."
   ]
  },
  {
   "cell_type": "markdown",
   "metadata": {
    "slideshow": {
     "slide_type": "slide"
    }
   },
   "source": [
    "<a name=\"common_steps\"></a>\n",
    "\n",
    "## Common steps in cleaning data\n",
    "\n",
    "- Drop outliers\n",
    "\n",
    "For numerical data, consider dropping values > 3 SDs from the mean.\n",
    "\n",
    "For categorical data, consider dropping cases accounting for < 1% of items.\n",
    "\n",
    "- Normalize\n",
    "\n",
    "Options include:\n",
    "\n",
    "Max-min: $X_{norm} = (X − X_{min}) / (X_{max} − X_{min})$\n",
    "\n",
    "Z-score: $(X_i - mean(X)) / sd$"
   ]
  },
  {
   "cell_type": "markdown",
   "metadata": {
    "slideshow": {
     "slide_type": "slide"
    }
   },
   "source": [
    "## Common steps in cleaning data\n",
    "\n",
    "- Relabel\n",
    "\n",
    "*(\"Bachelor's\", \"BSc\", \"Bachelor of Arts\") -> \"BA\"*\n",
    "\n",
    "- Decode\n",
    "\n",
    "*1 -> \"EU\", 2 -> \"Asia-Pacific\", 3 -> \"MENA\"*\n",
    "\n"
   ]
  },
  {
   "cell_type": "markdown",
   "metadata": {
    "slideshow": {
     "slide_type": "slide"
    }
   },
   "source": [
    "## Common steps in cleaning \n",
    "\n",
    "- Recast\n",
    "\n",
    "*(\"1.0\", \"2.0\", \"3.0\") -> (1,2,3)*\n",
    "\n",
    "- Handle null values\n",
    "\n",
    "Pandas will usually impute NaNs for you. Drop them? Replace with estimates?"
   ]
  },
  {
   "cell_type": "markdown",
   "metadata": {
    "slideshow": {
     "slide_type": "slide"
    }
   },
   "source": [
    "## Common steps in cleaning \n",
    "\n",
    "- Binarize (dummy variables)\n",
    "\n",
    "*(Blue, Green, Blue, Red, Red, Green) ->*\n",
    "*IsBlue: (1, 0, 1, 0, 0, 0); IsGreen: (0, 1, 0, 0, 0, 1); IsRed: (0, 0, 0, 1, 1, 0)*\n",
    "\n",
    "- Discretization\n",
    "\n",
    "*(20, 56, 7, 2, 14, 89, 70, 40) -> (Adult, Adult, Child, Child, Child, Senior, Senior, Adult)*"
   ]
  },
  {
   "cell_type": "markdown",
   "metadata": {
    "slideshow": {
     "slide_type": "slide"
    }
   },
   "source": [
    "> Look at the Billboard dataset (below). What kinds of cleaning might it require?"
   ]
  },
  {
   "cell_type": "code",
   "execution_count": 36,
   "metadata": {
    "collapsed": false,
    "slideshow": {
     "slide_type": "fragment"
    }
   },
   "outputs": [
    {
     "data": {
      "text/html": [
       "<div>\n",
       "<table border=\"1\" class=\"dataframe\">\n",
       "  <thead>\n",
       "    <tr style=\"text-align: right;\">\n",
       "      <th></th>\n",
       "      <th>year</th>\n",
       "      <th>artist.inverted</th>\n",
       "      <th>track</th>\n",
       "      <th>time</th>\n",
       "      <th>genre</th>\n",
       "      <th>date.entered</th>\n",
       "      <th>date.peaked</th>\n",
       "      <th>x1st.week</th>\n",
       "      <th>x2nd.week</th>\n",
       "      <th>x3rd.week</th>\n",
       "      <th>...</th>\n",
       "      <th>x67th.week</th>\n",
       "      <th>x68th.week</th>\n",
       "      <th>x69th.week</th>\n",
       "      <th>x70th.week</th>\n",
       "      <th>x71st.week</th>\n",
       "      <th>x72nd.week</th>\n",
       "      <th>x73rd.week</th>\n",
       "      <th>x74th.week</th>\n",
       "      <th>x75th.week</th>\n",
       "      <th>x76th.week</th>\n",
       "    </tr>\n",
       "  </thead>\n",
       "  <tbody>\n",
       "    <tr>\n",
       "      <th>0</th>\n",
       "      <td>2000</td>\n",
       "      <td>Destiny's Child</td>\n",
       "      <td>Independent Women Part I</td>\n",
       "      <td>3,38,00 AM</td>\n",
       "      <td>Rock</td>\n",
       "      <td>September 23, 2000</td>\n",
       "      <td>November 18, 2000</td>\n",
       "      <td>78</td>\n",
       "      <td>63</td>\n",
       "      <td>49</td>\n",
       "      <td>...</td>\n",
       "      <td>*</td>\n",
       "      <td>*</td>\n",
       "      <td>*</td>\n",
       "      <td>*</td>\n",
       "      <td>*</td>\n",
       "      <td>*</td>\n",
       "      <td>*</td>\n",
       "      <td>*</td>\n",
       "      <td>*</td>\n",
       "      <td>*</td>\n",
       "    </tr>\n",
       "    <tr>\n",
       "      <th>1</th>\n",
       "      <td>2000</td>\n",
       "      <td>Santana</td>\n",
       "      <td>Maria, Maria</td>\n",
       "      <td>4,18,00 AM</td>\n",
       "      <td>Rock</td>\n",
       "      <td>February 12, 2000</td>\n",
       "      <td>April 8, 2000</td>\n",
       "      <td>15</td>\n",
       "      <td>8</td>\n",
       "      <td>6</td>\n",
       "      <td>...</td>\n",
       "      <td>*</td>\n",
       "      <td>*</td>\n",
       "      <td>*</td>\n",
       "      <td>*</td>\n",
       "      <td>*</td>\n",
       "      <td>*</td>\n",
       "      <td>*</td>\n",
       "      <td>*</td>\n",
       "      <td>*</td>\n",
       "      <td>*</td>\n",
       "    </tr>\n",
       "    <tr>\n",
       "      <th>2</th>\n",
       "      <td>2000</td>\n",
       "      <td>Savage Garden</td>\n",
       "      <td>I Knew I Loved You</td>\n",
       "      <td>4,07,00 AM</td>\n",
       "      <td>Rock</td>\n",
       "      <td>October 23, 1999</td>\n",
       "      <td>January 29, 2000</td>\n",
       "      <td>71</td>\n",
       "      <td>48</td>\n",
       "      <td>43</td>\n",
       "      <td>...</td>\n",
       "      <td>*</td>\n",
       "      <td>*</td>\n",
       "      <td>*</td>\n",
       "      <td>*</td>\n",
       "      <td>*</td>\n",
       "      <td>*</td>\n",
       "      <td>*</td>\n",
       "      <td>*</td>\n",
       "      <td>*</td>\n",
       "      <td>*</td>\n",
       "    </tr>\n",
       "    <tr>\n",
       "      <th>3</th>\n",
       "      <td>2000</td>\n",
       "      <td>Madonna</td>\n",
       "      <td>Music</td>\n",
       "      <td>3,45,00 AM</td>\n",
       "      <td>Rock</td>\n",
       "      <td>August 12, 2000</td>\n",
       "      <td>September 16, 2000</td>\n",
       "      <td>41</td>\n",
       "      <td>23</td>\n",
       "      <td>18</td>\n",
       "      <td>...</td>\n",
       "      <td>*</td>\n",
       "      <td>*</td>\n",
       "      <td>*</td>\n",
       "      <td>*</td>\n",
       "      <td>*</td>\n",
       "      <td>*</td>\n",
       "      <td>*</td>\n",
       "      <td>*</td>\n",
       "      <td>*</td>\n",
       "      <td>*</td>\n",
       "    </tr>\n",
       "    <tr>\n",
       "      <th>4</th>\n",
       "      <td>2000</td>\n",
       "      <td>Aguilera, Christina</td>\n",
       "      <td>Come On Over Baby (All I Want Is You)</td>\n",
       "      <td>3,38,00 AM</td>\n",
       "      <td>Rock</td>\n",
       "      <td>August 5, 2000</td>\n",
       "      <td>October 14, 2000</td>\n",
       "      <td>57</td>\n",
       "      <td>47</td>\n",
       "      <td>45</td>\n",
       "      <td>...</td>\n",
       "      <td>*</td>\n",
       "      <td>*</td>\n",
       "      <td>*</td>\n",
       "      <td>*</td>\n",
       "      <td>*</td>\n",
       "      <td>*</td>\n",
       "      <td>*</td>\n",
       "      <td>*</td>\n",
       "      <td>*</td>\n",
       "      <td>*</td>\n",
       "    </tr>\n",
       "    <tr>\n",
       "      <th>5</th>\n",
       "      <td>2000</td>\n",
       "      <td>Janet</td>\n",
       "      <td>Doesn't Really Matter</td>\n",
       "      <td>4,17,00 AM</td>\n",
       "      <td>Rock</td>\n",
       "      <td>June 17, 2000</td>\n",
       "      <td>August 26, 2000</td>\n",
       "      <td>59</td>\n",
       "      <td>52</td>\n",
       "      <td>43</td>\n",
       "      <td>...</td>\n",
       "      <td>*</td>\n",
       "      <td>*</td>\n",
       "      <td>*</td>\n",
       "      <td>*</td>\n",
       "      <td>*</td>\n",
       "      <td>*</td>\n",
       "      <td>*</td>\n",
       "      <td>*</td>\n",
       "      <td>*</td>\n",
       "      <td>*</td>\n",
       "    </tr>\n",
       "    <tr>\n",
       "      <th>6</th>\n",
       "      <td>2000</td>\n",
       "      <td>Destiny's Child</td>\n",
       "      <td>Say My Name</td>\n",
       "      <td>4,31,00 AM</td>\n",
       "      <td>Rock'n'roll</td>\n",
       "      <td>December 25, 1999</td>\n",
       "      <td>March 18, 2000</td>\n",
       "      <td>83</td>\n",
       "      <td>83</td>\n",
       "      <td>44</td>\n",
       "      <td>...</td>\n",
       "      <td>*</td>\n",
       "      <td>*</td>\n",
       "      <td>*</td>\n",
       "      <td>*</td>\n",
       "      <td>*</td>\n",
       "      <td>*</td>\n",
       "      <td>*</td>\n",
       "      <td>*</td>\n",
       "      <td>*</td>\n",
       "      <td>*</td>\n",
       "    </tr>\n",
       "    <tr>\n",
       "      <th>7</th>\n",
       "      <td>2000</td>\n",
       "      <td>Iglesias, Enrique</td>\n",
       "      <td>Be With You</td>\n",
       "      <td>3,36,00 AM</td>\n",
       "      <td>Latin</td>\n",
       "      <td>April 1, 2000</td>\n",
       "      <td>June 24, 2000</td>\n",
       "      <td>63</td>\n",
       "      <td>45</td>\n",
       "      <td>34</td>\n",
       "      <td>...</td>\n",
       "      <td>*</td>\n",
       "      <td>*</td>\n",
       "      <td>*</td>\n",
       "      <td>*</td>\n",
       "      <td>*</td>\n",
       "      <td>*</td>\n",
       "      <td>*</td>\n",
       "      <td>*</td>\n",
       "      <td>*</td>\n",
       "      <td>*</td>\n",
       "    </tr>\n",
       "    <tr>\n",
       "      <th>8</th>\n",
       "      <td>2000</td>\n",
       "      <td>Sisqo</td>\n",
       "      <td>Incomplete</td>\n",
       "      <td>3,52,00 AM</td>\n",
       "      <td>Rock'n'roll</td>\n",
       "      <td>June 24, 2000</td>\n",
       "      <td>August 12, 2000</td>\n",
       "      <td>77</td>\n",
       "      <td>66</td>\n",
       "      <td>61</td>\n",
       "      <td>...</td>\n",
       "      <td>*</td>\n",
       "      <td>*</td>\n",
       "      <td>*</td>\n",
       "      <td>*</td>\n",
       "      <td>*</td>\n",
       "      <td>*</td>\n",
       "      <td>*</td>\n",
       "      <td>*</td>\n",
       "      <td>*</td>\n",
       "      <td>*</td>\n",
       "    </tr>\n",
       "    <tr>\n",
       "      <th>9</th>\n",
       "      <td>2000</td>\n",
       "      <td>Lonestar</td>\n",
       "      <td>Amazed</td>\n",
       "      <td>4,25,00 AM</td>\n",
       "      <td>Country</td>\n",
       "      <td>June 5, 1999</td>\n",
       "      <td>March 4, 2000</td>\n",
       "      <td>81</td>\n",
       "      <td>54</td>\n",
       "      <td>44</td>\n",
       "      <td>...</td>\n",
       "      <td>*</td>\n",
       "      <td>*</td>\n",
       "      <td>*</td>\n",
       "      <td>*</td>\n",
       "      <td>*</td>\n",
       "      <td>*</td>\n",
       "      <td>*</td>\n",
       "      <td>*</td>\n",
       "      <td>*</td>\n",
       "      <td>*</td>\n",
       "    </tr>\n",
       "    <tr>\n",
       "      <th>10</th>\n",
       "      <td>2000</td>\n",
       "      <td>N'Sync</td>\n",
       "      <td>It's Gonna Be Me</td>\n",
       "      <td>3,10,00 AM</td>\n",
       "      <td>Rock'n'roll</td>\n",
       "      <td>May 6, 2000</td>\n",
       "      <td>July 29, 2000</td>\n",
       "      <td>82</td>\n",
       "      <td>70</td>\n",
       "      <td>51</td>\n",
       "      <td>...</td>\n",
       "      <td>*</td>\n",
       "      <td>*</td>\n",
       "      <td>*</td>\n",
       "      <td>*</td>\n",
       "      <td>*</td>\n",
       "      <td>*</td>\n",
       "      <td>*</td>\n",
       "      <td>*</td>\n",
       "      <td>*</td>\n",
       "      <td>*</td>\n",
       "    </tr>\n",
       "    <tr>\n",
       "      <th>11</th>\n",
       "      <td>2000</td>\n",
       "      <td>Aguilera, Christina</td>\n",
       "      <td>What A Girl Wants</td>\n",
       "      <td>3,18,00 AM</td>\n",
       "      <td>Rock'n'roll</td>\n",
       "      <td>November 27, 1999</td>\n",
       "      <td>January 15, 2000</td>\n",
       "      <td>71</td>\n",
       "      <td>51</td>\n",
       "      <td>28</td>\n",
       "      <td>...</td>\n",
       "      <td>*</td>\n",
       "      <td>*</td>\n",
       "      <td>*</td>\n",
       "      <td>*</td>\n",
       "      <td>*</td>\n",
       "      <td>*</td>\n",
       "      <td>*</td>\n",
       "      <td>*</td>\n",
       "      <td>*</td>\n",
       "      <td>*</td>\n",
       "    </tr>\n",
       "    <tr>\n",
       "      <th>12</th>\n",
       "      <td>2000</td>\n",
       "      <td>Vertical Horizon</td>\n",
       "      <td>Everything You Want</td>\n",
       "      <td>4,01,00 AM</td>\n",
       "      <td>Rock'n'roll</td>\n",
       "      <td>January 22, 2000</td>\n",
       "      <td>July 15, 2000</td>\n",
       "      <td>70</td>\n",
       "      <td>61</td>\n",
       "      <td>53</td>\n",
       "      <td>...</td>\n",
       "      <td>*</td>\n",
       "      <td>*</td>\n",
       "      <td>*</td>\n",
       "      <td>*</td>\n",
       "      <td>*</td>\n",
       "      <td>*</td>\n",
       "      <td>*</td>\n",
       "      <td>*</td>\n",
       "      <td>*</td>\n",
       "      <td>*</td>\n",
       "    </tr>\n",
       "    <tr>\n",
       "      <th>13</th>\n",
       "      <td>2000</td>\n",
       "      <td>Creed</td>\n",
       "      <td>With Arms Wide Open</td>\n",
       "      <td>3,52,00 AM</td>\n",
       "      <td>Rock'n'roll</td>\n",
       "      <td>May 13, 2000</td>\n",
       "      <td>November 11, 2000</td>\n",
       "      <td>84</td>\n",
       "      <td>78</td>\n",
       "      <td>76</td>\n",
       "      <td>...</td>\n",
       "      <td>*</td>\n",
       "      <td>*</td>\n",
       "      <td>*</td>\n",
       "      <td>*</td>\n",
       "      <td>*</td>\n",
       "      <td>*</td>\n",
       "      <td>*</td>\n",
       "      <td>*</td>\n",
       "      <td>*</td>\n",
       "      <td>*</td>\n",
       "    </tr>\n",
       "    <tr>\n",
       "      <th>14</th>\n",
       "      <td>2000</td>\n",
       "      <td>Aaliyah</td>\n",
       "      <td>Try Again</td>\n",
       "      <td>4,03,00 AM</td>\n",
       "      <td>Rock'n'roll</td>\n",
       "      <td>March 18, 2000</td>\n",
       "      <td>June 17, 2000</td>\n",
       "      <td>59</td>\n",
       "      <td>53</td>\n",
       "      <td>38</td>\n",
       "      <td>...</td>\n",
       "      <td>*</td>\n",
       "      <td>*</td>\n",
       "      <td>*</td>\n",
       "      <td>*</td>\n",
       "      <td>*</td>\n",
       "      <td>*</td>\n",
       "      <td>*</td>\n",
       "      <td>*</td>\n",
       "      <td>*</td>\n",
       "      <td>*</td>\n",
       "    </tr>\n",
       "  </tbody>\n",
       "</table>\n",
       "<p>15 rows × 83 columns</p>\n",
       "</div>"
      ],
      "text/plain": [
       "    year      artist.inverted                                  track  \\\n",
       "0   2000      Destiny's Child               Independent Women Part I   \n",
       "1   2000              Santana                           Maria, Maria   \n",
       "2   2000        Savage Garden                     I Knew I Loved You   \n",
       "3   2000              Madonna                                  Music   \n",
       "4   2000  Aguilera, Christina  Come On Over Baby (All I Want Is You)   \n",
       "5   2000                Janet                  Doesn't Really Matter   \n",
       "6   2000      Destiny's Child                            Say My Name   \n",
       "7   2000    Iglesias, Enrique                            Be With You   \n",
       "8   2000                Sisqo                             Incomplete   \n",
       "9   2000             Lonestar                                 Amazed   \n",
       "10  2000               N'Sync                       It's Gonna Be Me   \n",
       "11  2000  Aguilera, Christina                      What A Girl Wants   \n",
       "12  2000     Vertical Horizon                    Everything You Want   \n",
       "13  2000                Creed                    With Arms Wide Open   \n",
       "14  2000              Aaliyah                              Try Again   \n",
       "\n",
       "          time        genre        date.entered         date.peaked  \\\n",
       "0   3,38,00 AM         Rock  September 23, 2000   November 18, 2000   \n",
       "1   4,18,00 AM         Rock   February 12, 2000       April 8, 2000   \n",
       "2   4,07,00 AM         Rock    October 23, 1999    January 29, 2000   \n",
       "3   3,45,00 AM         Rock     August 12, 2000  September 16, 2000   \n",
       "4   3,38,00 AM         Rock      August 5, 2000    October 14, 2000   \n",
       "5   4,17,00 AM         Rock       June 17, 2000     August 26, 2000   \n",
       "6   4,31,00 AM  Rock'n'roll   December 25, 1999      March 18, 2000   \n",
       "7   3,36,00 AM        Latin       April 1, 2000       June 24, 2000   \n",
       "8   3,52,00 AM  Rock'n'roll       June 24, 2000     August 12, 2000   \n",
       "9   4,25,00 AM      Country        June 5, 1999       March 4, 2000   \n",
       "10  3,10,00 AM  Rock'n'roll         May 6, 2000       July 29, 2000   \n",
       "11  3,18,00 AM  Rock'n'roll   November 27, 1999    January 15, 2000   \n",
       "12  4,01,00 AM  Rock'n'roll    January 22, 2000       July 15, 2000   \n",
       "13  3,52,00 AM  Rock'n'roll        May 13, 2000   November 11, 2000   \n",
       "14  4,03,00 AM  Rock'n'roll      March 18, 2000       June 17, 2000   \n",
       "\n",
       "    x1st.week x2nd.week x3rd.week    ...     x67th.week x68th.week x69th.week  \\\n",
       "0          78        63        49    ...              *          *          *   \n",
       "1          15         8         6    ...              *          *          *   \n",
       "2          71        48        43    ...              *          *          *   \n",
       "3          41        23        18    ...              *          *          *   \n",
       "4          57        47        45    ...              *          *          *   \n",
       "5          59        52        43    ...              *          *          *   \n",
       "6          83        83        44    ...              *          *          *   \n",
       "7          63        45        34    ...              *          *          *   \n",
       "8          77        66        61    ...              *          *          *   \n",
       "9          81        54        44    ...              *          *          *   \n",
       "10         82        70        51    ...              *          *          *   \n",
       "11         71        51        28    ...              *          *          *   \n",
       "12         70        61        53    ...              *          *          *   \n",
       "13         84        78        76    ...              *          *          *   \n",
       "14         59        53        38    ...              *          *          *   \n",
       "\n",
       "   x70th.week x71st.week x72nd.week x73rd.week x74th.week x75th.week  \\\n",
       "0           *          *          *          *          *          *   \n",
       "1           *          *          *          *          *          *   \n",
       "2           *          *          *          *          *          *   \n",
       "3           *          *          *          *          *          *   \n",
       "4           *          *          *          *          *          *   \n",
       "5           *          *          *          *          *          *   \n",
       "6           *          *          *          *          *          *   \n",
       "7           *          *          *          *          *          *   \n",
       "8           *          *          *          *          *          *   \n",
       "9           *          *          *          *          *          *   \n",
       "10          *          *          *          *          *          *   \n",
       "11          *          *          *          *          *          *   \n",
       "12          *          *          *          *          *          *   \n",
       "13          *          *          *          *          *          *   \n",
       "14          *          *          *          *          *          *   \n",
       "\n",
       "   x76th.week  \n",
       "0           *  \n",
       "1           *  \n",
       "2           *  \n",
       "3           *  \n",
       "4           *  \n",
       "5           *  \n",
       "6           *  \n",
       "7           *  \n",
       "8           *  \n",
       "9           *  \n",
       "10          *  \n",
       "11          *  \n",
       "12          *  \n",
       "13          *  \n",
       "14          *  \n",
       "\n",
       "[15 rows x 83 columns]"
      ]
     },
     "execution_count": 36,
     "metadata": {},
     "output_type": "execute_result"
    }
   ],
   "source": [
    "import pandas as pd\n",
    "bb = pd.read_csv('assets/datasets/billboard.csv')\n",
    "bb.head(15)"
   ]
  },
  {
   "cell_type": "code",
   "execution_count": 245,
   "metadata": {
    "collapsed": false,
    "slideshow": {
     "slide_type": "slide"
    }
   },
   "outputs": [
    {
     "data": {
      "text/plain": [
       "array(['year', 'artist.inverted', 'track', 'time', 'genre', 'date.entered',\n",
       "       'date.peaked', 'x1st.week', 'x2nd.week', 'x3rd.week', 'x4th.week',\n",
       "       'x5th.week', 'x6th.week', 'x7th.week', 'x8th.week', 'x9th.week',\n",
       "       'x10th.week', 'x11th.week', 'x12th.week', 'x13th.week',\n",
       "       'x14th.week', 'x15th.week', 'x16th.week', 'x17th.week',\n",
       "       'x18th.week', 'x19th.week', 'x20th.week', 'x21st.week',\n",
       "       'x22nd.week', 'x23rd.week', 'x24th.week', 'x25th.week',\n",
       "       'x26th.week', 'x27th.week', 'x28th.week', 'x29th.week',\n",
       "       'x30th.week', 'x31st.week', 'x32nd.week', 'x33rd.week',\n",
       "       'x34th.week', 'x35th.week', 'x36th.week', 'x37th.week',\n",
       "       'x38th.week', 'x39th.week', 'x40th.week', 'x41st.week',\n",
       "       'x42nd.week', 'x43rd.week', 'x44th.week', 'x45th.week',\n",
       "       'x46th.week', 'x47th.week', 'x48th.week', 'x49th.week',\n",
       "       'x50th.week', 'x51st.week', 'x52nd.week', 'x53rd.week',\n",
       "       'x54th.week', 'x55th.week', 'x56th.week', 'x57th.week',\n",
       "       'x58th.week', 'x59th.week', 'x60th.week', 'x61st.week',\n",
       "       'x62nd.week', 'x63rd.week', 'x64th.week', 'x65th.week',\n",
       "       'x66th.week', 'x67th.week', 'x68th.week', 'x69th.week',\n",
       "       'x70th.week', 'x71st.week', 'x72nd.week', 'x73rd.week',\n",
       "       'x74th.week', 'x75th.week', 'x76th.week'], dtype=object)"
      ]
     },
     "execution_count": 245,
     "metadata": {},
     "output_type": "execute_result"
    }
   ],
   "source": [
    "bb.columns.values"
   ]
  },
  {
   "cell_type": "markdown",
   "metadata": {
    "slideshow": {
     "slide_type": "slide"
    }
   },
   "source": [
    "<a name=\"dfd\"></a>\n",
    "\n",
    "\n",
    "## Planning your system with data flow diagrams (10 mins)\n",
    "\n",
    "\n",
    "<img src=\"https://upload.wikimedia.org/wikipedia/commons/thumb/2/24/Data-flow-diagram-notation.svg/220px-Data-flow-diagram-notation.svg.png\">\n",
    "\n"
   ]
  },
  {
   "cell_type": "markdown",
   "metadata": {
    "slideshow": {
     "slide_type": "slide"
    }
   },
   "source": [
    "- Function / process (ellipse or circle): takes in data from one or more sources, transforms it, and outputs it to one or more destinations \n",
    "\n",
    "- Store / file (parallel lines): place where data persists; takes an input and ought to have an output\n",
    "\n",
    "- Input-output (rectangle): process that produces or consumes data\n",
    "\n",
    "- Flow (arrow): shows the flow of specific data\n"
   ]
  },
  {
   "cell_type": "markdown",
   "metadata": {
    "slideshow": {
     "slide_type": "fragment"
    }
   },
   "source": [
    "> What is an example of data processing you may want to do? Sketch a data flow diagram and walk your tablemates through it."
   ]
  },
  {
   "cell_type": "markdown",
   "metadata": {
    "slideshow": {
     "slide_type": "slide"
    }
   },
   "source": [
    "<a name=\"inspect_data_types\"></a>\n",
    "## Demo /Guided Practice: Inspect data types  (10 mins)\n",
    "\n",
    "Let's create a small dictionary with different data types in it. "
   ]
  },
  {
   "cell_type": "markdown",
   "metadata": {
    "slideshow": {
     "slide_type": "slide"
    }
   },
   "source": [
    "### Import Pandas + Numpy"
   ]
  },
  {
   "cell_type": "code",
   "execution_count": 3,
   "metadata": {
    "collapsed": true,
    "slideshow": {
     "slide_type": "fragment"
    }
   },
   "outputs": [],
   "source": [
    "import pandas as pd\n",
    "import numpy as np"
   ]
  },
  {
   "cell_type": "markdown",
   "metadata": {
    "slideshow": {
     "slide_type": "slide"
    }
   },
   "source": [
    "### Create Test Data"
   ]
  },
  {
   "cell_type": "code",
   "execution_count": 4,
   "metadata": {
    "collapsed": false,
    "slideshow": {
     "slide_type": "fragment"
    }
   },
   "outputs": [],
   "source": [
    "test_data = dict( \n",
    "    A = np.random.rand(3),\n",
    "    B = 1,\n",
    "    C = 'foo',\n",
    "    D = pd.Timestamp('20010102'),\n",
    "    E = pd.Series([1.0]*3).astype('float32'),\n",
    "    F = False,\n",
    "    G = pd.Series([1]*3,dtype='int8')\n",
    ")"
   ]
  },
  {
   "cell_type": "code",
   "execution_count": 5,
   "metadata": {
    "collapsed": false,
    "slideshow": {
     "slide_type": "slide"
    }
   },
   "outputs": [
    {
     "data": {
      "text/plain": [
       "{'A': array([ 0.15938454,  0.83801036,  0.55994805]),\n",
       " 'B': 1,\n",
       " 'C': 'foo',\n",
       " 'D': Timestamp('2001-01-02 00:00:00'),\n",
       " 'E': 0    1.0\n",
       " 1    1.0\n",
       " 2    1.0\n",
       " dtype: float32,\n",
       " 'F': False,\n",
       " 'G': 0    1\n",
       " 1    1\n",
       " 2    1\n",
       " dtype: int8}"
      ]
     },
     "execution_count": 5,
     "metadata": {},
     "output_type": "execute_result"
    }
   ],
   "source": [
    "test_data"
   ]
  },
  {
   "cell_type": "markdown",
   "metadata": {
    "slideshow": {
     "slide_type": "slide"
    }
   },
   "source": [
    "### Create our DataFrame"
   ]
  },
  {
   "cell_type": "code",
   "execution_count": 6,
   "metadata": {
    "collapsed": false,
    "slideshow": {
     "slide_type": "fragment"
    }
   },
   "outputs": [
    {
     "data": {
      "text/html": [
       "<div>\n",
       "<table border=\"1\" class=\"dataframe\">\n",
       "  <thead>\n",
       "    <tr style=\"text-align: right;\">\n",
       "      <th></th>\n",
       "      <th>A</th>\n",
       "      <th>B</th>\n",
       "      <th>C</th>\n",
       "      <th>D</th>\n",
       "      <th>E</th>\n",
       "      <th>F</th>\n",
       "      <th>G</th>\n",
       "    </tr>\n",
       "  </thead>\n",
       "  <tbody>\n",
       "    <tr>\n",
       "      <th>0</th>\n",
       "      <td>0.159385</td>\n",
       "      <td>1</td>\n",
       "      <td>foo</td>\n",
       "      <td>2001-01-02</td>\n",
       "      <td>1.0</td>\n",
       "      <td>False</td>\n",
       "      <td>1</td>\n",
       "    </tr>\n",
       "    <tr>\n",
       "      <th>1</th>\n",
       "      <td>0.838010</td>\n",
       "      <td>1</td>\n",
       "      <td>foo</td>\n",
       "      <td>2001-01-02</td>\n",
       "      <td>1.0</td>\n",
       "      <td>False</td>\n",
       "      <td>1</td>\n",
       "    </tr>\n",
       "    <tr>\n",
       "      <th>2</th>\n",
       "      <td>0.559948</td>\n",
       "      <td>1</td>\n",
       "      <td>foo</td>\n",
       "      <td>2001-01-02</td>\n",
       "      <td>1.0</td>\n",
       "      <td>False</td>\n",
       "      <td>1</td>\n",
       "    </tr>\n",
       "  </tbody>\n",
       "</table>\n",
       "</div>"
      ],
      "text/plain": [
       "          A  B    C          D    E      F  G\n",
       "0  0.159385  1  foo 2001-01-02  1.0  False  1\n",
       "1  0.838010  1  foo 2001-01-02  1.0  False  1\n",
       "2  0.559948  1  foo 2001-01-02  1.0  False  1"
      ]
     },
     "execution_count": 6,
     "metadata": {},
     "output_type": "execute_result"
    }
   ],
   "source": [
    "dft = pd.DataFrame(test_data)\n",
    "dft"
   ]
  },
  {
   "cell_type": "code",
   "execution_count": 231,
   "metadata": {
    "collapsed": false,
    "slideshow": {
     "slide_type": "fragment"
    }
   },
   "outputs": [
    {
     "data": {
      "text/plain": [
       "A           float64\n",
       "B             int64\n",
       "C            object\n",
       "D    datetime64[ns]\n",
       "E           float32\n",
       "F              bool\n",
       "G              int8\n",
       "dtype: object"
      ]
     },
     "execution_count": 231,
     "metadata": {},
     "output_type": "execute_result"
    }
   ],
   "source": [
    "dft.dtypes"
   ]
  },
  {
   "cell_type": "markdown",
   "metadata": {
    "slideshow": {
     "slide_type": "slide"
    }
   },
   "source": [
    "**What might we expect dtypes in the case of mixed type values in a single dimension?**\n",
    "\n",
    "ie:  [2, 3, 4, 5, 6, 7, 8.9]"
   ]
  },
  {
   "cell_type": "markdown",
   "metadata": {
    "slideshow": {
     "slide_type": "fragment"
    }
   },
   "source": [
    "If a pandas object contains data multiple dtypes IN A SINGLE COLUMN, the dtype of the column will be chosen to accommodate all of the data types (object is the most general)."
   ]
  },
  {
   "cell_type": "markdown",
   "metadata": {
    "slideshow": {
     "slide_type": "slide"
    }
   },
   "source": [
    "### Ints are cast to floats"
   ]
  },
  {
   "cell_type": "code",
   "execution_count": 7,
   "metadata": {
    "collapsed": false,
    "slideshow": {
     "slide_type": "fragment"
    }
   },
   "outputs": [
    {
     "data": {
      "text/plain": [
       "0    1.0\n",
       "1    2.0\n",
       "2    3.0\n",
       "3    4.0\n",
       "4    5.0\n",
       "5    6.0\n",
       "dtype: float64"
      ]
     },
     "execution_count": 7,
     "metadata": {},
     "output_type": "execute_result"
    }
   ],
   "source": [
    "pd.Series([1, 2, 3, 4, 5, 6.])"
   ]
  },
  {
   "cell_type": "markdown",
   "metadata": {
    "slideshow": {
     "slide_type": "slide"
    }
   },
   "source": [
    "### String elements are cast to ``object`` dtype"
   ]
  },
  {
   "cell_type": "code",
   "execution_count": 8,
   "metadata": {
    "collapsed": false,
    "scrolled": true,
    "slideshow": {
     "slide_type": "fragment"
    }
   },
   "outputs": [
    {
     "data": {
      "text/plain": [
       "0      1\n",
       "1      2\n",
       "2      3\n",
       "3    foo\n",
       "dtype: object"
      ]
     },
     "execution_count": 8,
     "metadata": {},
     "output_type": "execute_result"
    }
   ],
   "source": [
    "pd.Series([1, 2, 3, 'foo'])"
   ]
  },
  {
   "cell_type": "code",
   "execution_count": 9,
   "metadata": {
    "collapsed": false,
    "slideshow": {
     "slide_type": "slide"
    }
   },
   "outputs": [
    {
     "data": {
      "text/plain": [
       "bool              1\n",
       "datetime64[ns]    1\n",
       "float32           1\n",
       "float64           1\n",
       "int64             1\n",
       "int8              1\n",
       "object            1\n",
       "dtype: int64"
      ]
     },
     "execution_count": 9,
     "metadata": {},
     "output_type": "execute_result"
    }
   ],
   "source": [
    "dft.get_dtype_counts()"
   ]
  },
  {
   "cell_type": "markdown",
   "metadata": {
    "slideshow": {
     "slide_type": "slide"
    }
   },
   "source": [
    "> If you turn these into a pd.Series, what will be the dtype?\n",
    "\n",
    "    [1, 3, 9, .33, False, '03-20-1978', np.arange(22)]\n",
    "\n"
   ]
  },
  {
   "cell_type": "code",
   "execution_count": 10,
   "metadata": {
    "collapsed": false,
    "slideshow": {
     "slide_type": "fragment"
    }
   },
   "outputs": [
    {
     "data": {
      "text/plain": [
       "0                                                    1\n",
       "1                                                    3\n",
       "2                                                    9\n",
       "3                                                 0.33\n",
       "4                                                False\n",
       "5                                           03-20-1978\n",
       "6    [0, 1, 2, 3, 4, 5, 6, 7, 8, 9, 10, 11, 12, 13,...\n",
       "dtype: object"
      ]
     },
     "execution_count": 10,
     "metadata": {},
     "output_type": "execute_result"
    }
   ],
   "source": [
    "pd.Series([1, 3, 9, .33, False, '03-20-1978', np.arange(22)])"
   ]
  },
  {
   "cell_type": "markdown",
   "metadata": {
    "slideshow": {
     "slide_type": "slide"
    }
   },
   "source": [
    "## Why do you think it might be important to know what the column dtypes are? "
   ]
  },
  {
   "cell_type": "code",
   "execution_count": 45,
   "metadata": {
    "collapsed": false,
    "slideshow": {
     "slide_type": "fragment"
    }
   },
   "outputs": [
    {
     "name": "stdout",
     "output_type": "stream",
     "text": [
      "       F\n",
      "0  False\n",
      "1  False\n",
      "2  False\n",
      "   F\n",
      "0  0\n",
      "1  0\n",
      "2  0\n",
      "     C\n",
      "0  foo\n",
      "1  foo\n",
      "2  foo\n",
      "        C\n",
      "0  foofoo\n",
      "1  foofoo\n",
      "2  foofoo\n"
     ]
    }
   ],
   "source": [
    "print(dft.select_dtypes(include=['bool']))\n",
    "print(dft.select_dtypes(include=['bool'])*2)\n",
    "print(dft.select_dtypes(include=['object']))\n",
    "print(dft.select_dtypes(include=['object'])*2)\n",
    "#dft.select_dtypes(include=['object'])/2"
   ]
  },
  {
   "cell_type": "markdown",
   "metadata": {
    "slideshow": {
     "slide_type": "slide"
    }
   },
   "source": [
    "<a name=\" df.apply()\"></a>\n",
    "## Demo / Guided Practice:  df.apply(), df.applymap(), Series.map() (20 mins)\n",
    "\n",
    "df.apply() applies some function to each column (or row) of your dataframe (*\"column-wise\"*).\n",
    "\n",
    "df.applymap() applies some function *element-wise*.\n",
    "\n",
    "Series.map() is a pd.Series method that applies a function element-wise on a series.\n",
    "\n",
    "> Check: why would these be useful in data cleaning?"
   ]
  },
  {
   "cell_type": "code",
   "execution_count": 13,
   "metadata": {
    "collapsed": false,
    "slideshow": {
     "slide_type": "slide"
    }
   },
   "outputs": [
    {
     "data": {
      "text/html": [
       "<div>\n",
       "<table border=\"1\" class=\"dataframe\">\n",
       "  <thead>\n",
       "    <tr style=\"text-align: right;\">\n",
       "      <th></th>\n",
       "      <th>a</th>\n",
       "      <th>b</th>\n",
       "      <th>c</th>\n",
       "      <th>d</th>\n",
       "    </tr>\n",
       "  </thead>\n",
       "  <tbody>\n",
       "    <tr>\n",
       "      <th>0</th>\n",
       "      <td>-3</td>\n",
       "      <td>-2</td>\n",
       "      <td>0</td>\n",
       "      <td>4</td>\n",
       "    </tr>\n",
       "    <tr>\n",
       "      <th>1</th>\n",
       "      <td>-4</td>\n",
       "      <td>-2</td>\n",
       "      <td>4</td>\n",
       "      <td>-5</td>\n",
       "    </tr>\n",
       "    <tr>\n",
       "      <th>2</th>\n",
       "      <td>4</td>\n",
       "      <td>-3</td>\n",
       "      <td>-3</td>\n",
       "      <td>1</td>\n",
       "    </tr>\n",
       "    <tr>\n",
       "      <th>3</th>\n",
       "      <td>-2</td>\n",
       "      <td>-3</td>\n",
       "      <td>2</td>\n",
       "      <td>-2</td>\n",
       "    </tr>\n",
       "    <tr>\n",
       "      <th>4</th>\n",
       "      <td>-3</td>\n",
       "      <td>-2</td>\n",
       "      <td>-5</td>\n",
       "      <td>1</td>\n",
       "    </tr>\n",
       "  </tbody>\n",
       "</table>\n",
       "</div>"
      ],
      "text/plain": [
       "   a  b  c  d\n",
       "0 -3 -2  0  4\n",
       "1 -4 -2  4 -5\n",
       "2  4 -3 -3  1\n",
       "3 -2 -3  2 -2\n",
       "4 -3 -2 -5  1"
      ]
     },
     "execution_count": 13,
     "metadata": {},
     "output_type": "execute_result"
    }
   ],
   "source": [
    "# Create test data\n",
    "\n",
    "df = pd.DataFrame(np.random.randint(-5, 5, (5,4)), columns = ['a','b','c','d'])\n",
    "df\n"
   ]
  },
  {
   "cell_type": "code",
   "execution_count": 14,
   "metadata": {
    "collapsed": false,
    "slideshow": {
     "slide_type": "fragment"
    }
   },
   "outputs": [
    {
     "data": {
      "text/plain": [
       "a   -4\n",
       "b   -3\n",
       "c   -5\n",
       "d   -5\n",
       "dtype: int64"
      ]
     },
     "execution_count": 14,
     "metadata": {},
     "output_type": "execute_result"
    }
   ],
   "source": [
    "df.apply(min)"
   ]
  },
  {
   "cell_type": "code",
   "execution_count": 15,
   "metadata": {
    "collapsed": false,
    "slideshow": {
     "slide_type": "slide"
    }
   },
   "outputs": [
    {
     "data": {
      "text/html": [
       "<div>\n",
       "<table border=\"1\" class=\"dataframe\">\n",
       "  <thead>\n",
       "    <tr style=\"text-align: right;\">\n",
       "      <th></th>\n",
       "      <th>a</th>\n",
       "      <th>b</th>\n",
       "      <th>c</th>\n",
       "      <th>d</th>\n",
       "    </tr>\n",
       "  </thead>\n",
       "  <tbody>\n",
       "    <tr>\n",
       "      <th>0</th>\n",
       "      <td>-3</td>\n",
       "      <td>-2</td>\n",
       "      <td>0</td>\n",
       "      <td>4</td>\n",
       "    </tr>\n",
       "    <tr>\n",
       "      <th>1</th>\n",
       "      <td>-4</td>\n",
       "      <td>-2</td>\n",
       "      <td>4</td>\n",
       "      <td>-5</td>\n",
       "    </tr>\n",
       "    <tr>\n",
       "      <th>2</th>\n",
       "      <td>4</td>\n",
       "      <td>-3</td>\n",
       "      <td>-3</td>\n",
       "      <td>1</td>\n",
       "    </tr>\n",
       "    <tr>\n",
       "      <th>3</th>\n",
       "      <td>-2</td>\n",
       "      <td>-3</td>\n",
       "      <td>2</td>\n",
       "      <td>-2</td>\n",
       "    </tr>\n",
       "    <tr>\n",
       "      <th>4</th>\n",
       "      <td>-3</td>\n",
       "      <td>-2</td>\n",
       "      <td>-5</td>\n",
       "      <td>1</td>\n",
       "    </tr>\n",
       "  </tbody>\n",
       "</table>\n",
       "</div>"
      ],
      "text/plain": [
       "   a  b  c  d\n",
       "0 -3 -2  0  4\n",
       "1 -4 -2  4 -5\n",
       "2  4 -3 -3  1\n",
       "3 -2 -3  2 -2\n",
       "4 -3 -2 -5  1"
      ]
     },
     "execution_count": 15,
     "metadata": {},
     "output_type": "execute_result"
    }
   ],
   "source": [
    "df"
   ]
  },
  {
   "cell_type": "code",
   "execution_count": 16,
   "metadata": {
    "collapsed": false,
    "slideshow": {
     "slide_type": "fragment"
    }
   },
   "outputs": [
    {
     "data": {
      "text/plain": [
       "a   -4\n",
       "b   -3\n",
       "c   -5\n",
       "d   -5\n",
       "dtype: int64"
      ]
     },
     "execution_count": 16,
     "metadata": {},
     "output_type": "execute_result"
    }
   ],
   "source": [
    "df.apply(min, axis = 0)"
   ]
  },
  {
   "cell_type": "code",
   "execution_count": 18,
   "metadata": {
    "collapsed": false,
    "scrolled": true,
    "slideshow": {
     "slide_type": "slide"
    }
   },
   "outputs": [
    {
     "data": {
      "text/html": [
       "<div>\n",
       "<table border=\"1\" class=\"dataframe\">\n",
       "  <thead>\n",
       "    <tr style=\"text-align: right;\">\n",
       "      <th></th>\n",
       "      <th>a</th>\n",
       "      <th>b</th>\n",
       "      <th>c</th>\n",
       "      <th>d</th>\n",
       "    </tr>\n",
       "  </thead>\n",
       "  <tbody>\n",
       "    <tr>\n",
       "      <th>0</th>\n",
       "      <td>NaN</td>\n",
       "      <td>NaN</td>\n",
       "      <td>0.000000</td>\n",
       "      <td>2.0</td>\n",
       "    </tr>\n",
       "    <tr>\n",
       "      <th>1</th>\n",
       "      <td>NaN</td>\n",
       "      <td>NaN</td>\n",
       "      <td>2.000000</td>\n",
       "      <td>NaN</td>\n",
       "    </tr>\n",
       "    <tr>\n",
       "      <th>2</th>\n",
       "      <td>2.0</td>\n",
       "      <td>NaN</td>\n",
       "      <td>NaN</td>\n",
       "      <td>1.0</td>\n",
       "    </tr>\n",
       "    <tr>\n",
       "      <th>3</th>\n",
       "      <td>NaN</td>\n",
       "      <td>NaN</td>\n",
       "      <td>1.414214</td>\n",
       "      <td>NaN</td>\n",
       "    </tr>\n",
       "    <tr>\n",
       "      <th>4</th>\n",
       "      <td>NaN</td>\n",
       "      <td>NaN</td>\n",
       "      <td>NaN</td>\n",
       "      <td>1.0</td>\n",
       "    </tr>\n",
       "  </tbody>\n",
       "</table>\n",
       "</div>"
      ],
      "text/plain": [
       "     a   b         c    d\n",
       "0  NaN NaN  0.000000  2.0\n",
       "1  NaN NaN  2.000000  NaN\n",
       "2  2.0 NaN       NaN  1.0\n",
       "3  NaN NaN  1.414214  NaN\n",
       "4  NaN NaN       NaN  1.0"
      ]
     },
     "execution_count": 18,
     "metadata": {},
     "output_type": "execute_result"
    }
   ],
   "source": [
    "df.applymap(np.sqrt)\n"
   ]
  },
  {
   "cell_type": "code",
   "execution_count": null,
   "metadata": {
    "collapsed": true
   },
   "outputs": [],
   "source": []
  },
  {
   "cell_type": "code",
   "execution_count": 241,
   "metadata": {
    "collapsed": false,
    "slideshow": {
     "slide_type": "fragment"
    }
   },
   "outputs": [
    {
     "data": {
      "text/plain": [
       "0    1.732051\n",
       "1         NaN\n",
       "2    1.000000\n",
       "3         NaN\n",
       "4    2.000000\n",
       "Name: a, dtype: float64"
      ]
     },
     "execution_count": 241,
     "metadata": {},
     "output_type": "execute_result"
    }
   ],
   "source": [
    "df['a'].map(np.sqrt)"
   ]
  },
  {
   "cell_type": "markdown",
   "metadata": {
    "slideshow": {
     "slide_type": "slide"
    }
   },
   "source": [
    "> Check: what happens if we try to use the min function in .applymap()?"
   ]
  },
  {
   "cell_type": "code",
   "execution_count": 19,
   "metadata": {
    "collapsed": false,
    "slideshow": {
     "slide_type": "fragment"
    }
   },
   "outputs": [
    {
     "ename": "TypeError",
     "evalue": "(\"'int' object is not iterable\", u'occurred at index a')",
     "output_type": "error",
     "traceback": [
      "\u001b[0;31m---------------------------------------------------------------------------\u001b[0m",
      "\u001b[0;31mTypeError\u001b[0m                                 Traceback (most recent call last)",
      "\u001b[0;32m<ipython-input-19-bc44b4fdb450>\u001b[0m in \u001b[0;36m<module>\u001b[0;34m()\u001b[0m\n\u001b[0;32m----> 1\u001b[0;31m \u001b[0mdf\u001b[0m\u001b[0;34m.\u001b[0m\u001b[0mapplymap\u001b[0m\u001b[0;34m(\u001b[0m\u001b[0mmin\u001b[0m\u001b[0;34m)\u001b[0m\u001b[0;34m\u001b[0m\u001b[0m\n\u001b[0m",
      "\u001b[0;32m/Users/samanthafalk/anaconda/lib/python2.7/site-packages/pandas/core/frame.pyc\u001b[0m in \u001b[0;36mapplymap\u001b[0;34m(self, func)\u001b[0m\n\u001b[1;32m   4248\u001b[0m             \u001b[0;32mreturn\u001b[0m \u001b[0mlib\u001b[0m\u001b[0;34m.\u001b[0m\u001b[0mmap_infer\u001b[0m\u001b[0;34m(\u001b[0m\u001b[0mx\u001b[0m\u001b[0;34m.\u001b[0m\u001b[0masobject\u001b[0m\u001b[0;34m,\u001b[0m \u001b[0mfunc\u001b[0m\u001b[0;34m)\u001b[0m\u001b[0;34m\u001b[0m\u001b[0m\n\u001b[1;32m   4249\u001b[0m \u001b[0;34m\u001b[0m\u001b[0m\n\u001b[0;32m-> 4250\u001b[0;31m         \u001b[0;32mreturn\u001b[0m \u001b[0mself\u001b[0m\u001b[0;34m.\u001b[0m\u001b[0mapply\u001b[0m\u001b[0;34m(\u001b[0m\u001b[0minfer\u001b[0m\u001b[0;34m)\u001b[0m\u001b[0;34m\u001b[0m\u001b[0m\n\u001b[0m\u001b[1;32m   4251\u001b[0m \u001b[0;34m\u001b[0m\u001b[0m\n\u001b[1;32m   4252\u001b[0m     \u001b[0;31m# ----------------------------------------------------------------------\u001b[0m\u001b[0;34m\u001b[0m\u001b[0;34m\u001b[0m\u001b[0m\n",
      "\u001b[0;32m/Users/samanthafalk/anaconda/lib/python2.7/site-packages/pandas/core/frame.pyc\u001b[0m in \u001b[0;36mapply\u001b[0;34m(self, func, axis, broadcast, raw, reduce, args, **kwds)\u001b[0m\n\u001b[1;32m   4059\u001b[0m                     \u001b[0;32mif\u001b[0m \u001b[0mreduce\u001b[0m \u001b[0;32mis\u001b[0m \u001b[0mNone\u001b[0m\u001b[0;34m:\u001b[0m\u001b[0;34m\u001b[0m\u001b[0m\n\u001b[1;32m   4060\u001b[0m                         \u001b[0mreduce\u001b[0m \u001b[0;34m=\u001b[0m \u001b[0mTrue\u001b[0m\u001b[0;34m\u001b[0m\u001b[0m\n\u001b[0;32m-> 4061\u001b[0;31m                     \u001b[0;32mreturn\u001b[0m \u001b[0mself\u001b[0m\u001b[0;34m.\u001b[0m\u001b[0m_apply_standard\u001b[0m\u001b[0;34m(\u001b[0m\u001b[0mf\u001b[0m\u001b[0;34m,\u001b[0m \u001b[0maxis\u001b[0m\u001b[0;34m,\u001b[0m \u001b[0mreduce\u001b[0m\u001b[0;34m=\u001b[0m\u001b[0mreduce\u001b[0m\u001b[0;34m)\u001b[0m\u001b[0;34m\u001b[0m\u001b[0m\n\u001b[0m\u001b[1;32m   4062\u001b[0m             \u001b[0;32melse\u001b[0m\u001b[0;34m:\u001b[0m\u001b[0;34m\u001b[0m\u001b[0m\n\u001b[1;32m   4063\u001b[0m                 \u001b[0;32mreturn\u001b[0m \u001b[0mself\u001b[0m\u001b[0;34m.\u001b[0m\u001b[0m_apply_broadcast\u001b[0m\u001b[0;34m(\u001b[0m\u001b[0mf\u001b[0m\u001b[0;34m,\u001b[0m \u001b[0maxis\u001b[0m\u001b[0;34m)\u001b[0m\u001b[0;34m\u001b[0m\u001b[0m\n",
      "\u001b[0;32m/Users/samanthafalk/anaconda/lib/python2.7/site-packages/pandas/core/frame.pyc\u001b[0m in \u001b[0;36m_apply_standard\u001b[0;34m(self, func, axis, ignore_failures, reduce)\u001b[0m\n\u001b[1;32m   4155\u001b[0m             \u001b[0;32mtry\u001b[0m\u001b[0;34m:\u001b[0m\u001b[0;34m\u001b[0m\u001b[0m\n\u001b[1;32m   4156\u001b[0m                 \u001b[0;32mfor\u001b[0m \u001b[0mi\u001b[0m\u001b[0;34m,\u001b[0m \u001b[0mv\u001b[0m \u001b[0;32min\u001b[0m \u001b[0menumerate\u001b[0m\u001b[0;34m(\u001b[0m\u001b[0mseries_gen\u001b[0m\u001b[0;34m)\u001b[0m\u001b[0;34m:\u001b[0m\u001b[0;34m\u001b[0m\u001b[0m\n\u001b[0;32m-> 4157\u001b[0;31m                     \u001b[0mresults\u001b[0m\u001b[0;34m[\u001b[0m\u001b[0mi\u001b[0m\u001b[0;34m]\u001b[0m \u001b[0;34m=\u001b[0m \u001b[0mfunc\u001b[0m\u001b[0;34m(\u001b[0m\u001b[0mv\u001b[0m\u001b[0;34m)\u001b[0m\u001b[0;34m\u001b[0m\u001b[0m\n\u001b[0m\u001b[1;32m   4158\u001b[0m                     \u001b[0mkeys\u001b[0m\u001b[0;34m.\u001b[0m\u001b[0mappend\u001b[0m\u001b[0;34m(\u001b[0m\u001b[0mv\u001b[0m\u001b[0;34m.\u001b[0m\u001b[0mname\u001b[0m\u001b[0;34m)\u001b[0m\u001b[0;34m\u001b[0m\u001b[0m\n\u001b[1;32m   4159\u001b[0m             \u001b[0;32mexcept\u001b[0m \u001b[0mException\u001b[0m \u001b[0;32mas\u001b[0m \u001b[0me\u001b[0m\u001b[0;34m:\u001b[0m\u001b[0;34m\u001b[0m\u001b[0m\n",
      "\u001b[0;32m/Users/samanthafalk/anaconda/lib/python2.7/site-packages/pandas/core/frame.pyc\u001b[0m in \u001b[0;36minfer\u001b[0;34m(x)\u001b[0m\n\u001b[1;32m   4246\u001b[0m         \u001b[0;31m# if we have a dtype == 'M8[ns]', provide boxed values\u001b[0m\u001b[0;34m\u001b[0m\u001b[0;34m\u001b[0m\u001b[0m\n\u001b[1;32m   4247\u001b[0m         \u001b[0;32mdef\u001b[0m \u001b[0minfer\u001b[0m\u001b[0;34m(\u001b[0m\u001b[0mx\u001b[0m\u001b[0;34m)\u001b[0m\u001b[0;34m:\u001b[0m\u001b[0;34m\u001b[0m\u001b[0m\n\u001b[0;32m-> 4248\u001b[0;31m             \u001b[0;32mreturn\u001b[0m \u001b[0mlib\u001b[0m\u001b[0;34m.\u001b[0m\u001b[0mmap_infer\u001b[0m\u001b[0;34m(\u001b[0m\u001b[0mx\u001b[0m\u001b[0;34m.\u001b[0m\u001b[0masobject\u001b[0m\u001b[0;34m,\u001b[0m \u001b[0mfunc\u001b[0m\u001b[0;34m)\u001b[0m\u001b[0;34m\u001b[0m\u001b[0m\n\u001b[0m\u001b[1;32m   4249\u001b[0m \u001b[0;34m\u001b[0m\u001b[0m\n\u001b[1;32m   4250\u001b[0m         \u001b[0;32mreturn\u001b[0m \u001b[0mself\u001b[0m\u001b[0;34m.\u001b[0m\u001b[0mapply\u001b[0m\u001b[0;34m(\u001b[0m\u001b[0minfer\u001b[0m\u001b[0;34m)\u001b[0m\u001b[0;34m\u001b[0m\u001b[0m\n",
      "\u001b[0;32mpandas/src/inference.pyx\u001b[0m in \u001b[0;36mpandas.lib.map_infer (pandas/lib.c:62658)\u001b[0;34m()\u001b[0m\n",
      "\u001b[0;31mTypeError\u001b[0m: (\"'int' object is not iterable\", u'occurred at index a')"
     ]
    }
   ],
   "source": [
    "df.applymap(min)"
   ]
  },
  {
   "cell_type": "markdown",
   "metadata": {
    "slideshow": {
     "slide_type": "slide"
    }
   },
   "source": [
    "### Further Reading\n",
    "\n",
    "For more advanced `.apply` usage, check out these links:\n",
    "\n",
    "[\"Why Not\"'s Gist Examples](https://gist.github.com/why-not/4582705)\n",
    "\n",
    "[Chris Albon's Map + Apply Examples](http://chrisalbon.com/python/pandas_apply_operations_to_dataframes.html)\n"
   ]
  },
  {
   "cell_type": "markdown",
   "metadata": {
    "slideshow": {
     "slide_type": "slide"
    }
   },
   "source": [
    "### **Check:** How would you find the std of the columns and rows? "
   ]
  },
  {
   "cell_type": "code",
   "execution_count": 23,
   "metadata": {
    "collapsed": false
   },
   "outputs": [
    {
     "data": {
      "text/plain": [
       "a    2.870540\n",
       "b    0.489898\n",
       "c    3.261901\n",
       "d    3.059412\n",
       "dtype: float64"
      ]
     },
     "execution_count": 23,
     "metadata": {},
     "output_type": "execute_result"
    }
   ],
   "source": [
    "print df.apply(np.std, axis=0)"
   ]
  },
  {
   "cell_type": "markdown",
   "metadata": {
    "slideshow": {
     "slide_type": "slide"
    }
   },
   "source": [
    "<a name=\".value_counts()\"></a>\n",
    "## Demo /Guided Practice: .value_counts() (< 10 mins)\n",
    "\n",
    "Why is this important?  Basically, this tells us the count of unique values that exist.  It's helpful to identify anything unexpected.  Looking at value_counts(), per series, can give us a quick overview of values expressed in our data.\n",
    "\n",
    " - Strings inside of mostly numeric / continious data\n",
    " - Non-numeric values\n",
    " - General counts of values that we might expect to see\n",
    " - Most common / least common values"
   ]
  },
  {
   "cell_type": "markdown",
   "metadata": {
    "slideshow": {
     "slide_type": "slide"
    }
   },
   "source": [
    "Let's create some random data"
   ]
  },
  {
   "cell_type": "code",
   "execution_count": 31,
   "metadata": {
    "collapsed": false,
    "slideshow": {
     "slide_type": "fragment"
    }
   },
   "outputs": [
    {
     "data": {
      "text/plain": [
       "array([4, 2, 0, 2, 6, 2, 3, 5, 3, 5, 6, 5, 2, 2, 5, 0, 4, 0, 1, 2, 4, 4, 5,\n",
       "       2, 3, 4, 1, 5, 2, 3, 2, 4, 3, 4, 6, 5, 5, 5, 3, 0, 6, 3, 1, 5, 3, 4,\n",
       "       6, 3, 0, 5])"
      ]
     },
     "execution_count": 31,
     "metadata": {},
     "output_type": "execute_result"
    }
   ],
   "source": [
    "data = np.random.randint(0, 7, size = 50)\n",
    "data"
   ]
  },
  {
   "cell_type": "code",
   "execution_count": 32,
   "metadata": {
    "collapsed": false,
    "slideshow": {
     "slide_type": "fragment"
    }
   },
   "outputs": [
    {
     "data": {
      "text/plain": [
       "0    4\n",
       "1    2\n",
       "2    0\n",
       "3    2\n",
       "4    6\n",
       "dtype: int64"
      ]
     },
     "execution_count": 32,
     "metadata": {},
     "output_type": "execute_result"
    }
   ],
   "source": [
    "s = pd.Series(data)\n",
    "s.head()"
   ]
  },
  {
   "cell_type": "code",
   "execution_count": 50,
   "metadata": {
    "collapsed": false,
    "slideshow": {
     "slide_type": "slide"
    }
   },
   "outputs": [
    {
     "data": {
      "text/plain": [
       "5    11\n",
       "3     9\n",
       "2     9\n",
       "4     8\n",
       "6     5\n",
       "0     5\n",
       "1     3\n",
       "dtype: int64"
      ]
     },
     "execution_count": 50,
     "metadata": {},
     "output_type": "execute_result"
    }
   ],
   "source": [
    "# The counts of each number that occurs in our array is listed\n",
    "s.value_counts()"
   ]
  },
  {
   "cell_type": "markdown",
   "metadata": {
    "slideshow": {
     "slide_type": "slide"
    }
   },
   "source": [
    "### Lab preview: let's munge the Billboard dataset!"
   ]
  },
  {
   "cell_type": "code",
   "execution_count": 34,
   "metadata": {
    "collapsed": false,
    "slideshow": {
     "slide_type": "fragment"
    }
   },
   "outputs": [
    {
     "ename": "NameError",
     "evalue": "name 'bb' is not defined",
     "output_type": "error",
     "traceback": [
      "\u001b[0;31m---------------------------------------------------------------------------\u001b[0m",
      "\u001b[0;31mNameError\u001b[0m                                 Traceback (most recent call last)",
      "\u001b[0;32m<ipython-input-34-b991532ccf37>\u001b[0m in \u001b[0;36m<module>\u001b[0;34m()\u001b[0m\n\u001b[0;32m----> 1\u001b[0;31m \u001b[0mbb\u001b[0m\u001b[0;34m.\u001b[0m\u001b[0mhead\u001b[0m\u001b[0;34m(\u001b[0m\u001b[0;36m10\u001b[0m\u001b[0;34m)\u001b[0m\u001b[0;34m\u001b[0m\u001b[0m\n\u001b[0m",
      "\u001b[0;31mNameError\u001b[0m: name 'bb' is not defined"
     ]
    }
   ],
   "source": [
    "bb.head(10)"
   ]
  },
  {
   "cell_type": "markdown",
   "metadata": {
    "slideshow": {
     "slide_type": "slide"
    }
   },
   "source": [
    "Where do we start? Let's start with the null value sentinels."
   ]
  },
  {
   "cell_type": "code",
   "execution_count": 28,
   "metadata": {
    "collapsed": false,
    "slideshow": {
     "slide_type": "fragment"
    }
   },
   "outputs": [],
   "source": [
    "def replace_nulls(value):\n",
    "    if value == '*':\n",
    "        return np.nan\n",
    "    else:\n",
    "        return value\n",
    "\n"
   ]
  },
  {
   "cell_type": "code",
   "execution_count": 29,
   "metadata": {
    "collapsed": false,
    "slideshow": {
     "slide_type": "fragment"
    }
   },
   "outputs": [
    {
     "ename": "NameError",
     "evalue": "name 'bb' is not defined",
     "output_type": "error",
     "traceback": [
      "\u001b[0;31m---------------------------------------------------------------------------\u001b[0m",
      "\u001b[0;31mNameError\u001b[0m                                 Traceback (most recent call last)",
      "\u001b[0;32m<ipython-input-29-11a6893d2fd3>\u001b[0m in \u001b[0;36m<module>\u001b[0;34m()\u001b[0m\n\u001b[0;32m----> 1\u001b[0;31m \u001b[0mbb\u001b[0m\u001b[0;34m.\u001b[0m\u001b[0mapplymap\u001b[0m\u001b[0;34m(\u001b[0m\u001b[0mreplace_nulls\u001b[0m\u001b[0;34m)\u001b[0m\u001b[0;34m\u001b[0m\u001b[0m\n\u001b[0m",
      "\u001b[0;31mNameError\u001b[0m: name 'bb' is not defined"
     ]
    }
   ],
   "source": [
    "bb.applymap(replace_nulls)"
   ]
  },
  {
   "cell_type": "markdown",
   "metadata": {
    "slideshow": {
     "slide_type": "slide"
    }
   },
   "source": [
    "<a name=\"ind-practice\"></a>\n",
    "## Independent Practice: Topic (20 minutes)\n",
    "\n",
    "Using our old friend, the [sales_info.csv](assets/datasets/sales_info.csv) dataset:\n",
    "\n",
    "- Inspect the data types\n",
    "- Let's say all your values in the first column are too low by 1: use df.applymap to add 1 to each value in it\n",
    "- Use .value_counts to count the values of each column in the dataset\n",
    "\n",
    "**Bonus** \n",
    "- Write functions to bin the numerical values in each column into 'low', 'medium' and 'high' categories (hint: pandas has a built-in [quantile](http://pandas.pydata.org/pandas-docs/stable/generated/pandas.DataFrame.quantile.html) function)\n",
    "- Use .value_counts again on each column of the dataset, and check that the ratios of the new values are what you expect\n",
    "- Look at the advanced reading, and rewrite your binning functions as lambda functions\n",
    "\n"
   ]
  },
  {
   "cell_type": "code",
   "execution_count": 44,
   "metadata": {
    "collapsed": false,
    "scrolled": true
   },
   "outputs": [
    {
     "data": {
      "text/html": [
       "<div>\n",
       "<table border=\"1\" class=\"dataframe\">\n",
       "  <thead>\n",
       "    <tr style=\"text-align: right;\">\n",
       "      <th></th>\n",
       "      <th>volume_sold</th>\n",
       "      <th>2015_margin</th>\n",
       "      <th>2015_q1_sales</th>\n",
       "      <th>2016_q1_sales</th>\n",
       "    </tr>\n",
       "  </thead>\n",
       "  <tbody>\n",
       "    <tr>\n",
       "      <th>0</th>\n",
       "      <td>18.420760</td>\n",
       "      <td>93.802281</td>\n",
       "      <td>337166.53</td>\n",
       "      <td>337804.05</td>\n",
       "    </tr>\n",
       "    <tr>\n",
       "      <th>1</th>\n",
       "      <td>4.776510</td>\n",
       "      <td>21.082425</td>\n",
       "      <td>22351.86</td>\n",
       "      <td>21736.63</td>\n",
       "    </tr>\n",
       "    <tr>\n",
       "      <th>2</th>\n",
       "      <td>16.602401</td>\n",
       "      <td>93.612494</td>\n",
       "      <td>277764.46</td>\n",
       "      <td>306942.27</td>\n",
       "    </tr>\n",
       "    <tr>\n",
       "      <th>3</th>\n",
       "      <td>4.296111</td>\n",
       "      <td>16.824704</td>\n",
       "      <td>16805.11</td>\n",
       "      <td>9307.75</td>\n",
       "    </tr>\n",
       "    <tr>\n",
       "      <th>4</th>\n",
       "      <td>8.156023</td>\n",
       "      <td>35.011457</td>\n",
       "      <td>54411.42</td>\n",
       "      <td>58939.90</td>\n",
       "    </tr>\n",
       "    <tr>\n",
       "      <th>5</th>\n",
       "      <td>5.005122</td>\n",
       "      <td>31.877437</td>\n",
       "      <td>255939.81</td>\n",
       "      <td>332979.03</td>\n",
       "    </tr>\n",
       "    <tr>\n",
       "      <th>6</th>\n",
       "      <td>14.606750</td>\n",
       "      <td>76.518973</td>\n",
       "      <td>319020.69</td>\n",
       "      <td>302592.88</td>\n",
       "    </tr>\n",
       "    <tr>\n",
       "      <th>7</th>\n",
       "      <td>4.456466</td>\n",
       "      <td>19.337345</td>\n",
       "      <td>45340.33</td>\n",
       "      <td>55315.23</td>\n",
       "    </tr>\n",
       "    <tr>\n",
       "      <th>8</th>\n",
       "      <td>5.047530</td>\n",
       "      <td>26.142470</td>\n",
       "      <td>57849.23</td>\n",
       "      <td>42398.57</td>\n",
       "    </tr>\n",
       "    <tr>\n",
       "      <th>9</th>\n",
       "      <td>5.388070</td>\n",
       "      <td>22.427024</td>\n",
       "      <td>51031.04</td>\n",
       "      <td>56241.57</td>\n",
       "    </tr>\n",
       "    <tr>\n",
       "      <th>10</th>\n",
       "      <td>9.347349</td>\n",
       "      <td>41.892133</td>\n",
       "      <td>68657.91</td>\n",
       "      <td>3536.14</td>\n",
       "    </tr>\n",
       "    <tr>\n",
       "      <th>11</th>\n",
       "      <td>10.930398</td>\n",
       "      <td>66.403049</td>\n",
       "      <td>4151.93</td>\n",
       "      <td>137416.93</td>\n",
       "    </tr>\n",
       "    <tr>\n",
       "      <th>12</th>\n",
       "      <td>6.270209</td>\n",
       "      <td>47.869324</td>\n",
       "      <td>121837.56</td>\n",
       "      <td>158476.55</td>\n",
       "    </tr>\n",
       "    <tr>\n",
       "      <th>13</th>\n",
       "      <td>12.395919</td>\n",
       "      <td>86.760150</td>\n",
       "      <td>146725.31</td>\n",
       "      <td>125731.51</td>\n",
       "    </tr>\n",
       "    <tr>\n",
       "      <th>14</th>\n",
       "      <td>4.557712</td>\n",
       "      <td>22.948176</td>\n",
       "      <td>119287.76</td>\n",
       "      <td>21834.49</td>\n",
       "    </tr>\n",
       "    <tr>\n",
       "      <th>15</th>\n",
       "      <td>4.200122</td>\n",
       "      <td>18.706055</td>\n",
       "      <td>20335.03</td>\n",
       "      <td>39609.55</td>\n",
       "    </tr>\n",
       "    <tr>\n",
       "      <th>16</th>\n",
       "      <td>10.252870</td>\n",
       "      <td>44.041177</td>\n",
       "      <td>110552.94</td>\n",
       "      <td>204038.87</td>\n",
       "    </tr>\n",
       "    <tr>\n",
       "      <th>17</th>\n",
       "      <td>12.076785</td>\n",
       "      <td>62.199004</td>\n",
       "      <td>204237.78</td>\n",
       "      <td>15689.80</td>\n",
       "    </tr>\n",
       "    <tr>\n",
       "      <th>18</th>\n",
       "      <td>3.725095</td>\n",
       "      <td>14.251810</td>\n",
       "      <td>16939.15</td>\n",
       "      <td>48545.69</td>\n",
       "    </tr>\n",
       "    <tr>\n",
       "      <th>19</th>\n",
       "      <td>3.210727</td>\n",
       "      <td>16.043269</td>\n",
       "      <td>55498.12</td>\n",
       "      <td>16320.74</td>\n",
       "    </tr>\n",
       "    <tr>\n",
       "      <th>20</th>\n",
       "      <td>6.290971</td>\n",
       "      <td>25.191171</td>\n",
       "      <td>15983.98</td>\n",
       "      <td>53182.55</td>\n",
       "    </tr>\n",
       "    <tr>\n",
       "      <th>21</th>\n",
       "      <td>7.434821</td>\n",
       "      <td>31.753066</td>\n",
       "      <td>71758.66</td>\n",
       "      <td>30402.43</td>\n",
       "    </tr>\n",
       "    <tr>\n",
       "      <th>22</th>\n",
       "      <td>4.376225</td>\n",
       "      <td>23.161451</td>\n",
       "      <td>62988.17</td>\n",
       "      <td>47217.40</td>\n",
       "    </tr>\n",
       "    <tr>\n",
       "      <th>23</th>\n",
       "      <td>12.988913</td>\n",
       "      <td>48.820741</td>\n",
       "      <td>29637.75</td>\n",
       "      <td>6367.76</td>\n",
       "    </tr>\n",
       "    <tr>\n",
       "      <th>24</th>\n",
       "      <td>11.697456</td>\n",
       "      <td>73.231504</td>\n",
       "      <td>48759.71</td>\n",
       "      <td>329252.09</td>\n",
       "    </tr>\n",
       "    <tr>\n",
       "      <th>25</th>\n",
       "      <td>5.965175</td>\n",
       "      <td>23.450334</td>\n",
       "      <td>89736.70</td>\n",
       "      <td>332976.05</td>\n",
       "    </tr>\n",
       "    <tr>\n",
       "      <th>26</th>\n",
       "      <td>3.945223</td>\n",
       "      <td>14.144793</td>\n",
       "      <td>5577.61</td>\n",
       "      <td>234926.02</td>\n",
       "    </tr>\n",
       "    <tr>\n",
       "      <th>27</th>\n",
       "      <td>7.369585</td>\n",
       "      <td>36.408528</td>\n",
       "      <td>310035.66</td>\n",
       "      <td>151934.45</td>\n",
       "    </tr>\n",
       "    <tr>\n",
       "      <th>28</th>\n",
       "      <td>7.343509</td>\n",
       "      <td>36.171862</td>\n",
       "      <td>310718.21</td>\n",
       "      <td>314068.92</td>\n",
       "    </tr>\n",
       "    <tr>\n",
       "      <th>29</th>\n",
       "      <td>12.350027</td>\n",
       "      <td>59.893478</td>\n",
       "      <td>258284.84</td>\n",
       "      <td>61847.52</td>\n",
       "    </tr>\n",
       "    <tr>\n",
       "      <th>...</th>\n",
       "      <td>...</td>\n",
       "      <td>...</td>\n",
       "      <td>...</td>\n",
       "      <td>...</td>\n",
       "    </tr>\n",
       "    <tr>\n",
       "      <th>170</th>\n",
       "      <td>8.443932</td>\n",
       "      <td>37.407112</td>\n",
       "      <td>17232.45</td>\n",
       "      <td>19203.82</td>\n",
       "    </tr>\n",
       "    <tr>\n",
       "      <th>171</th>\n",
       "      <td>5.151964</td>\n",
       "      <td>20.698042</td>\n",
       "      <td>21340.78</td>\n",
       "      <td>25302.92</td>\n",
       "    </tr>\n",
       "    <tr>\n",
       "      <th>172</th>\n",
       "      <td>6.537069</td>\n",
       "      <td>22.888219</td>\n",
       "      <td>16617.85</td>\n",
       "      <td>18650.96</td>\n",
       "    </tr>\n",
       "    <tr>\n",
       "      <th>173</th>\n",
       "      <td>8.500445</td>\n",
       "      <td>27.507729</td>\n",
       "      <td>21711.71</td>\n",
       "      <td>14626.29</td>\n",
       "    </tr>\n",
       "    <tr>\n",
       "      <th>174</th>\n",
       "      <td>3.931543</td>\n",
       "      <td>21.811659</td>\n",
       "      <td>28128.95</td>\n",
       "      <td>46323.73</td>\n",
       "    </tr>\n",
       "    <tr>\n",
       "      <th>175</th>\n",
       "      <td>6.163689</td>\n",
       "      <td>25.428521</td>\n",
       "      <td>21803.20</td>\n",
       "      <td>535381.86</td>\n",
       "    </tr>\n",
       "    <tr>\n",
       "      <th>176</th>\n",
       "      <td>4.904447</td>\n",
       "      <td>19.568317</td>\n",
       "      <td>12517.29</td>\n",
       "      <td>812011.78</td>\n",
       "    </tr>\n",
       "    <tr>\n",
       "      <th>177</th>\n",
       "      <td>7.402413</td>\n",
       "      <td>26.935335</td>\n",
       "      <td>53988.92</td>\n",
       "      <td>206247.57</td>\n",
       "    </tr>\n",
       "    <tr>\n",
       "      <th>178</th>\n",
       "      <td>47.503269</td>\n",
       "      <td>235.730678</td>\n",
       "      <td>555707.40</td>\n",
       "      <td>6402.78</td>\n",
       "    </tr>\n",
       "    <tr>\n",
       "      <th>179</th>\n",
       "      <td>55.739180</td>\n",
       "      <td>268.869600</td>\n",
       "      <td>1082136.01</td>\n",
       "      <td>100765.67</td>\n",
       "    </tr>\n",
       "    <tr>\n",
       "      <th>180</th>\n",
       "      <td>11.840780</td>\n",
       "      <td>56.433388</td>\n",
       "      <td>192089.46</td>\n",
       "      <td>20098.61</td>\n",
       "    </tr>\n",
       "    <tr>\n",
       "      <th>181</th>\n",
       "      <td>7.002294</td>\n",
       "      <td>26.440917</td>\n",
       "      <td>5574.99</td>\n",
       "      <td>68230.36</td>\n",
       "    </tr>\n",
       "    <tr>\n",
       "      <th>182</th>\n",
       "      <td>8.753142</td>\n",
       "      <td>45.293847</td>\n",
       "      <td>80241.27</td>\n",
       "      <td>596063.00</td>\n",
       "    </tr>\n",
       "    <tr>\n",
       "      <th>183</th>\n",
       "      <td>3.147741</td>\n",
       "      <td>15.594552</td>\n",
       "      <td>27043.54</td>\n",
       "      <td>87471.43</td>\n",
       "    </tr>\n",
       "    <tr>\n",
       "      <th>184</th>\n",
       "      <td>7.196779</td>\n",
       "      <td>27.288652</td>\n",
       "      <td>61977.54</td>\n",
       "      <td>431990.70</td>\n",
       "    </tr>\n",
       "    <tr>\n",
       "      <th>185</th>\n",
       "      <td>76.203692</td>\n",
       "      <td>367.225653</td>\n",
       "      <td>977772.62</td>\n",
       "      <td>136717.57</td>\n",
       "    </tr>\n",
       "    <tr>\n",
       "      <th>186</th>\n",
       "      <td>10.804337</td>\n",
       "      <td>42.031199</td>\n",
       "      <td>41905.18</td>\n",
       "      <td>30008.81</td>\n",
       "    </tr>\n",
       "    <tr>\n",
       "      <th>187</th>\n",
       "      <td>10.705327</td>\n",
       "      <td>45.891477</td>\n",
       "      <td>87839.45</td>\n",
       "      <td>19420.34</td>\n",
       "    </tr>\n",
       "    <tr>\n",
       "      <th>188</th>\n",
       "      <td>51.800686</td>\n",
       "      <td>255.153235</td>\n",
       "      <td>445058.32</td>\n",
       "      <td>274752.60</td>\n",
       "    </tr>\n",
       "    <tr>\n",
       "      <th>189</th>\n",
       "      <td>5.882779</td>\n",
       "      <td>27.512271</td>\n",
       "      <td>127495.18</td>\n",
       "      <td>10315.35</td>\n",
       "    </tr>\n",
       "    <tr>\n",
       "      <th>190</th>\n",
       "      <td>6.686406</td>\n",
       "      <td>26.103097</td>\n",
       "      <td>23874.67</td>\n",
       "      <td>45252.42</td>\n",
       "    </tr>\n",
       "    <tr>\n",
       "      <th>191</th>\n",
       "      <td>5.833355</td>\n",
       "      <td>23.741603</td>\n",
       "      <td>21535.87</td>\n",
       "      <td>433832.28</td>\n",
       "    </tr>\n",
       "    <tr>\n",
       "      <th>192</th>\n",
       "      <td>45.556096</td>\n",
       "      <td>218.008350</td>\n",
       "      <td>276096.18</td>\n",
       "      <td>74215.43</td>\n",
       "    </tr>\n",
       "    <tr>\n",
       "      <th>193</th>\n",
       "      <td>5.172606</td>\n",
       "      <td>21.548782</td>\n",
       "      <td>8506.79</td>\n",
       "      <td>78137.29</td>\n",
       "    </tr>\n",
       "    <tr>\n",
       "      <th>194</th>\n",
       "      <td>10.118018</td>\n",
       "      <td>46.700709</td>\n",
       "      <td>49163.01</td>\n",
       "      <td>83915.72</td>\n",
       "    </tr>\n",
       "    <tr>\n",
       "      <th>195</th>\n",
       "      <td>51.675537</td>\n",
       "      <td>233.533189</td>\n",
       "      <td>434110.57</td>\n",
       "      <td>372240.72</td>\n",
       "    </tr>\n",
       "    <tr>\n",
       "      <th>196</th>\n",
       "      <td>2.794631</td>\n",
       "      <td>11.996118</td>\n",
       "      <td>73789.38</td>\n",
       "      <td>148021.90</td>\n",
       "    </tr>\n",
       "    <tr>\n",
       "      <th>197</th>\n",
       "      <td>7.611698</td>\n",
       "      <td>38.809973</td>\n",
       "      <td>88006.84</td>\n",
       "      <td>31184.18</td>\n",
       "    </tr>\n",
       "    <tr>\n",
       "      <th>198</th>\n",
       "      <td>15.697651</td>\n",
       "      <td>105.035207</td>\n",
       "      <td>117958.96</td>\n",
       "      <td>33324.36</td>\n",
       "    </tr>\n",
       "    <tr>\n",
       "      <th>199</th>\n",
       "      <td>50.275893</td>\n",
       "      <td>225.055138</td>\n",
       "      <td>407738.79</td>\n",
       "      <td>32079.13</td>\n",
       "    </tr>\n",
       "  </tbody>\n",
       "</table>\n",
       "<p>200 rows × 4 columns</p>\n",
       "</div>"
      ],
      "text/plain": [
       "     volume_sold  2015_margin  2015_q1_sales  2016_q1_sales\n",
       "0      18.420760    93.802281      337166.53      337804.05\n",
       "1       4.776510    21.082425       22351.86       21736.63\n",
       "2      16.602401    93.612494      277764.46      306942.27\n",
       "3       4.296111    16.824704       16805.11        9307.75\n",
       "4       8.156023    35.011457       54411.42       58939.90\n",
       "5       5.005122    31.877437      255939.81      332979.03\n",
       "6      14.606750    76.518973      319020.69      302592.88\n",
       "7       4.456466    19.337345       45340.33       55315.23\n",
       "8       5.047530    26.142470       57849.23       42398.57\n",
       "9       5.388070    22.427024       51031.04       56241.57\n",
       "10      9.347349    41.892133       68657.91        3536.14\n",
       "11     10.930398    66.403049        4151.93      137416.93\n",
       "12      6.270209    47.869324      121837.56      158476.55\n",
       "13     12.395919    86.760150      146725.31      125731.51\n",
       "14      4.557712    22.948176      119287.76       21834.49\n",
       "15      4.200122    18.706055       20335.03       39609.55\n",
       "16     10.252870    44.041177      110552.94      204038.87\n",
       "17     12.076785    62.199004      204237.78       15689.80\n",
       "18      3.725095    14.251810       16939.15       48545.69\n",
       "19      3.210727    16.043269       55498.12       16320.74\n",
       "20      6.290971    25.191171       15983.98       53182.55\n",
       "21      7.434821    31.753066       71758.66       30402.43\n",
       "22      4.376225    23.161451       62988.17       47217.40\n",
       "23     12.988913    48.820741       29637.75        6367.76\n",
       "24     11.697456    73.231504       48759.71      329252.09\n",
       "25      5.965175    23.450334       89736.70      332976.05\n",
       "26      3.945223    14.144793        5577.61      234926.02\n",
       "27      7.369585    36.408528      310035.66      151934.45\n",
       "28      7.343509    36.171862      310718.21      314068.92\n",
       "29     12.350027    59.893478      258284.84       61847.52\n",
       "..           ...          ...            ...            ...\n",
       "170     8.443932    37.407112       17232.45       19203.82\n",
       "171     5.151964    20.698042       21340.78       25302.92\n",
       "172     6.537069    22.888219       16617.85       18650.96\n",
       "173     8.500445    27.507729       21711.71       14626.29\n",
       "174     3.931543    21.811659       28128.95       46323.73\n",
       "175     6.163689    25.428521       21803.20      535381.86\n",
       "176     4.904447    19.568317       12517.29      812011.78\n",
       "177     7.402413    26.935335       53988.92      206247.57\n",
       "178    47.503269   235.730678      555707.40        6402.78\n",
       "179    55.739180   268.869600     1082136.01      100765.67\n",
       "180    11.840780    56.433388      192089.46       20098.61\n",
       "181     7.002294    26.440917        5574.99       68230.36\n",
       "182     8.753142    45.293847       80241.27      596063.00\n",
       "183     3.147741    15.594552       27043.54       87471.43\n",
       "184     7.196779    27.288652       61977.54      431990.70\n",
       "185    76.203692   367.225653      977772.62      136717.57\n",
       "186    10.804337    42.031199       41905.18       30008.81\n",
       "187    10.705327    45.891477       87839.45       19420.34\n",
       "188    51.800686   255.153235      445058.32      274752.60\n",
       "189     5.882779    27.512271      127495.18       10315.35\n",
       "190     6.686406    26.103097       23874.67       45252.42\n",
       "191     5.833355    23.741603       21535.87      433832.28\n",
       "192    45.556096   218.008350      276096.18       74215.43\n",
       "193     5.172606    21.548782        8506.79       78137.29\n",
       "194    10.118018    46.700709       49163.01       83915.72\n",
       "195    51.675537   233.533189      434110.57      372240.72\n",
       "196     2.794631    11.996118       73789.38      148021.90\n",
       "197     7.611698    38.809973       88006.84       31184.18\n",
       "198    15.697651   105.035207      117958.96       33324.36\n",
       "199    50.275893   225.055138      407738.79       32079.13\n",
       "\n",
       "[200 rows x 4 columns]"
      ]
     },
     "execution_count": 44,
     "metadata": {},
     "output_type": "execute_result"
    }
   ],
   "source": [
    "import numpy as np\n",
    "import scipy.stats as stats\n",
    "import csv\n",
    "import seaborn as sns\n",
    "%matplotlib inline\n",
    "\n",
    "\n",
    "sales_info= pd.read_csv('/Users/samanthafalk/GA-DSI/Week_Two/2.3-data-cleaning/assets/datasets/sales_info.csv')\n",
    "\n",
    "sales_info\n",
    "\n",
    "\n"
   ]
  },
  {
   "cell_type": "code",
   "execution_count": 45,
   "metadata": {
    "collapsed": false
   },
   "outputs": [
    {
     "data": {
      "text/plain": [
       "volume_sold      float64\n",
       "2015_margin      float64\n",
       "2015_q1_sales    float64\n",
       "2016_q1_sales    float64\n",
       "dtype: object"
      ]
     },
     "execution_count": 45,
     "metadata": {},
     "output_type": "execute_result"
    }
   ],
   "source": [
    "sales_info.dtypes"
   ]
  },
  {
   "cell_type": "code",
   "execution_count": 72,
   "metadata": {
    "collapsed": false
   },
   "outputs": [
    {
     "data": {
      "text/plain": [
       "0      18.420760\n",
       "1       4.776510\n",
       "2      16.602401\n",
       "3       4.296111\n",
       "4       8.156023\n",
       "5       5.005122\n",
       "6      14.606750\n",
       "7       4.456466\n",
       "8       5.047530\n",
       "9       5.388070\n",
       "10      9.347349\n",
       "11     10.930398\n",
       "12      6.270209\n",
       "13     12.395919\n",
       "14      4.557712\n",
       "15      4.200122\n",
       "16     10.252870\n",
       "17     12.076785\n",
       "18      3.725095\n",
       "19      3.210727\n",
       "20      6.290971\n",
       "21      7.434821\n",
       "22      4.376225\n",
       "23     12.988913\n",
       "24     11.697456\n",
       "25      5.965175\n",
       "26      3.945223\n",
       "27      7.369585\n",
       "28      7.343509\n",
       "29     12.350027\n",
       "         ...    \n",
       "170     8.443932\n",
       "171     5.151964\n",
       "172     6.537069\n",
       "173     8.500445\n",
       "174     3.931543\n",
       "175     6.163689\n",
       "176     4.904447\n",
       "177     7.402413\n",
       "178    47.503269\n",
       "179    55.739180\n",
       "180    11.840780\n",
       "181     7.002294\n",
       "182     8.753142\n",
       "183     3.147741\n",
       "184     7.196779\n",
       "185    76.203692\n",
       "186    10.804337\n",
       "187    10.705327\n",
       "188    51.800686\n",
       "189     5.882779\n",
       "190     6.686406\n",
       "191     5.833355\n",
       "192    45.556096\n",
       "193     5.172606\n",
       "194    10.118018\n",
       "195    51.675537\n",
       "196     2.794631\n",
       "197     7.611698\n",
       "198    15.697651\n",
       "199    50.275893\n",
       "Name: volume_sold, dtype: float64"
      ]
     },
     "execution_count": 72,
     "metadata": {},
     "output_type": "execute_result"
    }
   ],
   "source": [
    "sales_info.iloc[0:,0]"
   ]
  },
  {
   "cell_type": "code",
   "execution_count": 74,
   "metadata": {
    "collapsed": false,
    "scrolled": true
   },
   "outputs": [
    {
     "data": {
      "text/plain": [
       "0      19.420760\n",
       "1       5.776510\n",
       "2      17.602401\n",
       "3       5.296111\n",
       "4       9.156023\n",
       "5       6.005122\n",
       "6      15.606750\n",
       "7       5.456466\n",
       "8       6.047530\n",
       "9       6.388070\n",
       "10     10.347349\n",
       "11     11.930398\n",
       "12      7.270209\n",
       "13     13.395919\n",
       "14      5.557712\n",
       "15      5.200122\n",
       "16     11.252870\n",
       "17     13.076785\n",
       "18      4.725095\n",
       "19      4.210727\n",
       "20      7.290971\n",
       "21      8.434821\n",
       "22      5.376225\n",
       "23     13.988913\n",
       "24     12.697456\n",
       "25      6.965175\n",
       "26      4.945223\n",
       "27      8.369585\n",
       "28      8.343509\n",
       "29     13.350027\n",
       "         ...    \n",
       "170     9.443932\n",
       "171     6.151964\n",
       "172     7.537069\n",
       "173     9.500445\n",
       "174     4.931543\n",
       "175     7.163689\n",
       "176     5.904447\n",
       "177     8.402413\n",
       "178    48.503269\n",
       "179    56.739180\n",
       "180    12.840780\n",
       "181     8.002294\n",
       "182     9.753142\n",
       "183     4.147741\n",
       "184     8.196779\n",
       "185    77.203692\n",
       "186    11.804337\n",
       "187    11.705327\n",
       "188    52.800686\n",
       "189     6.882779\n",
       "190     7.686406\n",
       "191     6.833355\n",
       "192    46.556096\n",
       "193     6.172606\n",
       "194    11.118018\n",
       "195    52.675537\n",
       "196     3.794631\n",
       "197     8.611698\n",
       "198    16.697651\n",
       "199    51.275893\n",
       "Name: volume_sold, dtype: float64"
      ]
     },
     "execution_count": 74,
     "metadata": {},
     "output_type": "execute_result"
    }
   ],
   "source": [
    "sales_info.iloc[0:,0].map(add_one)"
   ]
  },
  {
   "cell_type": "code",
   "execution_count": 75,
   "metadata": {
    "collapsed": false
   },
   "outputs": [
    {
     "data": {
      "text/html": [
       "<div>\n",
       "<table border=\"1\" class=\"dataframe\">\n",
       "  <thead>\n",
       "    <tr style=\"text-align: right;\">\n",
       "      <th></th>\n",
       "      <th>volume_sold</th>\n",
       "      <th>2015_margin</th>\n",
       "      <th>2015_q1_sales</th>\n",
       "      <th>2016_q1_sales</th>\n",
       "    </tr>\n",
       "  </thead>\n",
       "  <tbody>\n",
       "    <tr>\n",
       "      <th>0</th>\n",
       "      <td>18.420760</td>\n",
       "      <td>93.802281</td>\n",
       "      <td>337166.53</td>\n",
       "      <td>337804.05</td>\n",
       "    </tr>\n",
       "    <tr>\n",
       "      <th>1</th>\n",
       "      <td>4.776510</td>\n",
       "      <td>21.082425</td>\n",
       "      <td>22351.86</td>\n",
       "      <td>21736.63</td>\n",
       "    </tr>\n",
       "    <tr>\n",
       "      <th>2</th>\n",
       "      <td>16.602401</td>\n",
       "      <td>93.612494</td>\n",
       "      <td>277764.46</td>\n",
       "      <td>306942.27</td>\n",
       "    </tr>\n",
       "    <tr>\n",
       "      <th>3</th>\n",
       "      <td>4.296111</td>\n",
       "      <td>16.824704</td>\n",
       "      <td>16805.11</td>\n",
       "      <td>9307.75</td>\n",
       "    </tr>\n",
       "    <tr>\n",
       "      <th>4</th>\n",
       "      <td>8.156023</td>\n",
       "      <td>35.011457</td>\n",
       "      <td>54411.42</td>\n",
       "      <td>58939.90</td>\n",
       "    </tr>\n",
       "    <tr>\n",
       "      <th>5</th>\n",
       "      <td>5.005122</td>\n",
       "      <td>31.877437</td>\n",
       "      <td>255939.81</td>\n",
       "      <td>332979.03</td>\n",
       "    </tr>\n",
       "    <tr>\n",
       "      <th>6</th>\n",
       "      <td>14.606750</td>\n",
       "      <td>76.518973</td>\n",
       "      <td>319020.69</td>\n",
       "      <td>302592.88</td>\n",
       "    </tr>\n",
       "    <tr>\n",
       "      <th>7</th>\n",
       "      <td>4.456466</td>\n",
       "      <td>19.337345</td>\n",
       "      <td>45340.33</td>\n",
       "      <td>55315.23</td>\n",
       "    </tr>\n",
       "    <tr>\n",
       "      <th>8</th>\n",
       "      <td>5.047530</td>\n",
       "      <td>26.142470</td>\n",
       "      <td>57849.23</td>\n",
       "      <td>42398.57</td>\n",
       "    </tr>\n",
       "    <tr>\n",
       "      <th>9</th>\n",
       "      <td>5.388070</td>\n",
       "      <td>22.427024</td>\n",
       "      <td>51031.04</td>\n",
       "      <td>56241.57</td>\n",
       "    </tr>\n",
       "    <tr>\n",
       "      <th>10</th>\n",
       "      <td>9.347349</td>\n",
       "      <td>41.892133</td>\n",
       "      <td>68657.91</td>\n",
       "      <td>3536.14</td>\n",
       "    </tr>\n",
       "    <tr>\n",
       "      <th>11</th>\n",
       "      <td>10.930398</td>\n",
       "      <td>66.403049</td>\n",
       "      <td>4151.93</td>\n",
       "      <td>137416.93</td>\n",
       "    </tr>\n",
       "    <tr>\n",
       "      <th>12</th>\n",
       "      <td>6.270209</td>\n",
       "      <td>47.869324</td>\n",
       "      <td>121837.56</td>\n",
       "      <td>158476.55</td>\n",
       "    </tr>\n",
       "    <tr>\n",
       "      <th>13</th>\n",
       "      <td>12.395919</td>\n",
       "      <td>86.760150</td>\n",
       "      <td>146725.31</td>\n",
       "      <td>125731.51</td>\n",
       "    </tr>\n",
       "    <tr>\n",
       "      <th>14</th>\n",
       "      <td>4.557712</td>\n",
       "      <td>22.948176</td>\n",
       "      <td>119287.76</td>\n",
       "      <td>21834.49</td>\n",
       "    </tr>\n",
       "    <tr>\n",
       "      <th>15</th>\n",
       "      <td>4.200122</td>\n",
       "      <td>18.706055</td>\n",
       "      <td>20335.03</td>\n",
       "      <td>39609.55</td>\n",
       "    </tr>\n",
       "    <tr>\n",
       "      <th>16</th>\n",
       "      <td>10.252870</td>\n",
       "      <td>44.041177</td>\n",
       "      <td>110552.94</td>\n",
       "      <td>204038.87</td>\n",
       "    </tr>\n",
       "    <tr>\n",
       "      <th>17</th>\n",
       "      <td>12.076785</td>\n",
       "      <td>62.199004</td>\n",
       "      <td>204237.78</td>\n",
       "      <td>15689.80</td>\n",
       "    </tr>\n",
       "    <tr>\n",
       "      <th>18</th>\n",
       "      <td>3.725095</td>\n",
       "      <td>14.251810</td>\n",
       "      <td>16939.15</td>\n",
       "      <td>48545.69</td>\n",
       "    </tr>\n",
       "    <tr>\n",
       "      <th>19</th>\n",
       "      <td>3.210727</td>\n",
       "      <td>16.043269</td>\n",
       "      <td>55498.12</td>\n",
       "      <td>16320.74</td>\n",
       "    </tr>\n",
       "    <tr>\n",
       "      <th>20</th>\n",
       "      <td>6.290971</td>\n",
       "      <td>25.191171</td>\n",
       "      <td>15983.98</td>\n",
       "      <td>53182.55</td>\n",
       "    </tr>\n",
       "    <tr>\n",
       "      <th>21</th>\n",
       "      <td>7.434821</td>\n",
       "      <td>31.753066</td>\n",
       "      <td>71758.66</td>\n",
       "      <td>30402.43</td>\n",
       "    </tr>\n",
       "    <tr>\n",
       "      <th>22</th>\n",
       "      <td>4.376225</td>\n",
       "      <td>23.161451</td>\n",
       "      <td>62988.17</td>\n",
       "      <td>47217.40</td>\n",
       "    </tr>\n",
       "    <tr>\n",
       "      <th>23</th>\n",
       "      <td>12.988913</td>\n",
       "      <td>48.820741</td>\n",
       "      <td>29637.75</td>\n",
       "      <td>6367.76</td>\n",
       "    </tr>\n",
       "    <tr>\n",
       "      <th>24</th>\n",
       "      <td>11.697456</td>\n",
       "      <td>73.231504</td>\n",
       "      <td>48759.71</td>\n",
       "      <td>329252.09</td>\n",
       "    </tr>\n",
       "    <tr>\n",
       "      <th>25</th>\n",
       "      <td>5.965175</td>\n",
       "      <td>23.450334</td>\n",
       "      <td>89736.70</td>\n",
       "      <td>332976.05</td>\n",
       "    </tr>\n",
       "    <tr>\n",
       "      <th>26</th>\n",
       "      <td>3.945223</td>\n",
       "      <td>14.144793</td>\n",
       "      <td>5577.61</td>\n",
       "      <td>234926.02</td>\n",
       "    </tr>\n",
       "    <tr>\n",
       "      <th>27</th>\n",
       "      <td>7.369585</td>\n",
       "      <td>36.408528</td>\n",
       "      <td>310035.66</td>\n",
       "      <td>151934.45</td>\n",
       "    </tr>\n",
       "    <tr>\n",
       "      <th>28</th>\n",
       "      <td>7.343509</td>\n",
       "      <td>36.171862</td>\n",
       "      <td>310718.21</td>\n",
       "      <td>314068.92</td>\n",
       "    </tr>\n",
       "    <tr>\n",
       "      <th>29</th>\n",
       "      <td>12.350027</td>\n",
       "      <td>59.893478</td>\n",
       "      <td>258284.84</td>\n",
       "      <td>61847.52</td>\n",
       "    </tr>\n",
       "    <tr>\n",
       "      <th>...</th>\n",
       "      <td>...</td>\n",
       "      <td>...</td>\n",
       "      <td>...</td>\n",
       "      <td>...</td>\n",
       "    </tr>\n",
       "    <tr>\n",
       "      <th>170</th>\n",
       "      <td>8.443932</td>\n",
       "      <td>37.407112</td>\n",
       "      <td>17232.45</td>\n",
       "      <td>19203.82</td>\n",
       "    </tr>\n",
       "    <tr>\n",
       "      <th>171</th>\n",
       "      <td>5.151964</td>\n",
       "      <td>20.698042</td>\n",
       "      <td>21340.78</td>\n",
       "      <td>25302.92</td>\n",
       "    </tr>\n",
       "    <tr>\n",
       "      <th>172</th>\n",
       "      <td>6.537069</td>\n",
       "      <td>22.888219</td>\n",
       "      <td>16617.85</td>\n",
       "      <td>18650.96</td>\n",
       "    </tr>\n",
       "    <tr>\n",
       "      <th>173</th>\n",
       "      <td>8.500445</td>\n",
       "      <td>27.507729</td>\n",
       "      <td>21711.71</td>\n",
       "      <td>14626.29</td>\n",
       "    </tr>\n",
       "    <tr>\n",
       "      <th>174</th>\n",
       "      <td>3.931543</td>\n",
       "      <td>21.811659</td>\n",
       "      <td>28128.95</td>\n",
       "      <td>46323.73</td>\n",
       "    </tr>\n",
       "    <tr>\n",
       "      <th>175</th>\n",
       "      <td>6.163689</td>\n",
       "      <td>25.428521</td>\n",
       "      <td>21803.20</td>\n",
       "      <td>535381.86</td>\n",
       "    </tr>\n",
       "    <tr>\n",
       "      <th>176</th>\n",
       "      <td>4.904447</td>\n",
       "      <td>19.568317</td>\n",
       "      <td>12517.29</td>\n",
       "      <td>812011.78</td>\n",
       "    </tr>\n",
       "    <tr>\n",
       "      <th>177</th>\n",
       "      <td>7.402413</td>\n",
       "      <td>26.935335</td>\n",
       "      <td>53988.92</td>\n",
       "      <td>206247.57</td>\n",
       "    </tr>\n",
       "    <tr>\n",
       "      <th>178</th>\n",
       "      <td>47.503269</td>\n",
       "      <td>235.730678</td>\n",
       "      <td>555707.40</td>\n",
       "      <td>6402.78</td>\n",
       "    </tr>\n",
       "    <tr>\n",
       "      <th>179</th>\n",
       "      <td>55.739180</td>\n",
       "      <td>268.869600</td>\n",
       "      <td>1082136.01</td>\n",
       "      <td>100765.67</td>\n",
       "    </tr>\n",
       "    <tr>\n",
       "      <th>180</th>\n",
       "      <td>11.840780</td>\n",
       "      <td>56.433388</td>\n",
       "      <td>192089.46</td>\n",
       "      <td>20098.61</td>\n",
       "    </tr>\n",
       "    <tr>\n",
       "      <th>181</th>\n",
       "      <td>7.002294</td>\n",
       "      <td>26.440917</td>\n",
       "      <td>5574.99</td>\n",
       "      <td>68230.36</td>\n",
       "    </tr>\n",
       "    <tr>\n",
       "      <th>182</th>\n",
       "      <td>8.753142</td>\n",
       "      <td>45.293847</td>\n",
       "      <td>80241.27</td>\n",
       "      <td>596063.00</td>\n",
       "    </tr>\n",
       "    <tr>\n",
       "      <th>183</th>\n",
       "      <td>3.147741</td>\n",
       "      <td>15.594552</td>\n",
       "      <td>27043.54</td>\n",
       "      <td>87471.43</td>\n",
       "    </tr>\n",
       "    <tr>\n",
       "      <th>184</th>\n",
       "      <td>7.196779</td>\n",
       "      <td>27.288652</td>\n",
       "      <td>61977.54</td>\n",
       "      <td>431990.70</td>\n",
       "    </tr>\n",
       "    <tr>\n",
       "      <th>185</th>\n",
       "      <td>76.203692</td>\n",
       "      <td>367.225653</td>\n",
       "      <td>977772.62</td>\n",
       "      <td>136717.57</td>\n",
       "    </tr>\n",
       "    <tr>\n",
       "      <th>186</th>\n",
       "      <td>10.804337</td>\n",
       "      <td>42.031199</td>\n",
       "      <td>41905.18</td>\n",
       "      <td>30008.81</td>\n",
       "    </tr>\n",
       "    <tr>\n",
       "      <th>187</th>\n",
       "      <td>10.705327</td>\n",
       "      <td>45.891477</td>\n",
       "      <td>87839.45</td>\n",
       "      <td>19420.34</td>\n",
       "    </tr>\n",
       "    <tr>\n",
       "      <th>188</th>\n",
       "      <td>51.800686</td>\n",
       "      <td>255.153235</td>\n",
       "      <td>445058.32</td>\n",
       "      <td>274752.60</td>\n",
       "    </tr>\n",
       "    <tr>\n",
       "      <th>189</th>\n",
       "      <td>5.882779</td>\n",
       "      <td>27.512271</td>\n",
       "      <td>127495.18</td>\n",
       "      <td>10315.35</td>\n",
       "    </tr>\n",
       "    <tr>\n",
       "      <th>190</th>\n",
       "      <td>6.686406</td>\n",
       "      <td>26.103097</td>\n",
       "      <td>23874.67</td>\n",
       "      <td>45252.42</td>\n",
       "    </tr>\n",
       "    <tr>\n",
       "      <th>191</th>\n",
       "      <td>5.833355</td>\n",
       "      <td>23.741603</td>\n",
       "      <td>21535.87</td>\n",
       "      <td>433832.28</td>\n",
       "    </tr>\n",
       "    <tr>\n",
       "      <th>192</th>\n",
       "      <td>45.556096</td>\n",
       "      <td>218.008350</td>\n",
       "      <td>276096.18</td>\n",
       "      <td>74215.43</td>\n",
       "    </tr>\n",
       "    <tr>\n",
       "      <th>193</th>\n",
       "      <td>5.172606</td>\n",
       "      <td>21.548782</td>\n",
       "      <td>8506.79</td>\n",
       "      <td>78137.29</td>\n",
       "    </tr>\n",
       "    <tr>\n",
       "      <th>194</th>\n",
       "      <td>10.118018</td>\n",
       "      <td>46.700709</td>\n",
       "      <td>49163.01</td>\n",
       "      <td>83915.72</td>\n",
       "    </tr>\n",
       "    <tr>\n",
       "      <th>195</th>\n",
       "      <td>51.675537</td>\n",
       "      <td>233.533189</td>\n",
       "      <td>434110.57</td>\n",
       "      <td>372240.72</td>\n",
       "    </tr>\n",
       "    <tr>\n",
       "      <th>196</th>\n",
       "      <td>2.794631</td>\n",
       "      <td>11.996118</td>\n",
       "      <td>73789.38</td>\n",
       "      <td>148021.90</td>\n",
       "    </tr>\n",
       "    <tr>\n",
       "      <th>197</th>\n",
       "      <td>7.611698</td>\n",
       "      <td>38.809973</td>\n",
       "      <td>88006.84</td>\n",
       "      <td>31184.18</td>\n",
       "    </tr>\n",
       "    <tr>\n",
       "      <th>198</th>\n",
       "      <td>15.697651</td>\n",
       "      <td>105.035207</td>\n",
       "      <td>117958.96</td>\n",
       "      <td>33324.36</td>\n",
       "    </tr>\n",
       "    <tr>\n",
       "      <th>199</th>\n",
       "      <td>50.275893</td>\n",
       "      <td>225.055138</td>\n",
       "      <td>407738.79</td>\n",
       "      <td>32079.13</td>\n",
       "    </tr>\n",
       "  </tbody>\n",
       "</table>\n",
       "<p>200 rows × 4 columns</p>\n",
       "</div>"
      ],
      "text/plain": [
       "     volume_sold  2015_margin  2015_q1_sales  2016_q1_sales\n",
       "0      18.420760    93.802281      337166.53      337804.05\n",
       "1       4.776510    21.082425       22351.86       21736.63\n",
       "2      16.602401    93.612494      277764.46      306942.27\n",
       "3       4.296111    16.824704       16805.11        9307.75\n",
       "4       8.156023    35.011457       54411.42       58939.90\n",
       "5       5.005122    31.877437      255939.81      332979.03\n",
       "6      14.606750    76.518973      319020.69      302592.88\n",
       "7       4.456466    19.337345       45340.33       55315.23\n",
       "8       5.047530    26.142470       57849.23       42398.57\n",
       "9       5.388070    22.427024       51031.04       56241.57\n",
       "10      9.347349    41.892133       68657.91        3536.14\n",
       "11     10.930398    66.403049        4151.93      137416.93\n",
       "12      6.270209    47.869324      121837.56      158476.55\n",
       "13     12.395919    86.760150      146725.31      125731.51\n",
       "14      4.557712    22.948176      119287.76       21834.49\n",
       "15      4.200122    18.706055       20335.03       39609.55\n",
       "16     10.252870    44.041177      110552.94      204038.87\n",
       "17     12.076785    62.199004      204237.78       15689.80\n",
       "18      3.725095    14.251810       16939.15       48545.69\n",
       "19      3.210727    16.043269       55498.12       16320.74\n",
       "20      6.290971    25.191171       15983.98       53182.55\n",
       "21      7.434821    31.753066       71758.66       30402.43\n",
       "22      4.376225    23.161451       62988.17       47217.40\n",
       "23     12.988913    48.820741       29637.75        6367.76\n",
       "24     11.697456    73.231504       48759.71      329252.09\n",
       "25      5.965175    23.450334       89736.70      332976.05\n",
       "26      3.945223    14.144793        5577.61      234926.02\n",
       "27      7.369585    36.408528      310035.66      151934.45\n",
       "28      7.343509    36.171862      310718.21      314068.92\n",
       "29     12.350027    59.893478      258284.84       61847.52\n",
       "..           ...          ...            ...            ...\n",
       "170     8.443932    37.407112       17232.45       19203.82\n",
       "171     5.151964    20.698042       21340.78       25302.92\n",
       "172     6.537069    22.888219       16617.85       18650.96\n",
       "173     8.500445    27.507729       21711.71       14626.29\n",
       "174     3.931543    21.811659       28128.95       46323.73\n",
       "175     6.163689    25.428521       21803.20      535381.86\n",
       "176     4.904447    19.568317       12517.29      812011.78\n",
       "177     7.402413    26.935335       53988.92      206247.57\n",
       "178    47.503269   235.730678      555707.40        6402.78\n",
       "179    55.739180   268.869600     1082136.01      100765.67\n",
       "180    11.840780    56.433388      192089.46       20098.61\n",
       "181     7.002294    26.440917        5574.99       68230.36\n",
       "182     8.753142    45.293847       80241.27      596063.00\n",
       "183     3.147741    15.594552       27043.54       87471.43\n",
       "184     7.196779    27.288652       61977.54      431990.70\n",
       "185    76.203692   367.225653      977772.62      136717.57\n",
       "186    10.804337    42.031199       41905.18       30008.81\n",
       "187    10.705327    45.891477       87839.45       19420.34\n",
       "188    51.800686   255.153235      445058.32      274752.60\n",
       "189     5.882779    27.512271      127495.18       10315.35\n",
       "190     6.686406    26.103097       23874.67       45252.42\n",
       "191     5.833355    23.741603       21535.87      433832.28\n",
       "192    45.556096   218.008350      276096.18       74215.43\n",
       "193     5.172606    21.548782        8506.79       78137.29\n",
       "194    10.118018    46.700709       49163.01       83915.72\n",
       "195    51.675537   233.533189      434110.57      372240.72\n",
       "196     2.794631    11.996118       73789.38      148021.90\n",
       "197     7.611698    38.809973       88006.84       31184.18\n",
       "198    15.697651   105.035207      117958.96       33324.36\n",
       "199    50.275893   225.055138      407738.79       32079.13\n",
       "\n",
       "[200 rows x 4 columns]"
      ]
     },
     "execution_count": 75,
     "metadata": {},
     "output_type": "execute_result"
    }
   ],
   "source": [
    "sales_info"
   ]
  },
  {
   "cell_type": "code",
   "execution_count": null,
   "metadata": {
    "collapsed": true
   },
   "outputs": [],
   "source": []
  },
  {
   "cell_type": "code",
   "execution_count": 48,
   "metadata": {
    "collapsed": false,
    "scrolled": true
   },
   "outputs": [
    {
     "data": {
      "text/html": [
       "<div>\n",
       "<table border=\"1\" class=\"dataframe\">\n",
       "  <thead>\n",
       "    <tr style=\"text-align: right;\">\n",
       "      <th></th>\n",
       "      <th>volume_sold</th>\n",
       "      <th>2015_margin</th>\n",
       "      <th>2015_q1_sales</th>\n",
       "      <th>2016_q1_sales</th>\n",
       "    </tr>\n",
       "  </thead>\n",
       "  <tbody>\n",
       "    <tr>\n",
       "      <th>0</th>\n",
       "      <td>19.420760</td>\n",
       "      <td>94.802281</td>\n",
       "      <td>337167.53</td>\n",
       "      <td>337805.05</td>\n",
       "    </tr>\n",
       "    <tr>\n",
       "      <th>1</th>\n",
       "      <td>5.776510</td>\n",
       "      <td>22.082425</td>\n",
       "      <td>22352.86</td>\n",
       "      <td>21737.63</td>\n",
       "    </tr>\n",
       "    <tr>\n",
       "      <th>2</th>\n",
       "      <td>17.602401</td>\n",
       "      <td>94.612494</td>\n",
       "      <td>277765.46</td>\n",
       "      <td>306943.27</td>\n",
       "    </tr>\n",
       "    <tr>\n",
       "      <th>3</th>\n",
       "      <td>5.296111</td>\n",
       "      <td>17.824704</td>\n",
       "      <td>16806.11</td>\n",
       "      <td>9308.75</td>\n",
       "    </tr>\n",
       "    <tr>\n",
       "      <th>4</th>\n",
       "      <td>9.156023</td>\n",
       "      <td>36.011457</td>\n",
       "      <td>54412.42</td>\n",
       "      <td>58940.90</td>\n",
       "    </tr>\n",
       "    <tr>\n",
       "      <th>5</th>\n",
       "      <td>6.005122</td>\n",
       "      <td>32.877437</td>\n",
       "      <td>255940.81</td>\n",
       "      <td>332980.03</td>\n",
       "    </tr>\n",
       "    <tr>\n",
       "      <th>6</th>\n",
       "      <td>15.606750</td>\n",
       "      <td>77.518973</td>\n",
       "      <td>319021.69</td>\n",
       "      <td>302593.88</td>\n",
       "    </tr>\n",
       "    <tr>\n",
       "      <th>7</th>\n",
       "      <td>5.456466</td>\n",
       "      <td>20.337345</td>\n",
       "      <td>45341.33</td>\n",
       "      <td>55316.23</td>\n",
       "    </tr>\n",
       "    <tr>\n",
       "      <th>8</th>\n",
       "      <td>6.047530</td>\n",
       "      <td>27.142470</td>\n",
       "      <td>57850.23</td>\n",
       "      <td>42399.57</td>\n",
       "    </tr>\n",
       "    <tr>\n",
       "      <th>9</th>\n",
       "      <td>6.388070</td>\n",
       "      <td>23.427024</td>\n",
       "      <td>51032.04</td>\n",
       "      <td>56242.57</td>\n",
       "    </tr>\n",
       "    <tr>\n",
       "      <th>10</th>\n",
       "      <td>10.347349</td>\n",
       "      <td>42.892133</td>\n",
       "      <td>68658.91</td>\n",
       "      <td>3537.14</td>\n",
       "    </tr>\n",
       "    <tr>\n",
       "      <th>11</th>\n",
       "      <td>11.930398</td>\n",
       "      <td>67.403049</td>\n",
       "      <td>4152.93</td>\n",
       "      <td>137417.93</td>\n",
       "    </tr>\n",
       "    <tr>\n",
       "      <th>12</th>\n",
       "      <td>7.270209</td>\n",
       "      <td>48.869324</td>\n",
       "      <td>121838.56</td>\n",
       "      <td>158477.55</td>\n",
       "    </tr>\n",
       "    <tr>\n",
       "      <th>13</th>\n",
       "      <td>13.395919</td>\n",
       "      <td>87.760150</td>\n",
       "      <td>146726.31</td>\n",
       "      <td>125732.51</td>\n",
       "    </tr>\n",
       "    <tr>\n",
       "      <th>14</th>\n",
       "      <td>5.557712</td>\n",
       "      <td>23.948176</td>\n",
       "      <td>119288.76</td>\n",
       "      <td>21835.49</td>\n",
       "    </tr>\n",
       "    <tr>\n",
       "      <th>15</th>\n",
       "      <td>5.200122</td>\n",
       "      <td>19.706055</td>\n",
       "      <td>20336.03</td>\n",
       "      <td>39610.55</td>\n",
       "    </tr>\n",
       "    <tr>\n",
       "      <th>16</th>\n",
       "      <td>11.252870</td>\n",
       "      <td>45.041177</td>\n",
       "      <td>110553.94</td>\n",
       "      <td>204039.87</td>\n",
       "    </tr>\n",
       "    <tr>\n",
       "      <th>17</th>\n",
       "      <td>13.076785</td>\n",
       "      <td>63.199004</td>\n",
       "      <td>204238.78</td>\n",
       "      <td>15690.80</td>\n",
       "    </tr>\n",
       "    <tr>\n",
       "      <th>18</th>\n",
       "      <td>4.725095</td>\n",
       "      <td>15.251810</td>\n",
       "      <td>16940.15</td>\n",
       "      <td>48546.69</td>\n",
       "    </tr>\n",
       "    <tr>\n",
       "      <th>19</th>\n",
       "      <td>4.210727</td>\n",
       "      <td>17.043269</td>\n",
       "      <td>55499.12</td>\n",
       "      <td>16321.74</td>\n",
       "    </tr>\n",
       "    <tr>\n",
       "      <th>20</th>\n",
       "      <td>7.290971</td>\n",
       "      <td>26.191171</td>\n",
       "      <td>15984.98</td>\n",
       "      <td>53183.55</td>\n",
       "    </tr>\n",
       "    <tr>\n",
       "      <th>21</th>\n",
       "      <td>8.434821</td>\n",
       "      <td>32.753066</td>\n",
       "      <td>71759.66</td>\n",
       "      <td>30403.43</td>\n",
       "    </tr>\n",
       "    <tr>\n",
       "      <th>22</th>\n",
       "      <td>5.376225</td>\n",
       "      <td>24.161451</td>\n",
       "      <td>62989.17</td>\n",
       "      <td>47218.40</td>\n",
       "    </tr>\n",
       "    <tr>\n",
       "      <th>23</th>\n",
       "      <td>13.988913</td>\n",
       "      <td>49.820741</td>\n",
       "      <td>29638.75</td>\n",
       "      <td>6368.76</td>\n",
       "    </tr>\n",
       "    <tr>\n",
       "      <th>24</th>\n",
       "      <td>12.697456</td>\n",
       "      <td>74.231504</td>\n",
       "      <td>48760.71</td>\n",
       "      <td>329253.09</td>\n",
       "    </tr>\n",
       "    <tr>\n",
       "      <th>25</th>\n",
       "      <td>6.965175</td>\n",
       "      <td>24.450334</td>\n",
       "      <td>89737.70</td>\n",
       "      <td>332977.05</td>\n",
       "    </tr>\n",
       "    <tr>\n",
       "      <th>26</th>\n",
       "      <td>4.945223</td>\n",
       "      <td>15.144793</td>\n",
       "      <td>5578.61</td>\n",
       "      <td>234927.02</td>\n",
       "    </tr>\n",
       "    <tr>\n",
       "      <th>27</th>\n",
       "      <td>8.369585</td>\n",
       "      <td>37.408528</td>\n",
       "      <td>310036.66</td>\n",
       "      <td>151935.45</td>\n",
       "    </tr>\n",
       "    <tr>\n",
       "      <th>28</th>\n",
       "      <td>8.343509</td>\n",
       "      <td>37.171862</td>\n",
       "      <td>310719.21</td>\n",
       "      <td>314069.92</td>\n",
       "    </tr>\n",
       "    <tr>\n",
       "      <th>29</th>\n",
       "      <td>13.350027</td>\n",
       "      <td>60.893478</td>\n",
       "      <td>258285.84</td>\n",
       "      <td>61848.52</td>\n",
       "    </tr>\n",
       "    <tr>\n",
       "      <th>...</th>\n",
       "      <td>...</td>\n",
       "      <td>...</td>\n",
       "      <td>...</td>\n",
       "      <td>...</td>\n",
       "    </tr>\n",
       "    <tr>\n",
       "      <th>170</th>\n",
       "      <td>9.443932</td>\n",
       "      <td>38.407112</td>\n",
       "      <td>17233.45</td>\n",
       "      <td>19204.82</td>\n",
       "    </tr>\n",
       "    <tr>\n",
       "      <th>171</th>\n",
       "      <td>6.151964</td>\n",
       "      <td>21.698042</td>\n",
       "      <td>21341.78</td>\n",
       "      <td>25303.92</td>\n",
       "    </tr>\n",
       "    <tr>\n",
       "      <th>172</th>\n",
       "      <td>7.537069</td>\n",
       "      <td>23.888219</td>\n",
       "      <td>16618.85</td>\n",
       "      <td>18651.96</td>\n",
       "    </tr>\n",
       "    <tr>\n",
       "      <th>173</th>\n",
       "      <td>9.500445</td>\n",
       "      <td>28.507729</td>\n",
       "      <td>21712.71</td>\n",
       "      <td>14627.29</td>\n",
       "    </tr>\n",
       "    <tr>\n",
       "      <th>174</th>\n",
       "      <td>4.931543</td>\n",
       "      <td>22.811659</td>\n",
       "      <td>28129.95</td>\n",
       "      <td>46324.73</td>\n",
       "    </tr>\n",
       "    <tr>\n",
       "      <th>175</th>\n",
       "      <td>7.163689</td>\n",
       "      <td>26.428521</td>\n",
       "      <td>21804.20</td>\n",
       "      <td>535382.86</td>\n",
       "    </tr>\n",
       "    <tr>\n",
       "      <th>176</th>\n",
       "      <td>5.904447</td>\n",
       "      <td>20.568317</td>\n",
       "      <td>12518.29</td>\n",
       "      <td>812012.78</td>\n",
       "    </tr>\n",
       "    <tr>\n",
       "      <th>177</th>\n",
       "      <td>8.402413</td>\n",
       "      <td>27.935335</td>\n",
       "      <td>53989.92</td>\n",
       "      <td>206248.57</td>\n",
       "    </tr>\n",
       "    <tr>\n",
       "      <th>178</th>\n",
       "      <td>48.503269</td>\n",
       "      <td>236.730678</td>\n",
       "      <td>555708.40</td>\n",
       "      <td>6403.78</td>\n",
       "    </tr>\n",
       "    <tr>\n",
       "      <th>179</th>\n",
       "      <td>56.739180</td>\n",
       "      <td>269.869600</td>\n",
       "      <td>1082137.01</td>\n",
       "      <td>100766.67</td>\n",
       "    </tr>\n",
       "    <tr>\n",
       "      <th>180</th>\n",
       "      <td>12.840780</td>\n",
       "      <td>57.433388</td>\n",
       "      <td>192090.46</td>\n",
       "      <td>20099.61</td>\n",
       "    </tr>\n",
       "    <tr>\n",
       "      <th>181</th>\n",
       "      <td>8.002294</td>\n",
       "      <td>27.440917</td>\n",
       "      <td>5575.99</td>\n",
       "      <td>68231.36</td>\n",
       "    </tr>\n",
       "    <tr>\n",
       "      <th>182</th>\n",
       "      <td>9.753142</td>\n",
       "      <td>46.293847</td>\n",
       "      <td>80242.27</td>\n",
       "      <td>596064.00</td>\n",
       "    </tr>\n",
       "    <tr>\n",
       "      <th>183</th>\n",
       "      <td>4.147741</td>\n",
       "      <td>16.594552</td>\n",
       "      <td>27044.54</td>\n",
       "      <td>87472.43</td>\n",
       "    </tr>\n",
       "    <tr>\n",
       "      <th>184</th>\n",
       "      <td>8.196779</td>\n",
       "      <td>28.288652</td>\n",
       "      <td>61978.54</td>\n",
       "      <td>431991.70</td>\n",
       "    </tr>\n",
       "    <tr>\n",
       "      <th>185</th>\n",
       "      <td>77.203692</td>\n",
       "      <td>368.225653</td>\n",
       "      <td>977773.62</td>\n",
       "      <td>136718.57</td>\n",
       "    </tr>\n",
       "    <tr>\n",
       "      <th>186</th>\n",
       "      <td>11.804337</td>\n",
       "      <td>43.031199</td>\n",
       "      <td>41906.18</td>\n",
       "      <td>30009.81</td>\n",
       "    </tr>\n",
       "    <tr>\n",
       "      <th>187</th>\n",
       "      <td>11.705327</td>\n",
       "      <td>46.891477</td>\n",
       "      <td>87840.45</td>\n",
       "      <td>19421.34</td>\n",
       "    </tr>\n",
       "    <tr>\n",
       "      <th>188</th>\n",
       "      <td>52.800686</td>\n",
       "      <td>256.153235</td>\n",
       "      <td>445059.32</td>\n",
       "      <td>274753.60</td>\n",
       "    </tr>\n",
       "    <tr>\n",
       "      <th>189</th>\n",
       "      <td>6.882779</td>\n",
       "      <td>28.512271</td>\n",
       "      <td>127496.18</td>\n",
       "      <td>10316.35</td>\n",
       "    </tr>\n",
       "    <tr>\n",
       "      <th>190</th>\n",
       "      <td>7.686406</td>\n",
       "      <td>27.103097</td>\n",
       "      <td>23875.67</td>\n",
       "      <td>45253.42</td>\n",
       "    </tr>\n",
       "    <tr>\n",
       "      <th>191</th>\n",
       "      <td>6.833355</td>\n",
       "      <td>24.741603</td>\n",
       "      <td>21536.87</td>\n",
       "      <td>433833.28</td>\n",
       "    </tr>\n",
       "    <tr>\n",
       "      <th>192</th>\n",
       "      <td>46.556096</td>\n",
       "      <td>219.008350</td>\n",
       "      <td>276097.18</td>\n",
       "      <td>74216.43</td>\n",
       "    </tr>\n",
       "    <tr>\n",
       "      <th>193</th>\n",
       "      <td>6.172606</td>\n",
       "      <td>22.548782</td>\n",
       "      <td>8507.79</td>\n",
       "      <td>78138.29</td>\n",
       "    </tr>\n",
       "    <tr>\n",
       "      <th>194</th>\n",
       "      <td>11.118018</td>\n",
       "      <td>47.700709</td>\n",
       "      <td>49164.01</td>\n",
       "      <td>83916.72</td>\n",
       "    </tr>\n",
       "    <tr>\n",
       "      <th>195</th>\n",
       "      <td>52.675537</td>\n",
       "      <td>234.533189</td>\n",
       "      <td>434111.57</td>\n",
       "      <td>372241.72</td>\n",
       "    </tr>\n",
       "    <tr>\n",
       "      <th>196</th>\n",
       "      <td>3.794631</td>\n",
       "      <td>12.996118</td>\n",
       "      <td>73790.38</td>\n",
       "      <td>148022.90</td>\n",
       "    </tr>\n",
       "    <tr>\n",
       "      <th>197</th>\n",
       "      <td>8.611698</td>\n",
       "      <td>39.809973</td>\n",
       "      <td>88007.84</td>\n",
       "      <td>31185.18</td>\n",
       "    </tr>\n",
       "    <tr>\n",
       "      <th>198</th>\n",
       "      <td>16.697651</td>\n",
       "      <td>106.035207</td>\n",
       "      <td>117959.96</td>\n",
       "      <td>33325.36</td>\n",
       "    </tr>\n",
       "    <tr>\n",
       "      <th>199</th>\n",
       "      <td>51.275893</td>\n",
       "      <td>226.055138</td>\n",
       "      <td>407739.79</td>\n",
       "      <td>32080.13</td>\n",
       "    </tr>\n",
       "  </tbody>\n",
       "</table>\n",
       "<p>200 rows × 4 columns</p>\n",
       "</div>"
      ],
      "text/plain": [
       "     volume_sold  2015_margin  2015_q1_sales  2016_q1_sales\n",
       "0      19.420760    94.802281      337167.53      337805.05\n",
       "1       5.776510    22.082425       22352.86       21737.63\n",
       "2      17.602401    94.612494      277765.46      306943.27\n",
       "3       5.296111    17.824704       16806.11        9308.75\n",
       "4       9.156023    36.011457       54412.42       58940.90\n",
       "5       6.005122    32.877437      255940.81      332980.03\n",
       "6      15.606750    77.518973      319021.69      302593.88\n",
       "7       5.456466    20.337345       45341.33       55316.23\n",
       "8       6.047530    27.142470       57850.23       42399.57\n",
       "9       6.388070    23.427024       51032.04       56242.57\n",
       "10     10.347349    42.892133       68658.91        3537.14\n",
       "11     11.930398    67.403049        4152.93      137417.93\n",
       "12      7.270209    48.869324      121838.56      158477.55\n",
       "13     13.395919    87.760150      146726.31      125732.51\n",
       "14      5.557712    23.948176      119288.76       21835.49\n",
       "15      5.200122    19.706055       20336.03       39610.55\n",
       "16     11.252870    45.041177      110553.94      204039.87\n",
       "17     13.076785    63.199004      204238.78       15690.80\n",
       "18      4.725095    15.251810       16940.15       48546.69\n",
       "19      4.210727    17.043269       55499.12       16321.74\n",
       "20      7.290971    26.191171       15984.98       53183.55\n",
       "21      8.434821    32.753066       71759.66       30403.43\n",
       "22      5.376225    24.161451       62989.17       47218.40\n",
       "23     13.988913    49.820741       29638.75        6368.76\n",
       "24     12.697456    74.231504       48760.71      329253.09\n",
       "25      6.965175    24.450334       89737.70      332977.05\n",
       "26      4.945223    15.144793        5578.61      234927.02\n",
       "27      8.369585    37.408528      310036.66      151935.45\n",
       "28      8.343509    37.171862      310719.21      314069.92\n",
       "29     13.350027    60.893478      258285.84       61848.52\n",
       "..           ...          ...            ...            ...\n",
       "170     9.443932    38.407112       17233.45       19204.82\n",
       "171     6.151964    21.698042       21341.78       25303.92\n",
       "172     7.537069    23.888219       16618.85       18651.96\n",
       "173     9.500445    28.507729       21712.71       14627.29\n",
       "174     4.931543    22.811659       28129.95       46324.73\n",
       "175     7.163689    26.428521       21804.20      535382.86\n",
       "176     5.904447    20.568317       12518.29      812012.78\n",
       "177     8.402413    27.935335       53989.92      206248.57\n",
       "178    48.503269   236.730678      555708.40        6403.78\n",
       "179    56.739180   269.869600     1082137.01      100766.67\n",
       "180    12.840780    57.433388      192090.46       20099.61\n",
       "181     8.002294    27.440917        5575.99       68231.36\n",
       "182     9.753142    46.293847       80242.27      596064.00\n",
       "183     4.147741    16.594552       27044.54       87472.43\n",
       "184     8.196779    28.288652       61978.54      431991.70\n",
       "185    77.203692   368.225653      977773.62      136718.57\n",
       "186    11.804337    43.031199       41906.18       30009.81\n",
       "187    11.705327    46.891477       87840.45       19421.34\n",
       "188    52.800686   256.153235      445059.32      274753.60\n",
       "189     6.882779    28.512271      127496.18       10316.35\n",
       "190     7.686406    27.103097       23875.67       45253.42\n",
       "191     6.833355    24.741603       21536.87      433833.28\n",
       "192    46.556096   219.008350      276097.18       74216.43\n",
       "193     6.172606    22.548782        8507.79       78138.29\n",
       "194    11.118018    47.700709       49164.01       83916.72\n",
       "195    52.675537   234.533189      434111.57      372241.72\n",
       "196     3.794631    12.996118       73790.38      148022.90\n",
       "197     8.611698    39.809973       88007.84       31185.18\n",
       "198    16.697651   106.035207      117959.96       33325.36\n",
       "199    51.275893   226.055138      407739.79       32080.13\n",
       "\n",
       "[200 rows x 4 columns]"
      ]
     },
     "execution_count": 48,
     "metadata": {},
     "output_type": "execute_result"
    }
   ],
   "source": [
    "def add_one(value):\n",
    "    value=value+1\n",
    "    return value\n",
    "\n",
    "sales_info.applymap(add_one)"
   ]
  },
  {
   "cell_type": "code",
   "execution_count": 55,
   "metadata": {
    "collapsed": false,
    "scrolled": true
   },
   "outputs": [
    {
     "data": {
      "text/plain": [
       "6.841363     1\n",
       "11.505838    1\n",
       "6.792889     1\n",
       "4.904447     1\n",
       "11.997117    1\n",
       "6.433606     1\n",
       "8.783937     1\n",
       "9.849660     1\n",
       "10.270185    1\n",
       "10.637769    1\n",
       "10.086030    1\n",
       "5.781266     1\n",
       "6.657733     1\n",
       "3.147741     1\n",
       "6.618174     1\n",
       "10.252870    1\n",
       "6.309813     1\n",
       "7.390988     1\n",
       "8.555078     1\n",
       "6.000451     1\n",
       "5.882779     1\n",
       "45.556096    1\n",
       "9.585210     1\n",
       "5.294400     1\n",
       "8.176668     1\n",
       "10.118018    1\n",
       "10.331430    1\n",
       "6.300926     1\n",
       "9.421713     1\n",
       "8.622686     1\n",
       "            ..\n",
       "12.988913    1\n",
       "8.124182     1\n",
       "11.826536    1\n",
       "9.347349     1\n",
       "10.260836    1\n",
       "4.557712     1\n",
       "10.673717    1\n",
       "14.439435    1\n",
       "11.129382    1\n",
       "51.800686    1\n",
       "7.790503     1\n",
       "13.635150    1\n",
       "7.196779     1\n",
       "3.606710     1\n",
       "8.092883     1\n",
       "7.824354     1\n",
       "12.581695    1\n",
       "5.965175     1\n",
       "7.124444     1\n",
       "8.500445     1\n",
       "7.930415     1\n",
       "4.296111     1\n",
       "5.324497     1\n",
       "7.772684     1\n",
       "8.753142     1\n",
       "8.686518     1\n",
       "11.019652    1\n",
       "6.686406     1\n",
       "12.076785    1\n",
       "8.564228     1\n",
       "Name: volume_sold, dtype: int64"
      ]
     },
     "execution_count": 55,
     "metadata": {},
     "output_type": "execute_result"
    }
   ],
   "source": [
    "def column_counts(value):\n",
    "    for x in value:\n",
    "        return value[x].value_counts()\n",
    "\n",
    "column_counts(sales_info)"
   ]
  },
  {
   "cell_type": "code",
   "execution_count": 60,
   "metadata": {
    "collapsed": false
   },
   "outputs": [
    {
     "data": {
      "text/plain": [
       "volume_sold          6.274402\n",
       "2015_margin         26.862036\n",
       "2015_q1_sales    45544.420000\n",
       "2016_q1_sales    38818.775000\n",
       "dtype: float64"
      ]
     },
     "execution_count": 60,
     "metadata": {},
     "output_type": "execute_result"
    }
   ],
   "source": [
    "sales_info.quantile(.25)"
   ]
  },
  {
   "cell_type": "markdown",
   "metadata": {
    "slideshow": {
     "slide_type": "slide"
    }
   },
   "source": [
    "<a name=\"conclusion\"></a>\n",
    "## Conclusion (5 mins)\n",
    "So far we've used pandas to look at the head and tail of a data set. We've also taken a look at summary stats and different\n",
    "types of data types. We've selected and sliced data too.\n",
    "\n",
    "Today we added inspecting data types, df.apply, .value_counts to\n",
    "our pandas arsenal."
   ]
  },
  {
   "cell_type": "markdown",
   "metadata": {
    "slideshow": {
     "slide_type": "skip"
    }
   },
   "source": [
    "### Advanced reading (optional)\n",
    "\n",
    ".apply() functions are a typical use case for [lambda](http://www.secnetix.de/olli/Python/lambda_functions.hawk) [functions](https://pythonconquerstheuniverse.wordpress.com/2011/08/29/lambda_tutorial/) -- we'll go over them later in the class, but dive in now if you'd like!"
   ]
  }
 ],
 "metadata": {
  "celltoolbar": "Slideshow",
  "kernelspec": {
   "display_name": "Python [Root]",
   "language": "python",
   "name": "Python [Root]"
  },
  "language_info": {
   "codemirror_mode": {
    "name": "ipython",
    "version": 2
   },
   "file_extension": ".py",
   "mimetype": "text/x-python",
   "name": "python",
   "nbconvert_exporter": "python",
   "pygments_lexer": "ipython2",
   "version": "2.7.12"
  }
 },
 "nbformat": 4,
 "nbformat_minor": 0
}
