{
 "cells": [
  {
   "cell_type": "code",
   "execution_count": 2,
   "metadata": {
    "collapsed": true
   },
   "outputs": [],
   "source": [
    "def calculate_distance(p, q):\n",
    "    distance= (((p[0]-q[0])**2)+((p[1]-q[1])**2))**.5\n",
    "    return distance"
   ]
  },
  {
   "cell_type": "code",
   "execution_count": 3,
   "metadata": {
    "collapsed": false
   },
   "outputs": [
    {
     "ename": "SyntaxError",
     "evalue": "invalid syntax (<ipython-input-3-75ed4bc1173f>, line 2)",
     "output_type": "error",
     "traceback": [
      "\u001b[0;36m  File \u001b[0;32m\"<ipython-input-3-75ed4bc1173f>\"\u001b[0;36m, line \u001b[0;32m2\u001b[0m\n\u001b[0;31m    for x in labels\u001b[0m\n\u001b[0m                   ^\u001b[0m\n\u001b[0;31mSyntaxError\u001b[0m\u001b[0;31m:\u001b[0m invalid syntax\n"
     ]
    }
   ],
   "source": [
    "def neighbor_vote(labels):\n",
    "    for x in labels\n",
    "    # Is it possible to have a tie? How would you handle that?\n",
    "    return vote"
   ]
  },
  {
   "cell_type": "code",
   "execution_count": 4,
   "metadata": {
    "collapsed": false
   },
   "outputs": [],
   "source": [
    "import statistics\n",
    "from statistics import mode\n",
    "def knn_classifier(labeled_points, new_point, k):\n",
    "    distances_points=[]\n",
    "    if k%2!=0:\n",
    "        for x in labeled_points:\n",
    "            distances_points.append((calculate_distance(x[0], new_point),x[1]))\n",
    "\n",
    "        distances_points.sort()\n",
    "        prediction_list=[class_return[1] for class_return in distances_points[:k]]\n",
    "\n",
    "       \n",
    "        prediction=mode(prediction_list)\n",
    "        \"\"\" Given classified points and one new point, return a prediction based on the votes of k neighbors.\"\"\"\n",
    "        return prediction\n",
    "    else:\n",
    "        k=k+1\n",
    "        knn_classifier(labeled_points, new_point, k)"
   ]
  },
  {
   "cell_type": "code",
   "execution_count": 5,
   "metadata": {
    "collapsed": false
   },
   "outputs": [
    {
     "name": "stdout",
     "output_type": "stream",
     "text": [
      "    class  feature1  feature2\n",
      "0       1       6.0       2.7\n",
      "1       1       5.5       2.3\n",
      "2       1       5.9       3.2\n",
      "3       0       4.8       3.0\n",
      "4       0       5.1       3.8\n",
      "5       0       5.1       3.4\n",
      "6       0       4.6       3.6\n",
      "7       1       5.5       2.4\n",
      "8       0       5.4       3.7\n",
      "9       0       5.1       3.5\n",
      "10      0       5.7       3.8\n",
      "11      0       4.8       3.1\n",
      "12      1       6.1       2.8\n",
      "13      0       5.5       4.2\n",
      "14      1       5.5       2.6\n",
      "15      0       5.0       3.6\n",
      "16      1       6.8       2.8\n",
      "17      1       6.7       3.0\n",
      "18      0       4.8       3.0\n",
      "19      0       5.4       3.4\n",
      "20      1       5.7       2.8\n",
      "21      1       5.6       3.0\n",
      "22      0       5.0       3.4\n",
      "23      0       4.4       3.2\n",
      "24      1       5.6       2.5\n",
      "25      0       5.7       4.4\n",
      "26      0       5.0       3.5\n",
      "27      1       5.7       2.9\n",
      "28      0       4.9       3.1\n",
      "29      1       6.3       2.5\n"
     ]
    }
   ],
   "source": [
    "from sklearn import datasets\n",
    "import pandas as pd\n",
    "import numpy as np\n",
    "from sklearn.cross_validation import train_test_split\n",
    "\n",
    "# import data\n",
    "iris = datasets.load_iris()\n",
    "X = iris.data[:100, :2]  # use the first two features and just the first two classes.\n",
    "y = iris.target[:100]\n",
    "X_train, X_test, y_train, y_test = train_test_split(X, y, test_size=0.30, random_state=42)\n",
    "\n",
    "# Split 70/30 into initial data and new points to classify\n",
    "training_df = pd.DataFrame({'feature1':X_train[:,0],'feature2':X_train[:,1],'class':y_train})\n",
    "test_df = pd.DataFrame({'feature1':X_test[:,0],'feature2':X_test[:,1],'class':y_test})\n",
    "print test_df"
   ]
  },
  {
   "cell_type": "code",
   "execution_count": 6,
   "metadata": {
    "collapsed": false,
    "scrolled": true
   },
   "outputs": [],
   "source": [
    "\n",
    "points_class=zip(zip(test_df['feature1'],test_df['feature2']), test_df['class'])\n",
    "\n"
   ]
  },
  {
   "cell_type": "code",
   "execution_count": 7,
   "metadata": {
    "collapsed": false,
    "scrolled": true
   },
   "outputs": [
    {
     "data": {
      "text/plain": [
       "[((6.0, 2.7000000000000002), 1),\n",
       " ((5.5, 2.2999999999999998), 1),\n",
       " ((5.9000000000000004, 3.2000000000000002), 1),\n",
       " ((4.7999999999999998, 3.0), 0),\n",
       " ((5.0999999999999996, 3.7999999999999998), 0),\n",
       " ((5.0999999999999996, 3.3999999999999999), 0),\n",
       " ((4.5999999999999996, 3.6000000000000001), 0),\n",
       " ((5.5, 2.3999999999999999), 1),\n",
       " ((5.4000000000000004, 3.7000000000000002), 0),\n",
       " ((5.0999999999999996, 3.5), 0),\n",
       " ((5.7000000000000002, 3.7999999999999998), 0),\n",
       " ((4.7999999999999998, 3.1000000000000001), 0),\n",
       " ((6.0999999999999996, 2.7999999999999998), 1),\n",
       " ((5.5, 4.2000000000000002), 0),\n",
       " ((5.5, 2.6000000000000001), 1),\n",
       " ((5.0, 3.6000000000000001), 0),\n",
       " ((6.7999999999999998, 2.7999999999999998), 1),\n",
       " ((6.7000000000000002, 3.0), 1),\n",
       " ((4.7999999999999998, 3.0), 0),\n",
       " ((5.4000000000000004, 3.3999999999999999), 0),\n",
       " ((5.7000000000000002, 2.7999999999999998), 1),\n",
       " ((5.5999999999999996, 3.0), 1),\n",
       " ((5.0, 3.3999999999999999), 0),\n",
       " ((4.4000000000000004, 3.2000000000000002), 0),\n",
       " ((5.5999999999999996, 2.5), 1),\n",
       " ((5.7000000000000002, 4.4000000000000004), 0),\n",
       " ((5.0, 3.5), 0),\n",
       " ((5.7000000000000002, 2.8999999999999999), 1),\n",
       " ((4.9000000000000004, 3.1000000000000001), 0),\n",
       " ((6.2999999999999998, 2.5), 1)]"
      ]
     },
     "execution_count": 7,
     "metadata": {},
     "output_type": "execute_result"
    }
   ],
   "source": [
    "points_class"
   ]
  },
  {
   "cell_type": "code",
   "execution_count": 8,
   "metadata": {
    "collapsed": false,
    "scrolled": true
   },
   "outputs": [],
   "source": [
    "knn_classifier(points_class, (6.4,5), 8)"
   ]
  },
  {
   "cell_type": "code",
   "execution_count": null,
   "metadata": {
    "collapsed": true
   },
   "outputs": [],
   "source": []
  },
  {
   "cell_type": "code",
   "execution_count": 74,
   "metadata": {
    "collapsed": false
   },
   "outputs": [
    {
     "data": {
      "image/png": "[encoded data removed]",
      "text/plain": [
       "<matplotlib.figure.Figure at 0x11dc00190>"
      ]
     },
     "metadata": {},
     "output_type": "display_data"
    }
   ],
   "source": [
    "\"\"\" BONUS: plot the labeled points and an example of a new point being classified.\"\"\"\n",
    "import matplotlib.pyplot as plt\n",
    "%matplotlib inline  \n",
    "\n",
    "new_point=(4,2)\n",
    "new_point_class=knn_classifier(points_class, new_point, 9)\n",
    "\n",
    "mapping={0: '<', 1:'>'}\n",
    "\n",
    "for i in range(len(test_df['feature1'])):\n",
    "    plt.scatter(test_df['feature1'][i], test_df['feature2'][i], marker=mapping[test_df['class'][i]])\n",
    "plt.scatter(new_point[0], new_point[1], marker=mapping[new_point_class], color='red')\n",
    "plt.show()\n"
   ]
  },
  {
   "cell_type": "code",
   "execution_count": null,
   "metadata": {
    "collapsed": true
   },
   "outputs": [],
   "source": []
  }
 ],
 "metadata": {
  "kernelspec": {
   "display_name": "Python [Root]",
   "language": "python",
   "name": "Python [Root]"
  },
  "language_info": {
   "codemirror_mode": {
    "name": "ipython",
    "version": 2
   },
   "file_extension": ".py",
   "mimetype": "text/x-python",
   "name": "python",
   "nbconvert_exporter": "python",
   "pygments_lexer": "ipython2",
   "version": "2.7.12"
  }
 },
 "nbformat": 4,
 "nbformat_minor": 0
}
