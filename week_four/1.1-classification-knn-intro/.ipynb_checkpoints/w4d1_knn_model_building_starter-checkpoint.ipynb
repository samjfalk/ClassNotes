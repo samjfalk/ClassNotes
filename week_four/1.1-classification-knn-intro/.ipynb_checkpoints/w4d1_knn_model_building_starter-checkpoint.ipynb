{
 "cells": [
  {
   "cell_type": "code",
   "execution_count": 8,
   "metadata": {
    "collapsed": true
   },
   "outputs": [],
   "source": [
    "def calculate_distance(p, q):\n",
    "    distance= (((p[0]-q[0])**2)+((p[1]-q[1])**2))**.5\n",
    "    return distance"
   ]
  },
  {
   "cell_type": "code",
   "execution_count": null,
   "metadata": {
    "collapsed": true
   },
   "outputs": [],
   "source": [
    "def neighbor_vote(labels):\n",
    "    for x in labels\n",
    "    # Is it possible to have a tie? How would you handle that?\n",
    "    return vote"
   ]
  },
  {
   "cell_type": "code",
   "execution_count": 40,
   "metadata": {
    "collapsed": false
   },
   "outputs": [],
   "source": [
    "import statistics\n",
    "from statistics import mode\n",
    "def knn_classifier(labeled_points, new_point, k):\n",
    "    distances_points=[]\n",
    "    if k%2!=0:\n",
    "        for x in labeled_points:\n",
    "            distances_points.append((calculate_distance(x[0], new_point),x[1]))\n",
    "\n",
    "        distances_points.sort()\n",
    "        prediction_list=[class_return[1] for class_return in distances_points[:k]]\n",
    "\n",
    "       \n",
    "        prediction=mode(prediction_list)\n",
    "        \"\"\" Given classified points and one new point, return a prediction based on the votes of k neighbors.\"\"\"\n",
    "        return prediction\n",
    "    else:\n",
    "        k=k+1\n",
    "        knn_classifier(labeled_points, new_point, k)"
   ]
  },
  {
   "cell_type": "code",
   "execution_count": 41,
   "metadata": {
    "collapsed": false
   },
   "outputs": [
    {
     "name": "stdout",
     "output_type": "stream",
     "text": [
      "    class  feature1  feature2\n",
      "0       1       6.0       2.7\n",
      "1       1       5.5       2.3\n",
      "2       1       5.9       3.2\n",
      "3       0       4.8       3.0\n",
      "4       0       5.1       3.8\n",
      "5       0       5.1       3.4\n",
      "6       0       4.6       3.6\n",
      "7       1       5.5       2.4\n",
      "8       0       5.4       3.7\n",
      "9       0       5.1       3.5\n",
      "10      0       5.7       3.8\n",
      "11      0       4.8       3.1\n",
      "12      1       6.1       2.8\n",
      "13      0       5.5       4.2\n",
      "14      1       5.5       2.6\n",
      "15      0       5.0       3.6\n",
      "16      1       6.8       2.8\n",
      "17      1       6.7       3.0\n",
      "18      0       4.8       3.0\n",
      "19      0       5.4       3.4\n",
      "20      1       5.7       2.8\n",
      "21      1       5.6       3.0\n",
      "22      0       5.0       3.4\n",
      "23      0       4.4       3.2\n",
      "24      1       5.6       2.5\n",
      "25      0       5.7       4.4\n",
      "26      0       5.0       3.5\n",
      "27      1       5.7       2.9\n",
      "28      0       4.9       3.1\n",
      "29      1       6.3       2.5\n"
     ]
    }
   ],
   "source": [
    "from sklearn import datasets\n",
    "import pandas as pd\n",
    "import numpy as np\n",
    "from sklearn.cross_validation import train_test_split\n",
    "\n",
    "# import data\n",
    "iris = datasets.load_iris()\n",
    "X = iris.data[:100, :2]  # use the first two features and just the first two classes.\n",
    "y = iris.target[:100]\n",
    "X_train, X_test, y_train, y_test = train_test_split(X, y, test_size=0.30, random_state=42)\n",
    "\n",
    "# Split 70/30 into initial data and new points to classify\n",
    "training_df = pd.DataFrame({'feature1':X_train[:,0],'feature2':X_train[:,1],'class':y_train})\n",
    "test_df = pd.DataFrame({'feature1':X_test[:,0],'feature2':X_test[:,1],'class':y_test})\n",
    "print test_df"
   ]
  },
  {
   "cell_type": "code",
   "execution_count": 42,
   "metadata": {
    "collapsed": false,
    "scrolled": true
   },
   "outputs": [],
   "source": [
    "\n",
    "points_class=zip(zip(test_df['feature1'],test_df['feature2']), test_df['class'])\n",
    "\n"
   ]
  },
  {
   "cell_type": "code",
   "execution_count": 48,
   "metadata": {
    "collapsed": false
   },
   "outputs": [
    {
     "data": {
      "text/plain": [
       "1"
      ]
     },
     "execution_count": 48,
     "metadata": {},
     "output_type": "execute_result"
    }
   ],
   "source": [
    "knn_classifier(points_class, (6.4,1), 9)"
   ]
  },
  {
   "cell_type": "code",
   "execution_count": 56,
   "metadata": {
    "collapsed": false
   },
   "outputs": [
    {
     "ename": "NameError",
     "evalue": "name 'sz' is not defined",
     "output_type": "error",
     "traceback": [
      "\u001b[0;31m---------------------------------------------------------------------------\u001b[0m",
      "\u001b[0;31mNameError\u001b[0m                                 Traceback (most recent call last)",
      "\u001b[0;32m<ipython-input-56-53db4d88d45e>\u001b[0m in \u001b[0;36m<module>\u001b[0;34m()\u001b[0m\n\u001b[1;32m      2\u001b[0m \u001b[0;32mimport\u001b[0m \u001b[0mmatplotlib\u001b[0m\u001b[0;34m.\u001b[0m\u001b[0mpyplot\u001b[0m \u001b[0;32mas\u001b[0m \u001b[0mplt\u001b[0m\u001b[0;34m\u001b[0m\u001b[0m\n\u001b[1;32m      3\u001b[0m \u001b[0mget_ipython\u001b[0m\u001b[0;34m(\u001b[0m\u001b[0;34m)\u001b[0m\u001b[0;34m.\u001b[0m\u001b[0mmagic\u001b[0m\u001b[0;34m(\u001b[0m\u001b[0;34mu'matplotlib inline'\u001b[0m\u001b[0;34m)\u001b[0m\u001b[0;34m\u001b[0m\u001b[0m\n\u001b[0;32m----> 4\u001b[0;31m \u001b[0mplt\u001b[0m\u001b[0;34m.\u001b[0m\u001b[0mscatter\u001b[0m\u001b[0;34m(\u001b[0m\u001b[0mtest_df\u001b[0m\u001b[0;34m[\u001b[0m\u001b[0;34m'feature1'\u001b[0m\u001b[0;34m]\u001b[0m\u001b[0;34m,\u001b[0m\u001b[0mtest_df\u001b[0m\u001b[0;34m[\u001b[0m\u001b[0;34m'feature2'\u001b[0m\u001b[0;34m]\u001b[0m\u001b[0;34m,\u001b[0m \u001b[0msz\u001b[0m\u001b[0;34m)\u001b[0m\u001b[0;34m\u001b[0m\u001b[0m\n\u001b[0m",
      "\u001b[0;31mNameError\u001b[0m: name 'sz' is not defined"
     ]
    }
   ],
   "source": [
    "\"\"\" BONUS: plot the labeled points and an example of a new point being classified.\"\"\"\n",
    "import matplotlib.pyplot as plt\n",
    "%matplotlib inline  \n",
    "plt.scatter(test_df['feature1'],test_df['feature2'], marker=['o' if x==0 else '*'])"
   ]
  },
  {
   "cell_type": "code",
   "execution_count": null,
   "metadata": {
    "collapsed": true
   },
   "outputs": [],
   "source": []
  }
 ],
 "metadata": {
  "kernelspec": {
   "display_name": "Python [Root]",
   "language": "python",
   "name": "Python [Root]"
  },
  "language_info": {
   "codemirror_mode": {
    "name": "ipython",
    "version": 2
   },
   "file_extension": ".py",
   "mimetype": "text/x-python",
   "name": "python",
   "nbconvert_exporter": "python",
   "pygments_lexer": "ipython2",
   "version": "2.7.12"
  }
 },
 "nbformat": 4,
 "nbformat_minor": 0
}
