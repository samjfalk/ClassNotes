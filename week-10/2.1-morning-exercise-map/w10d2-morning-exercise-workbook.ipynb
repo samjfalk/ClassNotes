{
 "cells": [
  {
   "cell_type": "markdown",
   "metadata": {},
   "source": [
    "<img src=\"https://ga-dash.s3.amazonaws.com/production/assets/logo-9f88ae6c9c3871690e33280fcf557f33.png\" style=\"float: left; margin: 15px;\">\n",
    "# Morning Exercise\n",
    "\n",
    "<br>\n",
    "**This notebook contains a series of 5 progressively more difficult exercises. You have until 10am to complete and submit them. Please email completed notebooks to alex.combs@ga.co. No credit will be given for notebooks submitted after 10am (Google timestamp). We will go over the solution from 10 to 10:15am.**"
   ]
  },
  {
   "cell_type": "markdown",
   "metadata": {},
   "source": [
    "## Exercise #1"
   ]
  },
  {
   "cell_type": "markdown",
   "metadata": {},
   "source": [
    "Create a map function from scratch. Name it two_map(). This function should accept three arguments: a python function and two lists. The function should return the result of the function.\n",
    "\n",
    "For example:\n",
    "> two_map(sum, [1,2,3],[3,2,1])<br> would return [6,6].\n",
    "\n",
    "<br> Other functions to test: len, min, max, std, etc."
   ]
  },
  {
   "cell_type": "code",
   "execution_count": 7,
   "metadata": {
    "ExecuteTime": {
     "end_time": "2016-11-22T09:26:17.341611",
     "start_time": "2016-11-22T09:26:17.336584"
    },
    "collapsed": false
   },
   "outputs": [],
   "source": [
    "def two_map(function, lst1, lst2):\n",
    "    output=[]\n",
    "    one=function(lst1)\n",
    "    output.append(one)\n",
    "    two=function(lst2)\n",
    "    output.append(two)\n",
    "    return output"
   ]
  },
  {
   "cell_type": "code",
   "execution_count": 16,
   "metadata": {
    "ExecuteTime": {
     "end_time": "2016-11-22T09:27:44.661188",
     "start_time": "2016-11-22T09:27:44.547251"
    },
    "collapsed": false
   },
   "outputs": [],
   "source": [
    "from statistics import stdev"
   ]
  },
  {
   "cell_type": "code",
   "execution_count": 17,
   "metadata": {
    "ExecuteTime": {
     "end_time": "2016-11-22T09:27:47.638531",
     "start_time": "2016-11-22T09:27:47.631122"
    },
    "collapsed": false,
    "scrolled": false
   },
   "outputs": [
    {
     "data": {
      "text/plain": [
       "[1.0, 1.0]"
      ]
     },
     "execution_count": 17,
     "metadata": {},
     "output_type": "execute_result"
    }
   ],
   "source": [
    "two_map(stdev, [1,2,3],[3,2,1])"
   ]
  },
  {
   "cell_type": "markdown",
   "metadata": {},
   "source": [
    "## Exercise #2\n",
    "\n",
    "Create a function called many_map() that does the same thing except now rather than only accepting two lists, it should accept two arguments. The first argument is again any function, and the second is a list that can contain any number of lists inside it.\n",
    "\n",
    "For example:\n",
    "> many_map(min, [[1, 2], [3, 4], [5, 6]]) <br> would return [1, 3, 5]<br><br>\n",
    "> many_map(sum, [[1, 2], [3, 4], [5, 6]]) <br> would return [3, 7, 11]"
   ]
  },
  {
   "cell_type": "code",
   "execution_count": 18,
   "metadata": {
    "ExecuteTime": {
     "end_time": "2016-11-22T09:34:01.887528",
     "start_time": "2016-11-22T09:34:01.883709"
    },
    "collapsed": false
   },
   "outputs": [],
   "source": [
    "def many_map(function, lofl):\n",
    "    output= [function(x) for x in lofl]\n",
    "    return output"
   ]
  },
  {
   "cell_type": "code",
   "execution_count": 20,
   "metadata": {
    "ExecuteTime": {
     "end_time": "2016-11-22T09:34:16.356820",
     "start_time": "2016-11-22T09:34:16.350931"
    },
    "collapsed": false
   },
   "outputs": [
    {
     "data": {
      "text/plain": [
       "[1, 3, 5]"
      ]
     },
     "execution_count": 20,
     "metadata": {},
     "output_type": "execute_result"
    }
   ],
   "source": [
    "many_map(min, [[1, 2], [3, 4], [5, 6]]) "
   ]
  },
  {
   "cell_type": "markdown",
   "metadata": {},
   "source": [
    "## Exercise 3\n",
    "\n",
    "Create another function called z_map(). Again, this should accept two arguments, the first is the function to be run; the second is a list that contains an arbitrary number of lists. Unlike the last function you created, this one should work on zipped data.\n",
    "\n",
    "For example:\n",
    "\n",
    "> z_map(sum, [[1, 2], [3, 4], [5, 6]])<br>\n",
    "would return [9, 12]\n",
    "\n",
    "> z_map(sum, [[1,1,1], [2,2,2], [3,3,3]])<br>\n",
    "would return [6, 6, 6]"
   ]
  },
  {
   "cell_type": "code",
   "execution_count": 21,
   "metadata": {
    "ExecuteTime": {
     "end_time": "2016-11-22T09:36:43.463502",
     "start_time": "2016-11-22T09:36:43.458671"
    },
    "collapsed": true
   },
   "outputs": [],
   "source": [
    "def z_map(function, lofl):\n",
    "    output=[function(i) for i in zip(*lofl)]\n",
    "    return output"
   ]
  },
  {
   "cell_type": "code",
   "execution_count": 29,
   "metadata": {
    "ExecuteTime": {
     "end_time": "2016-11-22T09:37:35.921633",
     "start_time": "2016-11-22T09:37:35.915199"
    },
    "collapsed": false
   },
   "outputs": [
    {
     "data": {
      "text/plain": [
       "[9, 12]"
      ]
     },
     "execution_count": 29,
     "metadata": {},
     "output_type": "execute_result"
    }
   ],
   "source": [
    "z_map(sum, [[1, 2], [3, 4], [5, 6]])"
   ]
  },
  {
   "cell_type": "code",
   "execution_count": 27,
   "metadata": {
    "ExecuteTime": {
     "end_time": "2016-11-22T09:37:17.457174",
     "start_time": "2016-11-22T09:37:17.451498"
    },
    "collapsed": false
   },
   "outputs": [
    {
     "data": {
      "text/plain": [
       "[6, 6, 6]"
      ]
     },
     "execution_count": 27,
     "metadata": {},
     "output_type": "execute_result"
    }
   ],
   "source": [
    "z_map(sum, [[1,1,1], [2,2,2], [3,3,3]])"
   ]
  },
  {
   "cell_type": "markdown",
   "metadata": {},
   "source": [
    "## Exercise #4\n",
    "\n",
    "Create a function that accepts an int. It should return all Fibonacci numbers in a list that are less than or equal to that value. **Bonus: Do it without creating a list in your function.**"
   ]
  },
  {
   "cell_type": "code",
   "execution_count": null,
   "metadata": {
    "collapsed": true
   },
   "outputs": [],
   "source": [
    "#assume integer is a positive number"
   ]
  },
  {
   "cell_type": "code",
   "execution_count": 35,
   "metadata": {
    "ExecuteTime": {
     "end_time": "2016-11-22T09:44:45.841709",
     "start_time": "2016-11-22T09:44:45.835734"
    },
    "collapsed": true
   },
   "outputs": [],
   "source": [
    "fiblst=[1,1]\n",
    "def fib(x):\n",
    "    newnum=fiblst[-1]+fiblst[-2]\n",
    "    if newnum<x:\n",
    "        fiblst.append(newnum)\n",
    "        fib(x)\n",
    "    else:\n",
    "        print fiblst"
   ]
  },
  {
   "cell_type": "code",
   "execution_count": 37,
   "metadata": {
    "ExecuteTime": {
     "end_time": "2016-11-22T09:44:50.169650",
     "start_time": "2016-11-22T09:44:50.164424"
    },
    "collapsed": false
   },
   "outputs": [
    {
     "name": "stdout",
     "output_type": "stream",
     "text": [
      "[1, 1, 2, 3, 5, 8, 13, 21, 34]\n"
     ]
    }
   ],
   "source": [
    "fib(40)"
   ]
  },
  {
   "cell_type": "code",
   "execution_count": null,
   "metadata": {
    "collapsed": true
   },
   "outputs": [],
   "source": [
    "#will come back to trying without list if I have time"
   ]
  },
  {
   "cell_type": "code",
   "execution_count": null,
   "metadata": {
    "ExecuteTime": {
     "end_time": "2016-11-22T09:44:34.892585",
     "start_time": "2016-11-22T09:44:34.885275"
    },
    "collapsed": false
   },
   "outputs": [],
   "source": [
    "def fib2(x):\n",
    "    firstnum=1\n",
    "    secondnum=1\n",
    "    newnum=firstnum+secondnum\n",
    "    print firstnum\n",
    "    if x<1:\n",
    "        print 'too small of int'\n",
    "    elif x>newnum:\n",
    "        print secondnum\n",
    "        print newnum\n",
    "        firstnum=secondnum\n",
    "        secondnum=newnum\n",
    "        \n",
    "    \n",
    "    if newnum<x:\n",
    "        fiblst.append(newnum)\n",
    "        fib(x)\n",
    "    else:\n",
    "        print fiblst"
   ]
  },
  {
   "cell_type": "code",
   "execution_count": null,
   "metadata": {
    "collapsed": false
   },
   "outputs": [],
   "source": []
  },
  {
   "cell_type": "markdown",
   "metadata": {},
   "source": [
    "## Exercise #5\n",
    "\n",
    "Find the largest palindromic number that is possible from the product of all three digit numbers.\n",
    "For example, 111 * 111 = 12321. This number reads the same from right to left as it does from left tor right, so this qualifies as a palindrome. Find the largest possible that is the product of two three digit numbers."
   ]
  },
  {
   "cell_type": "markdown",
   "metadata": {
    "ExecuteTime": {
     "end_time": "2016-11-22T09:49:46.623507",
     "start_time": "2016-11-22T09:49:46.618080"
    },
    "collapsed": false
   },
   "source": [
    "the concept of  comparing the first half to the second half was found on the internet"
   ]
  },
  {
   "cell_type": "code",
   "execution_count": 43,
   "metadata": {
    "ExecuteTime": {
     "end_time": "2016-11-22T10:27:07.966998",
     "start_time": "2016-11-22T10:27:06.953095"
    },
    "collapsed": false
   },
   "outputs": [
    {
     "name": "stdout",
     "output_type": "stream",
     "text": [
      "(906609, 993, 913)\n"
     ]
    }
   ],
   "source": [
    "palnums=[]\n",
    "for x in xrange(100,1000):\n",
    "    for y in xrange(100,1000):\n",
    "        if str(x*y) == str(x*y)[::-1]:\n",
    "            palnums.append((x*y, x, y))\n",
    "            \n",
    "print max(palnums)\n"
   ]
  },
  {
   "cell_type": "code",
   "execution_count": null,
   "metadata": {
    "collapsed": true
   },
   "outputs": [],
   "source": [
    " "
   ]
  }
 ],
 "metadata": {
  "anaconda-cloud": {},
  "kernelspec": {
   "display_name": "Python [Root]",
   "language": "python",
   "name": "Python [Root]"
  },
  "language_info": {
   "codemirror_mode": {
    "name": "ipython",
    "version": 2
   },
   "file_extension": ".py",
   "mimetype": "text/x-python",
   "name": "python",
   "nbconvert_exporter": "python",
   "pygments_lexer": "ipython2",
   "version": "2.7.12"
  }
 },
 "nbformat": 4,
 "nbformat_minor": 0
}
