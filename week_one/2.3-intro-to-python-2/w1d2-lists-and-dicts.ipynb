{
 "cells": [
  {
   "cell_type": "markdown",
   "metadata": {
    "nbpresent": {
     "id": "9f27af25-8652-4f24-9ad2-139a50e2a81e"
    },
    "slideshow": {
     "slide_type": "slide"
    }
   },
   "source": [
    "# ![](https://ga-dash.s3.amazonaws.com/production/assets/logo-9f88ae6c9c3871690e33280fcf557f33.png) Intro to Python 2: Lists & Dictionaries"
   ]
  },
  {
   "cell_type": "markdown",
   "metadata": {
    "nbpresent": {
     "id": "03131d32-7d58-4a8e-96ec-36074f77bea4"
    },
    "slideshow": {
     "slide_type": "slide"
    }
   },
   "source": [
    "### LEARNING OBJECTIVES\n",
    "*After this lesson, you will be able to:*\n",
    "- Create lists and operate on them\n",
    "- Create dictionaries and operate on them"
   ]
  },
  {
   "cell_type": "markdown",
   "metadata": {
    "nbpresent": {
     "id": "4d523c9c-d7ae-4465-aa73-275f70de233c"
    },
    "slideshow": {
     "slide_type": "slide"
    }
   },
   "source": [
    "# Lists & Dictionaries"
   ]
  },
  {
   "cell_type": "markdown",
   "metadata": {
    "nbpresent": {
     "id": "e32a1b8d-fb06-4943-a941-4c3920ce067c"
    },
    "slideshow": {
     "slide_type": "slide"
    }
   },
   "source": [
    "## Lists"
   ]
  },
  {
   "cell_type": "markdown",
   "metadata": {
    "nbpresent": {
     "id": "c701f940-fa68-449c-a7cf-e78bb3872121"
    },
    "slideshow": {
     "slide_type": "-"
    }
   },
   "source": [
    "###  Q:  What is a list?"
   ]
  },
  {
   "cell_type": "markdown",
   "metadata": {
    "nbpresent": {
     "id": "8e648ac5-dd06-4361-af85-d4fd03643b5a"
    },
    "slideshow": {
     "slide_type": "fragment"
    }
   },
   "source": [
    "> A container for holding items, or more formally, a Python data structure for holding python data types or other Python data structures. Items in a list are ordered and can be retrieved by the index of that item."
   ]
  },
  {
   "cell_type": "markdown",
   "metadata": {
    "nbpresent": {
     "id": "70987ee8-91e9-4e92-bc57-99cbd0501e9b"
    },
    "slideshow": {
     "slide_type": "slide"
    }
   },
   "source": [
    "###  Q:  How is a list denoted?"
   ]
  },
  {
   "cell_type": "markdown",
   "metadata": {
    "nbpresent": {
     "id": "e73f472a-03b5-4711-a21a-68e5b3addaa9"
    },
    "slideshow": {
     "slide_type": "fragment"
    }
   },
   "source": [
    "> Square brackets: [ ]"
   ]
  },
  {
   "cell_type": "markdown",
   "metadata": {
    "nbpresent": {
     "id": "999a2f59-ab97-4fa5-9788-849c06a6f80c"
    },
    "slideshow": {
     "slide_type": "slide"
    }
   },
   "source": [
    "### Q: What can a list hold?"
   ]
  },
  {
   "cell_type": "markdown",
   "metadata": {
    "nbpresent": {
     "id": "c406d4a8-8809-4b16-84a8-45e58a6e910c"
    },
    "slideshow": {
     "slide_type": "fragment"
    }
   },
   "source": [
    "> Any python data type or data structure: numerics, strings, tuples, lists, etc."
   ]
  },
  {
   "cell_type": "markdown",
   "metadata": {
    "nbpresent": {
     "id": "e0cde812-3e48-47c8-883c-e4d2d4819564"
    },
    "slideshow": {
     "slide_type": "slide"
    }
   },
   "source": [
    "### Q: Can types be mixed in a list?"
   ]
  },
  {
   "cell_type": "markdown",
   "metadata": {
    "nbpresent": {
     "id": "ea561652-50c4-444f-add7-91336f4c821d"
    },
    "slideshow": {
     "slide_type": "fragment"
    }
   },
   "source": [
    "> Yes."
   ]
  },
  {
   "cell_type": "markdown",
   "metadata": {
    "nbpresent": {
     "id": "ce1c359d-fccc-4658-afee-96e1c6a91583"
    },
    "slideshow": {
     "slide_type": "slide"
    }
   },
   "source": [
    "### Q: How do we select items in a list?"
   ]
  },
  {
   "cell_type": "markdown",
   "metadata": {
    "nbpresent": {
     "id": "5c1453e8-42d5-49ad-b84f-aad0162ef001"
    },
    "slideshow": {
     "slide_type": "fragment"
    }
   },
   "source": [
    "> Indexing for single items of slicing for multple items"
   ]
  },
  {
   "cell_type": "markdown",
   "metadata": {
    "nbpresent": {
     "id": "ef51b55f-66ca-4210-92c3-59c3a698c7e1"
    },
    "slideshow": {
     "slide_type": "-"
    }
   },
   "source": [
    "Indexing: [0]<br>\n",
    "Slicing: [1:3]"
   ]
  },
  {
   "cell_type": "markdown",
   "metadata": {
    "nbpresent": {
     "id": "665a04a2-2c63-4837-9e89-070163357824"
    },
    "slideshow": {
     "slide_type": "slide"
    }
   },
   "source": [
    "### Q: Can we add to a list once it is created?"
   ]
  },
  {
   "cell_type": "markdown",
   "metadata": {
    "nbpresent": {
     "id": "15fc5696-d047-44bc-8467-b06c48d1e10b"
    },
    "slideshow": {
     "slide_type": "fragment"
    }
   },
   "source": [
    "> Yes."
   ]
  },
  {
   "cell_type": "markdown",
   "metadata": {
    "nbpresent": {
     "id": "984fb399-90fc-4a2b-af10-39e723508952"
    },
    "slideshow": {
     "slide_type": "slide"
    }
   },
   "source": [
    "### Q: Can we change/swap out items in a list?"
   ]
  },
  {
   "cell_type": "markdown",
   "metadata": {
    "nbpresent": {
     "id": "1ea0d158-2e8d-4a95-835b-541f8a00adbd"
    },
    "slideshow": {
     "slide_type": "fragment"
    }
   },
   "source": [
    "> Yes."
   ]
  },
  {
   "cell_type": "code",
   "execution_count": 1,
   "metadata": {
    "collapsed": true
   },
   "outputs": [],
   "source": [
    "friends = ['larry', 'Moe', 'Curly', 'tweedle dee', 'tweedle Dumb']"
   ]
  },
  {
   "cell_type": "code",
   "execution_count": 2,
   "metadata": {
    "collapsed": false
   },
   "outputs": [
    {
     "data": {
      "text/plain": [
       "['larry', 'Moe', 'Curly', 'tweedle dee', 'tweedle Dumb']"
      ]
     },
     "execution_count": 2,
     "metadata": {},
     "output_type": "execute_result"
    }
   ],
   "source": [
    "friends"
   ]
  },
  {
   "cell_type": "code",
   "execution_count": 3,
   "metadata": {
    "collapsed": false
   },
   "outputs": [
    {
     "data": {
      "text/plain": [
       "'larry'"
      ]
     },
     "execution_count": 3,
     "metadata": {},
     "output_type": "execute_result"
    }
   ],
   "source": [
    "friends[0]"
   ]
  },
  {
   "cell_type": "code",
   "execution_count": 4,
   "metadata": {
    "collapsed": false,
    "scrolled": true
   },
   "outputs": [
    {
     "data": {
      "text/plain": [
       "'tweedle Dumb'"
      ]
     },
     "execution_count": 4,
     "metadata": {},
     "output_type": "execute_result"
    }
   ],
   "source": [
    "friends[-1]"
   ]
  },
  {
   "cell_type": "code",
   "execution_count": 5,
   "metadata": {
    "collapsed": false
   },
   "outputs": [
    {
     "data": {
      "text/plain": [
       "['Moe', 'Curly', 'tweedle dee']"
      ]
     },
     "execution_count": 5,
     "metadata": {},
     "output_type": "execute_result"
    }
   ],
   "source": [
    "friends[1:4]"
   ]
  },
  {
   "cell_type": "code",
   "execution_count": 6,
   "metadata": {
    "collapsed": true
   },
   "outputs": [],
   "source": [
    "friends.append('anotherone')"
   ]
  },
  {
   "cell_type": "code",
   "execution_count": 7,
   "metadata": {
    "collapsed": false
   },
   "outputs": [
    {
     "data": {
      "text/plain": [
       "['larry', 'Moe', 'Curly', 'tweedle dee', 'tweedle Dumb', 'anotherone']"
      ]
     },
     "execution_count": 7,
     "metadata": {},
     "output_type": "execute_result"
    }
   ],
   "source": [
    "friends"
   ]
  },
  {
   "cell_type": "code",
   "execution_count": 8,
   "metadata": {
    "collapsed": false
   },
   "outputs": [],
   "source": [
    "friends[5]='morefriends'"
   ]
  },
  {
   "cell_type": "code",
   "execution_count": 9,
   "metadata": {
    "collapsed": false
   },
   "outputs": [
    {
     "data": {
      "text/plain": [
       "['larry', 'Moe', 'Curly', 'tweedle dee', 'tweedle Dumb', 'morefriends']"
      ]
     },
     "execution_count": 9,
     "metadata": {},
     "output_type": "execute_result"
    }
   ],
   "source": [
    "friends"
   ]
  },
  {
   "cell_type": "code",
   "execution_count": 10,
   "metadata": {
    "collapsed": false,
    "scrolled": true
   },
   "outputs": [
    {
     "data": {
      "text/plain": [
       "['larry',\n",
       " 'Moe',\n",
       " 'Curly',\n",
       " 'tweedle dee',\n",
       " 'tweedle Dumb',\n",
       " 'morefriends',\n",
       " 'whoknows']"
      ]
     },
     "execution_count": 10,
     "metadata": {},
     "output_type": "execute_result"
    }
   ],
   "source": [
    "friends + ['whoknows']"
   ]
  },
  {
   "cell_type": "code",
   "execution_count": 11,
   "metadata": {
    "collapsed": false
   },
   "outputs": [
    {
     "data": {
      "text/plain": [
       "['larry', 'Moe', 'Curly', 'tweedle dee', 'tweedle Dumb', 'morefriends']"
      ]
     },
     "execution_count": 11,
     "metadata": {},
     "output_type": "execute_result"
    }
   ],
   "source": [
    "friends"
   ]
  },
  {
   "cell_type": "code",
   "execution_count": 12,
   "metadata": {
    "collapsed": false
   },
   "outputs": [],
   "source": [
    "friends.remove('larry')"
   ]
  },
  {
   "cell_type": "code",
   "execution_count": 13,
   "metadata": {
    "collapsed": false
   },
   "outputs": [
    {
     "data": {
      "text/plain": [
       "'morefriends'"
      ]
     },
     "execution_count": 13,
     "metadata": {},
     "output_type": "execute_result"
    }
   ],
   "source": [
    "friends.pop()"
   ]
  },
  {
   "cell_type": "code",
   "execution_count": 14,
   "metadata": {
    "collapsed": true
   },
   "outputs": [],
   "source": [
    "del friends [1]"
   ]
  },
  {
   "cell_type": "code",
   "execution_count": 15,
   "metadata": {
    "collapsed": false
   },
   "outputs": [
    {
     "data": {
      "text/plain": [
       "['Moe', 'tweedle dee', 'tweedle Dumb']"
      ]
     },
     "execution_count": 15,
     "metadata": {},
     "output_type": "execute_result"
    }
   ],
   "source": [
    "friends"
   ]
  },
  {
   "cell_type": "code",
   "execution_count": 16,
   "metadata": {
    "collapsed": false
   },
   "outputs": [
    {
     "name": "stdout",
     "output_type": "stream",
     "text": [
      "I need more friends\n"
     ]
    }
   ],
   "source": [
    "if len(friends)<4:\n",
    "    print \"I need more friends\"\n",
    "else:\n",
    "    print \"I have so many friends\""
   ]
  },
  {
   "cell_type": "code",
   "execution_count": 17,
   "metadata": {
    "collapsed": false
   },
   "outputs": [
    {
     "ename": "TypeError",
     "evalue": "append() takes exactly one argument (2 given)",
     "output_type": "error",
     "traceback": [
      "\u001b[0;31m---------------------------------------------------------------------------\u001b[0m",
      "\u001b[0;31mTypeError\u001b[0m                                 Traceback (most recent call last)",
      "\u001b[0;32m<ipython-input-17-a93248dbc9d8>\u001b[0m in \u001b[0;36m<module>\u001b[0;34m()\u001b[0m\n\u001b[0;32m----> 1\u001b[0;31m \u001b[0mfriends\u001b[0m\u001b[0;34m.\u001b[0m\u001b[0mappend\u001b[0m\u001b[0;34m(\u001b[0m\u001b[0;34m'larry'\u001b[0m\u001b[0;34m,\u001b[0m\u001b[0;34m'people'\u001b[0m\u001b[0;34m)\u001b[0m\u001b[0;34m\u001b[0m\u001b[0m\n\u001b[0m",
      "\u001b[0;31mTypeError\u001b[0m: append() takes exactly one argument (2 given)"
     ]
    }
   ],
   "source": [
    "friends.append('larry','people')"
   ]
  },
  {
   "cell_type": "code",
   "execution_count": null,
   "metadata": {
    "collapsed": false
   },
   "outputs": [],
   "source": [
    "friends"
   ]
  },
  {
   "cell_type": "code",
   "execution_count": null,
   "metadata": {
    "collapsed": false
   },
   "outputs": [],
   "source": [
    "friends[::-1]"
   ]
  },
  {
   "cell_type": "code",
   "execution_count": null,
   "metadata": {
    "collapsed": false
   },
   "outputs": [],
   "source": [
    "friends"
   ]
  },
  {
   "cell_type": "code",
   "execution_count": null,
   "metadata": {
    "collapsed": true
   },
   "outputs": [],
   "source": [
    "friends.reverse()"
   ]
  },
  {
   "cell_type": "code",
   "execution_count": null,
   "metadata": {
    "collapsed": false
   },
   "outputs": [],
   "source": [
    "friends"
   ]
  },
  {
   "cell_type": "code",
   "execution_count": null,
   "metadata": {
    "collapsed": true
   },
   "outputs": [],
   "source": []
  },
  {
   "cell_type": "code",
   "execution_count": null,
   "metadata": {
    "collapsed": true
   },
   "outputs": [],
   "source": []
  },
  {
   "cell_type": "markdown",
   "metadata": {
    "nbpresent": {
     "id": "8330d82c-47fe-4ca4-b67c-332571ff4bc0"
    },
    "slideshow": {
     "slide_type": "slide"
    }
   },
   "source": [
    "## Codealong:"
   ]
  },
  {
   "cell_type": "markdown",
   "metadata": {
    "nbpresent": {
     "id": "c870bc8f-ab9c-4752-8561-2ca6466d99c9"
    },
    "slideshow": {
     "slide_type": "slide"
    }
   },
   "source": [
    "### 1. Create a list of 5 friends: Larry, Moe, Curly, Tweedle Dee, Tweedle Dumb"
   ]
  },
  {
   "cell_type": "code",
   "execution_count": null,
   "metadata": {
    "collapsed": true,
    "nbpresent": {
     "id": "60745734-05f6-4889-b3bd-34bbb252a870"
    }
   },
   "outputs": [],
   "source": []
  },
  {
   "cell_type": "markdown",
   "metadata": {
    "nbpresent": {
     "id": "af999a68-bf06-4e32-91d3-937d16b859ae"
    },
    "slideshow": {
     "slide_type": "slide"
    }
   },
   "source": [
    "### 2: Select the first item"
   ]
  },
  {
   "cell_type": "code",
   "execution_count": null,
   "metadata": {
    "collapsed": true,
    "nbpresent": {
     "id": "cef81e14-33e0-490d-b7c7-77dc02a5bc3f"
    }
   },
   "outputs": [],
   "source": []
  },
  {
   "cell_type": "markdown",
   "metadata": {
    "nbpresent": {
     "id": "c37f7b72-9f9d-41c3-a767-44f21e6645d8"
    },
    "slideshow": {
     "slide_type": "slide"
    }
   },
   "source": [
    "### 3. Select the last item"
   ]
  },
  {
   "cell_type": "code",
   "execution_count": null,
   "metadata": {
    "collapsed": true,
    "nbpresent": {
     "id": "88130e58-8e48-42de-a72d-85f9168ef30d"
    }
   },
   "outputs": [],
   "source": []
  },
  {
   "cell_type": "markdown",
   "metadata": {
    "nbpresent": {
     "id": "fd3e64ad-b247-4bec-a171-e99cdc938e4e"
    },
    "slideshow": {
     "slide_type": "slide"
    }
   },
   "source": [
    "### 4. Select the 2nd through the 5th items"
   ]
  },
  {
   "cell_type": "code",
   "execution_count": null,
   "metadata": {
    "collapsed": false,
    "nbpresent": {
     "id": "1bf87a64-5b65-4ddf-a8b7-bf58434eb8d2"
    }
   },
   "outputs": [],
   "source": []
  },
  {
   "cell_type": "markdown",
   "metadata": {
    "nbpresent": {
     "id": "1f6fa8af-8f3f-4b6d-9920-e690aba763e2"
    },
    "slideshow": {
     "slide_type": "slide"
    }
   },
   "source": [
    "### 5. Append \"Bob\" and \"Joe\" to your list - two ways"
   ]
  },
  {
   "cell_type": "code",
   "execution_count": null,
   "metadata": {
    "collapsed": false,
    "nbpresent": {
     "id": "6ca12622-45f4-45a5-9deb-5ffc4bece8c3"
    }
   },
   "outputs": [],
   "source": []
  },
  {
   "cell_type": "code",
   "execution_count": null,
   "metadata": {
    "collapsed": false,
    "nbpresent": {
     "id": "0bb42b32-d760-426a-83ea-8acc82fb371e"
    }
   },
   "outputs": [],
   "source": []
  },
  {
   "cell_type": "code",
   "execution_count": null,
   "metadata": {
    "collapsed": true,
    "nbpresent": {
     "id": "468c2dc6-f9fd-4c91-a318-4e1ab0aaab04"
    }
   },
   "outputs": [],
   "source": []
  },
  {
   "cell_type": "markdown",
   "metadata": {
    "nbpresent": {
     "id": "19c5bb4e-126f-4b32-9a59-6451fff81972"
    },
    "slideshow": {
     "slide_type": "slide"
    }
   },
   "source": [
    "### 6. Remove \"Larry\" - three ways"
   ]
  },
  {
   "cell_type": "code",
   "execution_count": null,
   "metadata": {
    "collapsed": true,
    "nbpresent": {
     "id": "044c465e-a8a7-4195-b8a9-33aabcf91b74"
    }
   },
   "outputs": [],
   "source": []
  },
  {
   "cell_type": "code",
   "execution_count": null,
   "metadata": {
    "collapsed": false,
    "nbpresent": {
     "id": "22c83146-607c-4f36-b76e-3eebf686421b"
    }
   },
   "outputs": [],
   "source": []
  },
  {
   "cell_type": "code",
   "execution_count": null,
   "metadata": {
    "collapsed": false,
    "nbpresent": {
     "id": "15dd21d8-c8c0-4462-9d86-7f158692e453"
    }
   },
   "outputs": [],
   "source": []
  },
  {
   "cell_type": "code",
   "execution_count": null,
   "metadata": {
    "collapsed": false,
    "nbpresent": {
     "id": "5c025872-5cb7-44d5-b7f2-02a1558708b8"
    }
   },
   "outputs": [],
   "source": []
  },
  {
   "cell_type": "code",
   "execution_count": null,
   "metadata": {
    "collapsed": false,
    "nbpresent": {
     "id": "efec32b5-1614-4902-a13b-91d91e967dcc"
    }
   },
   "outputs": [],
   "source": []
  },
  {
   "cell_type": "markdown",
   "metadata": {
    "nbpresent": {
     "id": "56b177cd-1813-40c6-a904-68f7e3fdc2d7"
    },
    "slideshow": {
     "slide_type": "slide"
    }
   },
   "source": [
    "## 7. Reverse a list - 2 ways"
   ]
  },
  {
   "cell_type": "code",
   "execution_count": null,
   "metadata": {
    "collapsed": true,
    "nbpresent": {
     "id": "5d5da69b-a9a6-40c6-ace8-7ed7e5faf432"
    }
   },
   "outputs": [],
   "source": []
  },
  {
   "cell_type": "code",
   "execution_count": null,
   "metadata": {
    "collapsed": true,
    "nbpresent": {
     "id": "b7cf8b14-32b6-4be9-9fa1-fad5ad36fcf5"
    }
   },
   "outputs": [],
   "source": []
  },
  {
   "cell_type": "code",
   "execution_count": null,
   "metadata": {
    "collapsed": false,
    "nbpresent": {
     "id": "436323dc-ffd2-4a5b-915f-013131477055"
    }
   },
   "outputs": [],
   "source": []
  },
  {
   "cell_type": "code",
   "execution_count": null,
   "metadata": {
    "collapsed": true,
    "nbpresent": {
     "id": "19848058-c1ae-4251-ab90-f840ace92cc3"
    }
   },
   "outputs": [],
   "source": []
  },
  {
   "cell_type": "code",
   "execution_count": null,
   "metadata": {
    "collapsed": false,
    "nbpresent": {
     "id": "fccb28bb-5558-450a-be07-5c033f540718"
    }
   },
   "outputs": [],
   "source": []
  },
  {
   "cell_type": "markdown",
   "metadata": {
    "nbpresent": {
     "id": "09f081f0-594f-47e6-8dbf-4ca3c641c3c1"
    },
    "slideshow": {
     "slide_type": "slide"
    }
   },
   "source": [
    "## Independent Practice"
   ]
  },
  {
   "cell_type": "markdown",
   "metadata": {
    "nbpresent": {
     "id": "2fab5d24-eadf-4247-9467-6eda9d6cdb89"
    },
    "slideshow": {
     "slide_type": "slide"
    }
   },
   "source": [
    ">Explore the built in functions of lists:\n",
    "\n",
    ">- use .append(item) to add item to a list\n",
    ">- use .extend([item1, item2]) to join another list to the end of the list\n",
    ">- use .insert(index, item) to add an item to a list at an index\n",
    ">- use .remove(item) to remove an item from a list\n",
    ">- use .sort() to sort a list\n",
    ">- use .count(item) to count the number of times an item appears in a list\n",
    ">- use .index(item) to find the index of an element in a list\n",
    ">- use .pop() to extract (and remove) the last element of a list\n",
    ">- use .reverse() to reverse a list"
   ]
  },
  {
   "cell_type": "code",
   "execution_count": null,
   "metadata": {
    "collapsed": false
   },
   "outputs": [],
   "source": [
    "fingers=['pinky','ring','middle','pointer','thumb']"
   ]
  },
  {
   "cell_type": "code",
   "execution_count": null,
   "metadata": {
    "collapsed": false
   },
   "outputs": [],
   "source": [
    "fingers.append('')"
   ]
  },
  {
   "cell_type": "code",
   "execution_count": null,
   "metadata": {
    "collapsed": true
   },
   "outputs": [],
   "source": []
  },
  {
   "cell_type": "code",
   "execution_count": null,
   "metadata": {
    "collapsed": true
   },
   "outputs": [],
   "source": []
  },
  {
   "cell_type": "code",
   "execution_count": null,
   "metadata": {
    "collapsed": true
   },
   "outputs": [],
   "source": []
  },
  {
   "cell_type": "code",
   "execution_count": null,
   "metadata": {
    "collapsed": true
   },
   "outputs": [],
   "source": []
  },
  {
   "cell_type": "markdown",
   "metadata": {
    "nbpresent": {
     "id": "075fa57b-dbc3-4b71-964e-0e20a97c3509"
    },
    "slideshow": {
     "slide_type": "slide"
    }
   },
   "source": [
    "## Dictionaries"
   ]
  },
  {
   "cell_type": "markdown",
   "metadata": {
    "nbpresent": {
     "id": "aeb49e5c-edee-43cc-a71f-e3a767d48136"
    },
    "slideshow": {
     "slide_type": "slide"
    }
   },
   "source": [
    "## Q: What is a dictionary?"
   ]
  },
  {
   "cell_type": "markdown",
   "metadata": {
    "nbpresent": {
     "id": "abfde86e-ecd8-437f-a736-41a75ab8d2e5"
    },
    "slideshow": {
     "slide_type": "fragment"
    }
   },
   "source": [
    "> A dictionary is a container that holds items using a key value pairs. **The items are stored unordered.** The items must be indexed by their key -- not by position."
   ]
  },
  {
   "cell_type": "markdown",
   "metadata": {
    "nbpresent": {
     "id": "109658dd-94a1-49ab-8ea5-134a37f6c157"
    },
    "slideshow": {
     "slide_type": "slide"
    }
   },
   "source": [
    "## Q: How are dictionaries denoted?"
   ]
  },
  {
   "cell_type": "markdown",
   "metadata": {
    "nbpresent": {
     "id": "c3b39df7-d86f-447e-b475-4297c6f71f99"
    },
    "slideshow": {
     "slide_type": "fragment"
    }
   },
   "source": [
    "> Curly braces: {}"
   ]
  },
  {
   "cell_type": "markdown",
   "metadata": {
    "nbpresent": {
     "id": "a7b52d0b-3a2e-4e1d-a959-1b8b21f61885"
    },
    "slideshow": {
     "slide_type": "slide"
    }
   },
   "source": [
    "### Q: What can a dict hold?"
   ]
  },
  {
   "cell_type": "markdown",
   "metadata": {
    "nbpresent": {
     "id": "15fc47e9-0505-4d5c-a39c-632792ffdfbc"
    },
    "slideshow": {
     "slide_type": "fragment"
    }
   },
   "source": [
    "> Any python data type or data structure: numerics, lists, tuples, other dicts, etc."
   ]
  },
  {
   "cell_type": "markdown",
   "metadata": {
    "nbpresent": {
     "id": "6c4b3925-5930-4b18-b0e1-600a19b8ae3c"
    },
    "slideshow": {
     "slide_type": "slide"
    }
   },
   "source": [
    "### Q: How do we select items in a dict?"
   ]
  },
  {
   "cell_type": "markdown",
   "metadata": {
    "nbpresent": {
     "id": "9206f900-eaa5-4407-b830-f3586a744d4b"
    },
    "slideshow": {
     "slide_type": "fragment"
    }
   },
   "source": [
    "> By referencing the key using either .get('sample_key') or sample_dict['sample_key']"
   ]
  },
  {
   "cell_type": "markdown",
   "metadata": {
    "nbpresent": {
     "id": "ebcf5362-0c4f-4b57-918b-3e3d34c54d8e"
    },
    "slideshow": {
     "slide_type": "slide"
    }
   },
   "source": [
    "## Codealong:"
   ]
  },
  {
   "cell_type": "markdown",
   "metadata": {
    "nbpresent": {
     "id": "d5e79922-6cde-43cb-91c8-d039c9f17c44"
    },
    "slideshow": {
     "slide_type": "slide"
    }
   },
   "source": [
    "### 1. Create a dict using the following zip codes: <br/>- sunset: 94122, presidio: 94129,  soma: 94105, marina: 94123 <br/>- call it zipcodes"
   ]
  },
  {
   "cell_type": "code",
   "execution_count": 21,
   "metadata": {
    "collapsed": true,
    "nbpresent": {
     "id": "e1d3f510-96fa-4820-b28b-2efc7eb38fcc"
    }
   },
   "outputs": [],
   "source": [
    "zip_codes={\n",
    "    'sunset':94122, 'presidio': 94129, 'soma': 94105, 'marina': 94123 \n",
    "}"
   ]
  },
  {
   "cell_type": "code",
   "execution_count": null,
   "metadata": {
    "collapsed": true,
    "nbpresent": {
     "id": "0c8043f8-6c35-45aa-9c99-b829b3634153"
    }
   },
   "outputs": [],
   "source": []
  },
  {
   "cell_type": "markdown",
   "metadata": {
    "nbpresent": {
     "id": "cf1e664f-f30a-4a29-b3ac-60311b2dd333"
    },
    "slideshow": {
     "slide_type": "slide"
    }
   },
   "source": [
    "### 2. Select soma and assign it to the variable soma_zip"
   ]
  },
  {
   "cell_type": "code",
   "execution_count": 22,
   "metadata": {
    "collapsed": false,
    "nbpresent": {
     "id": "cdb821c1-eb44-4fa6-b968-24cb2f2c959b"
    }
   },
   "outputs": [
    {
     "name": "stdout",
     "output_type": "stream",
     "text": [
      "94105\n",
      "94105\n"
     ]
    }
   ],
   "source": [
    "print zip_codes['soma']\n",
    "soma_zip= zip_codes['soma']\n",
    "print soma_zip\n"
   ]
  },
  {
   "cell_type": "code",
   "execution_count": null,
   "metadata": {
    "collapsed": true,
    "nbpresent": {
     "id": "d376447c-8283-4a74-b6de-f2e7e5b888ad"
    }
   },
   "outputs": [],
   "source": []
  },
  {
   "cell_type": "markdown",
   "metadata": {
    "collapsed": true,
    "nbpresent": {
     "id": "d1abc3e6-439b-4373-9333-11ad2adfc31a"
    },
    "slideshow": {
     "slide_type": "slide"
    }
   },
   "source": [
    "### 3. Print out the keys from the dictionary"
   ]
  },
  {
   "cell_type": "code",
   "execution_count": 23,
   "metadata": {
    "collapsed": false,
    "nbpresent": {
     "id": "7398305b-610c-47be-aadd-12ddd88c9914"
    }
   },
   "outputs": [
    {
     "data": {
      "text/plain": [
       "['soma', 'presidio', 'sunset', 'marina']"
      ]
     },
     "execution_count": 23,
     "metadata": {},
     "output_type": "execute_result"
    }
   ],
   "source": [
    "zip_codes.keys()"
   ]
  },
  {
   "cell_type": "markdown",
   "metadata": {
    "nbpresent": {
     "id": "f9110c8f-4195-4e0e-b7c3-3317288da951"
    },
    "slideshow": {
     "slide_type": "slide"
    }
   },
   "source": [
    "### 4. Print out the values"
   ]
  },
  {
   "cell_type": "code",
   "execution_count": null,
   "metadata": {
    "collapsed": false,
    "nbpresent": {
     "id": "f0a532e8-be48-489c-af31-a1ff6362fbfb"
    }
   },
   "outputs": [],
   "source": [
    "zip_codes.values()"
   ]
  },
  {
   "cell_type": "markdown",
   "metadata": {
    "nbpresent": {
     "id": "bb32eeee-743d-4cc4-ac7e-c0bf20f8d360"
    },
    "slideshow": {
     "slide_type": "slide"
    }
   },
   "source": [
    "### 5. Print out everything as a list of tuples"
   ]
  },
  {
   "cell_type": "code",
   "execution_count": 24,
   "metadata": {
    "collapsed": false,
    "nbpresent": {
     "id": "1109ad69-4d60-402a-8306-485dc5388558"
    }
   },
   "outputs": [
    {
     "name": "stdout",
     "output_type": "stream",
     "text": [
      "[(('soma', 94105),), (('presidio', 94129),), (('sunset', 94122),), (('marina', 94123),)]\n"
     ]
    }
   ],
   "source": [
    "zip(zip_codes.keys(), zip_codes.values())\n",
    "print zip(zip_codes.items())"
   ]
  },
  {
   "cell_type": "markdown",
   "metadata": {
    "nbpresent": {
     "id": "3e619cfd-1340-430e-a944-73d3de6ff8be"
    },
    "slideshow": {
     "slide_type": "slide"
    }
   },
   "source": [
    "### 6. Add a new key to the dict - use Castro 94114"
   ]
  },
  {
   "cell_type": "code",
   "execution_count": 25,
   "metadata": {
    "collapsed": false,
    "nbpresent": {
     "id": "96ace95b-296e-46ae-a59f-2c6c159331b6"
    }
   },
   "outputs": [],
   "source": [
    "zip_codes['castro']= 94114"
   ]
  },
  {
   "cell_type": "code",
   "execution_count": 26,
   "metadata": {
    "collapsed": false,
    "nbpresent": {
     "id": "bbebc175-e773-4e5d-937a-6edf46412407"
    }
   },
   "outputs": [
    {
     "data": {
      "text/plain": [
       "{'castro': 94114,\n",
       " 'marina': 94123,\n",
       " 'presidio': 94129,\n",
       " 'soma': 94105,\n",
       " 'sunset': 94122}"
      ]
     },
     "execution_count": 26,
     "metadata": {},
     "output_type": "execute_result"
    }
   ],
   "source": [
    "zip_codes"
   ]
  },
  {
   "cell_type": "markdown",
   "metadata": {
    "nbpresent": {
     "id": "3af7d2f4-adaa-441b-97eb-3d9816d16f3e"
    },
    "slideshow": {
     "slide_type": "slide"
    }
   },
   "source": [
    "### 7. Pop an item out of the dict"
   ]
  },
  {
   "cell_type": "code",
   "execution_count": 33,
   "metadata": {
    "collapsed": false,
    "nbpresent": {
     "id": "9bcca237-f9ff-4e6d-9a16-f347d7953e30"
    }
   },
   "outputs": [
    {
     "data": {
      "text/plain": [
       "94114"
      ]
     },
     "execution_count": 33,
     "metadata": {},
     "output_type": "execute_result"
    }
   ],
   "source": [
    "zip_codes.pop('castro')"
   ]
  },
  {
   "cell_type": "code",
   "execution_count": 36,
   "metadata": {
    "collapsed": false,
    "nbpresent": {
     "id": "0ca5dba1-3974-45b1-b9e7-a6fc826fc5a2"
    }
   },
   "outputs": [
    {
     "data": {
      "text/plain": [
       "{'marina': 94123, 'presidio': 94129, 'soma': 94105, 'sunset': 94122}"
      ]
     },
     "execution_count": 36,
     "metadata": {},
     "output_type": "execute_result"
    }
   ],
   "source": [
    "zip_codes"
   ]
  },
  {
   "cell_type": "code",
   "execution_count": null,
   "metadata": {
    "collapsed": false,
    "nbpresent": {
     "id": "1378e4b7-299b-47e9-bf31-0a4d4a97314b"
    }
   },
   "outputs": [],
   "source": []
  },
  {
   "cell_type": "markdown",
   "metadata": {
    "nbpresent": {
     "id": "2e7e2f9b-c4f5-45d5-b230-c335d1950488"
    },
    "slideshow": {
     "slide_type": "slide"
    }
   },
   "source": [
    "## Independent Practice: Dictionaries (10 minutes)\n",
    "\n",
    "Build your own dictionary with key:value pairs of your choosing.\n",
    "\n",
    "Explore some of the built in functions for dictionaries:\n",
    "\n",
    "- use **.pop(key)** to remove a key:value pair from the dictionary and return the value\n",
    "- use **.get(key)** to get the value for a key\n",
    "- use **.has_key(key)** to check if a key is in the dictionary\n",
    "- use **.keys()** to get a list of the keys in the dictionary\n",
    "- use **.items()** to get a list of the key:value pairs in the dictionary\n",
    "- use **.update(other_dictionary)** to merge a 2nd dictionary into the current dictionary\n",
    "- use **.clear()** to remove all key:value pairs from the dictionary"
   ]
  },
  {
   "cell_type": "code",
   "execution_count": 37,
   "metadata": {
    "collapsed": false
   },
   "outputs": [
    {
     "data": {
      "text/plain": [
       "94123"
      ]
     },
     "execution_count": 37,
     "metadata": {},
     "output_type": "execute_result"
    }
   ],
   "source": [
    "zip_codes.get('marina')"
   ]
  },
  {
   "cell_type": "code",
   "execution_count": 38,
   "metadata": {
    "collapsed": false
   },
   "outputs": [
    {
     "data": {
      "text/plain": [
       "True"
      ]
     },
     "execution_count": 38,
     "metadata": {},
     "output_type": "execute_result"
    }
   ],
   "source": [
    "zip_codes.has_key('marina')"
   ]
  },
  {
   "cell_type": "code",
   "execution_count": 39,
   "metadata": {
    "collapsed": false
   },
   "outputs": [
    {
     "data": {
      "text/plain": [
       "['soma', 'presidio', 'sunset', 'marina']"
      ]
     },
     "execution_count": 39,
     "metadata": {},
     "output_type": "execute_result"
    }
   ],
   "source": [
    "zip_codes.keys()"
   ]
  },
  {
   "cell_type": "code",
   "execution_count": 40,
   "metadata": {
    "collapsed": false
   },
   "outputs": [
    {
     "data": {
      "text/plain": [
       "[('soma', 94105), ('presidio', 94129), ('sunset', 94122), ('marina', 94123)]"
      ]
     },
     "execution_count": 40,
     "metadata": {},
     "output_type": "execute_result"
    }
   ],
   "source": [
    "zip_codes.items()"
   ]
  },
  {
   "cell_type": "code",
   "execution_count": 44,
   "metadata": {
    "collapsed": false
   },
   "outputs": [],
   "source": [
    "FL_Zips= {\n",
    "    'wpb':33458,\n",
    "    'pbg':33408\n",
    "}\n",
    "\n",
    "zip_codes.update(FL_Zips)"
   ]
  },
  {
   "cell_type": "code",
   "execution_count": 45,
   "metadata": {
    "collapsed": false
   },
   "outputs": [
    {
     "data": {
      "text/plain": [
       "{'marina': 94123,\n",
       " 'pbg': 33408,\n",
       " 'presidio': 94129,\n",
       " 'soma': 94105,\n",
       " 'sunset': 94122,\n",
       " 'wpb': 33458}"
      ]
     },
     "execution_count": 45,
     "metadata": {},
     "output_type": "execute_result"
    }
   ],
   "source": [
    "zip_codes"
   ]
  },
  {
   "cell_type": "code",
   "execution_count": 47,
   "metadata": {
    "collapsed": false
   },
   "outputs": [],
   "source": [
    "zip_codes.clear()"
   ]
  },
  {
   "cell_type": "code",
   "execution_count": 48,
   "metadata": {
    "collapsed": false
   },
   "outputs": [
    {
     "data": {
      "text/plain": [
       "{}"
      ]
     },
     "execution_count": 48,
     "metadata": {},
     "output_type": "execute_result"
    }
   ],
   "source": [
    "zip_codes"
   ]
  },
  {
   "cell_type": "markdown",
   "metadata": {
    "nbpresent": {
     "id": "539a5298-af99-452c-ab63-4e0bf403c176"
    },
    "slideshow": {
     "slide_type": "slide"
    }
   },
   "source": [
    "### Conclusion:\n",
    "\n",
    "- Lists and dictionaries are the two most popular data structures used in Python\n",
    "- Lists and dictionaries are both mutable\n",
    "- Lists are indexed by postion and dictionaries are indexed by keys"
   ]
  },
  {
   "cell_type": "code",
   "execution_count": null,
   "metadata": {
    "collapsed": false,
    "nbpresent": {
     "id": "3a6b70e2-03d0-4332-9c38-b7b7d3f7cbe5"
    }
   },
   "outputs": [],
   "source": []
  },
  {
   "cell_type": "code",
   "execution_count": 53,
   "metadata": {
    "collapsed": false,
    "nbpresent": {
     "id": "4389e4ae-fe06-4d25-8bf1-d8c1f426ba00"
    }
   },
   "outputs": [
    {
     "name": "stdout",
     "output_type": "stream",
     "text": [
      "[0, 10, 20, 30, 40, 50]\n"
     ]
    }
   ],
   "source": [
    "orig_list = [0, 1, 2, 3, 4, 5]\n",
    "new_list= []\n",
    "for x in orig_list:\n",
    "    new_list.append(x*10)\n",
    "print new_list"
   ]
  },
  {
   "cell_type": "code",
   "execution_count": null,
   "metadata": {
    "collapsed": true
   },
   "outputs": [],
   "source": []
  }
 ],
 "metadata": {
  "anaconda-cloud": {},
  "celltoolbar": "Slideshow",
  "kernelspec": {
   "display_name": "Python [Root]",
   "language": "python",
   "name": "Python [Root]"
  },
  "language_info": {
   "codemirror_mode": {
    "name": "ipython",
    "version": 2
   },
   "file_extension": ".py",
   "mimetype": "text/x-python",
   "name": "python",
   "nbconvert_exporter": "python",
   "pygments_lexer": "ipython2",
   "version": "2.7.12"
  },
  "nbpresent": {
   "slides": {
    "04a98b53-d01c-4ead-b1a4-b9d85cc7bfce": {
     "id": "04a98b53-d01c-4ead-b1a4-b9d85cc7bfce",
     "prev": "6a8299d2-7555-4041-8051-6ce0ec5c5f74",
     "regions": {
      "30e0af14-2f6a-4ae8-a2ad-2122fd747d3e": {
       "attrs": {
        "height": 0.8,
        "width": 0.8,
        "x": 0.1,
        "y": 0.1
       },
       "content": {
        "cell": "03131d32-7d58-4a8e-96ec-36074f77bea4",
        "part": "whole"
       },
       "id": "30e0af14-2f6a-4ae8-a2ad-2122fd747d3e"
      }
     }
    },
    "05123fce-83f4-48f8-b86e-65c1e6d8b66a": {
     "id": "05123fce-83f4-48f8-b86e-65c1e6d8b66a",
     "prev": "238ed78b-edf6-4964-8faf-9aa888cf96fe",
     "regions": {
      "d054ab3a-fa56-4ea1-8498-72f19406a9c2": {
       "attrs": {
        "height": 0.8,
        "width": 0.8,
        "x": 0.1,
        "y": 0.1
       },
       "content": {
        "cell": "8330d82c-47fe-4ca4-b67c-332571ff4bc0",
        "part": "whole"
       },
       "id": "d054ab3a-fa56-4ea1-8498-72f19406a9c2"
      }
     }
    },
    "05a1400a-e777-401a-a4eb-fd86a1f166c3": {
     "id": "05a1400a-e777-401a-a4eb-fd86a1f166c3",
     "prev": "4dd4ed02-3630-4e98-88cb-ef6257d1f0f0",
     "regions": {
      "7fce34c3-9a27-4f04-8688-55f5f7a0028c": {
       "attrs": {
        "height": 0.8,
        "width": 0.8,
        "x": 0.1,
        "y": 0.1
       },
       "content": {
        "cell": "19c5bb4e-126f-4b32-9a59-6451fff81972",
        "part": "whole"
       },
       "id": "7fce34c3-9a27-4f04-8688-55f5f7a0028c"
      }
     }
    },
    "07f12ecd-a0c7-4fbd-85bf-4ae3eaea3616": {
     "id": "07f12ecd-a0c7-4fbd-85bf-4ae3eaea3616",
     "prev": "a174749b-f033-4df7-9c2f-0a7b35c4687c",
     "regions": {
      "a38322b5-4c93-4d3b-b942-bcdab5eee45d": {
       "attrs": {
        "height": 0.8,
        "width": 0.8,
        "x": 0.1,
        "y": 0.1
       },
       "content": {
        "cell": "aeb49e5c-edee-43cc-a71f-e3a767d48136",
        "part": "whole"
       },
       "id": "a38322b5-4c93-4d3b-b942-bcdab5eee45d"
      }
     }
    },
    "08b219a9-e722-4279-a4eb-72aaa5601f7a": {
     "id": "08b219a9-e722-4279-a4eb-72aaa5601f7a",
     "prev": "b480d0a3-cab4-4244-8316-849c639f22ab",
     "regions": {
      "16d3ce17-549c-4166-a8b4-c07ba9701d8d": {
       "attrs": {
        "height": 0.8,
        "width": 0.8,
        "x": 0.1,
        "y": 0.1
       },
       "content": {
        "cell": "60745734-05f6-4889-b3bd-34bbb252a870",
        "part": "whole"
       },
       "id": "16d3ce17-549c-4166-a8b4-c07ba9701d8d"
      }
     }
    },
    "09ba89c3-dedc-46b8-99f9-6e5bbe737e31": {
     "id": "09ba89c3-dedc-46b8-99f9-6e5bbe737e31",
     "prev": "4c75eb43-3e6e-45d3-8111-dd3604f9730f",
     "regions": {
      "864fc1c4-e0cd-43cf-a439-58005ecb1a2a": {
       "attrs": {
        "height": 0.8,
        "width": 0.8,
        "x": 0.1,
        "y": 0.1
       },
       "content": {
        "cell": "cef81e14-33e0-490d-b7c7-77dc02a5bc3f",
        "part": "whole"
       },
       "id": "864fc1c4-e0cd-43cf-a439-58005ecb1a2a"
      }
     }
    },
    "0f4026c5-08d5-4d5a-b8b6-dc504e6ee65c": {
     "id": "0f4026c5-08d5-4d5a-b8b6-dc504e6ee65c",
     "prev": "07f12ecd-a0c7-4fbd-85bf-4ae3eaea3616",
     "regions": {
      "c8cbc6f5-7845-4243-a251-3b94c5eea1eb": {
       "attrs": {
        "height": 0.8,
        "width": 0.8,
        "x": 0.1,
        "y": 0.1
       },
       "content": {
        "cell": "abfde86e-ecd8-437f-a736-41a75ab8d2e5",
        "part": "whole"
       },
       "id": "c8cbc6f5-7845-4243-a251-3b94c5eea1eb"
      }
     }
    },
    "13d32117-542f-473a-9f49-d375c349710e": {
     "id": "13d32117-542f-473a-9f49-d375c349710e",
     "prev": "0f4026c5-08d5-4d5a-b8b6-dc504e6ee65c",
     "regions": {
      "34e25201-360d-43d5-b6fa-0c1706f4d3bd": {
       "attrs": {
        "height": 0.8,
        "width": 0.8,
        "x": 0.1,
        "y": 0.1
       },
       "content": {
        "cell": "109658dd-94a1-49ab-8ea5-134a37f6c157",
        "part": "whole"
       },
       "id": "34e25201-360d-43d5-b6fa-0c1706f4d3bd"
      }
     }
    },
    "149f25fa-1e35-48b1-bb2e-b8c51c25897a": {
     "id": "149f25fa-1e35-48b1-bb2e-b8c51c25897a",
     "prev": "38b30cdd-edc3-4732-810e-256e6bb0cbc4",
     "regions": {
      "773d20f0-2807-4936-bf53-0bdab918d2b9": {
       "attrs": {
        "height": 0.8,
        "width": 0.8,
        "x": 0.1,
        "y": 0.1
       },
       "content": {
        "cell": "0ca5dba1-3974-45b1-b9e7-a6fc826fc5a2",
        "part": "whole"
       },
       "id": "773d20f0-2807-4936-bf53-0bdab918d2b9"
      }
     }
    },
    "16ed6eab-7131-4953-9fe1-31363db006ed": {
     "id": "16ed6eab-7131-4953-9fe1-31363db006ed",
     "prev": "e7c94e3a-34c1-4413-8ea9-f998bb26ff2f",
     "regions": {
      "f9956097-2132-44bd-9791-d3395c6adcfa": {
       "attrs": {
        "height": 0.8,
        "width": 0.8,
        "x": 0.1,
        "y": 0.1
       },
       "content": {
        "cell": "c406d4a8-8809-4b16-84a8-45e58a6e910c",
        "part": "whole"
       },
       "id": "f9956097-2132-44bd-9791-d3395c6adcfa"
      }
     }
    },
    "186da30a-d69f-425a-974f-45e9fe6e5ec0": {
     "id": "186da30a-d69f-425a-974f-45e9fe6e5ec0",
     "prev": "3d2df945-000e-4e0d-91de-d5eef80b8dcd",
     "regions": {
      "939b701e-760a-4474-95a1-f87729bd4061": {
       "attrs": {
        "height": 0.8,
        "width": 0.8,
        "x": 0.1,
        "y": 0.1
       },
       "content": {
        "cell": "5c1453e8-42d5-49ad-b84f-aad0162ef001",
        "part": "whole"
       },
       "id": "939b701e-760a-4474-95a1-f87729bd4061"
      }
     }
    },
    "204edd70-760d-48b7-9eb1-cd8d78c19c4d": {
     "id": "204edd70-760d-48b7-9eb1-cd8d78c19c4d",
     "prev": "b9892fd9-d1e9-434c-ba2f-f1145091f4d5",
     "regions": {
      "188f30c4-a669-4858-b98c-47836d38cfa9": {
       "attrs": {
        "height": 0.8,
        "width": 0.8,
        "x": 0.1,
        "y": 0.1
       },
       "content": {
        "cell": "7398305b-610c-47be-aadd-12ddd88c9914",
        "part": "whole"
       },
       "id": "188f30c4-a669-4858-b98c-47836d38cfa9"
      }
     }
    },
    "238ed78b-edf6-4964-8faf-9aa888cf96fe": {
     "id": "238ed78b-edf6-4964-8faf-9aa888cf96fe",
     "prev": "cf6456c2-be60-4969-80fd-acc6a851e4fe",
     "regions": {
      "a43d7cd3-fde8-4973-8dd8-a2d8355e2010": {
       "attrs": {
        "height": 0.8,
        "width": 0.8,
        "x": 0.1,
        "y": 0.1
       },
       "content": {
        "cell": "1ea0d158-2e8d-4a95-835b-541f8a00adbd",
        "part": "whole"
       },
       "id": "a43d7cd3-fde8-4973-8dd8-a2d8355e2010"
      }
     }
    },
    "28395fc3-73de-46c2-a0cd-fcf727ed4180": {
     "id": "28395fc3-73de-46c2-a0cd-fcf727ed4180",
     "prev": "56c6fc53-8d02-456c-b115-1505acc669ce",
     "regions": {
      "7631ebe3-b789-41d3-89a2-23855c70ee68": {
       "attrs": {
        "height": 0.8,
        "width": 0.8,
        "x": 0.1,
        "y": 0.1
       },
       "content": {
        "cell": "f0a532e8-be48-489c-af31-a1ff6362fbfb",
        "part": "whole"
       },
       "id": "7631ebe3-b789-41d3-89a2-23855c70ee68"
      }
     }
    },
    "2faa259b-7a0b-44fa-a9f9-6bdbeb5d39cf": {
     "id": "2faa259b-7a0b-44fa-a9f9-6bdbeb5d39cf",
     "prev": "28395fc3-73de-46c2-a0cd-fcf727ed4180",
     "regions": {
      "01d9c314-f411-428f-b2ae-4ddd7b13a5d5": {
       "attrs": {
        "height": 0.8,
        "width": 0.8,
        "x": 0.1,
        "y": 0.1
       },
       "content": {
        "cell": "bb32eeee-743d-4cc4-ac7e-c0bf20f8d360",
        "part": "whole"
       },
       "id": "01d9c314-f411-428f-b2ae-4ddd7b13a5d5"
      }
     }
    },
    "38b30cdd-edc3-4732-810e-256e6bb0cbc4": {
     "id": "38b30cdd-edc3-4732-810e-256e6bb0cbc4",
     "prev": "8ba9e5b4-ff26-4b2c-965c-1205831b77b1",
     "regions": {
      "5ce6bbb3-b289-4517-8788-5777fcfc12e8": {
       "attrs": {
        "height": 0.8,
        "width": 0.8,
        "x": 0.1,
        "y": 0.1
       },
       "content": {
        "cell": "9bcca237-f9ff-4e6d-9a16-f347d7953e30",
        "part": "whole"
       },
       "id": "5ce6bbb3-b289-4517-8788-5777fcfc12e8"
      }
     }
    },
    "38dd2aff-b135-4bad-ba37-749314225cf1": {
     "id": "38dd2aff-b135-4bad-ba37-749314225cf1",
     "prev": "651f7cba-2903-4460-bd20-ee8815ec730c",
     "regions": {
      "a2c28819-7afc-4546-af75-c2663ed0a18f": {
       "attrs": {
        "height": 0.8,
        "width": 0.8,
        "x": 0.1,
        "y": 0.1
       },
       "content": {
        "cell": "1bf87a64-5b65-4ddf-a8b7-bf58434eb8d2",
        "part": "whole"
       },
       "id": "a2c28819-7afc-4546-af75-c2663ed0a18f"
      }
     }
    },
    "3bc56135-12c9-46c8-9ef7-bc737df00fad": {
     "id": "3bc56135-12c9-46c8-9ef7-bc737df00fad",
     "prev": "13d32117-542f-473a-9f49-d375c349710e",
     "regions": {
      "e2c082c3-03e1-49c3-89fd-ae2960a95a0f": {
       "attrs": {
        "height": 0.8,
        "width": 0.8,
        "x": 0.1,
        "y": 0.1
       },
       "content": {
        "cell": "c3b39df7-d86f-447e-b475-4297c6f71f99",
        "part": "whole"
       },
       "id": "e2c082c3-03e1-49c3-89fd-ae2960a95a0f"
      }
     }
    },
    "3d2df945-000e-4e0d-91de-d5eef80b8dcd": {
     "id": "3d2df945-000e-4e0d-91de-d5eef80b8dcd",
     "prev": "f3f2fc7d-3f37-4d64-bd5d-d34042e238a8",
     "regions": {
      "594a7542-ffed-4c51-800e-b43e08fb56c8": {
       "attrs": {
        "height": 0.8,
        "width": 0.8,
        "x": 0.1,
        "y": 0.1
       },
       "content": {
        "cell": "ce1c359d-fccc-4658-afee-96e1c6a91583",
        "part": "whole"
       },
       "id": "594a7542-ffed-4c51-800e-b43e08fb56c8"
      }
     }
    },
    "412da0dc-f023-4dce-907f-b7e20c081e81": {
     "id": "412da0dc-f023-4dce-907f-b7e20c081e81",
     "prev": "d4b7d1b3-169d-4069-bf69-9d139cb14560",
     "regions": {
      "5daa5bed-9f05-4429-8d2c-e93cc7ce42bf": {
       "attrs": {
        "height": 0.8,
        "width": 0.8,
        "x": 0.1,
        "y": 0.1
       },
       "content": {
        "cell": "9206f900-eaa5-4407-b830-f3586a744d4b",
        "part": "whole"
       },
       "id": "5daa5bed-9f05-4429-8d2c-e93cc7ce42bf"
      }
     }
    },
    "472dc18a-72e0-4715-a10e-ce634fbf0b1b": {
     "id": "472dc18a-72e0-4715-a10e-ce634fbf0b1b",
     "prev": "cf2c021a-c222-4ce4-9866-39099f02d0c0",
     "regions": {
      "95b6d815-e33d-4552-b0a6-20429c65830d": {
       "attrs": {
        "height": 0.8,
        "width": 0.8,
        "x": 0.1,
        "y": 0.1
       },
       "content": {
        "cell": "3e619cfd-1340-430e-a944-73d3de6ff8be",
        "part": "whole"
       },
       "id": "95b6d815-e33d-4552-b0a6-20429c65830d"
      }
     }
    },
    "4aa4c4fb-f46b-462d-ac74-261dea855e8f": {
     "id": "4aa4c4fb-f46b-462d-ac74-261dea855e8f",
     "prev": "f50f01cc-a319-49f6-80e6-42406e05d28a",
     "regions": {
      "50acf18d-3c43-4f28-a82c-f9e6d28b3e51": {
       "attrs": {
        "height": 0.8,
        "width": 0.8,
        "x": 0.1,
        "y": 0.1
       },
       "content": {
        "cell": "0c8043f8-6c35-45aa-9c99-b829b3634153",
        "part": "whole"
       },
       "id": "50acf18d-3c43-4f28-a82c-f9e6d28b3e51"
      }
     }
    },
    "4aee03ba-7978-4b4c-9e2a-db7f677c9da9": {
     "id": "4aee03ba-7978-4b4c-9e2a-db7f677c9da9",
     "prev": "59c8cd58-bc6b-4742-b0a0-4aa929605c78",
     "regions": {
      "b2615484-9931-4282-87d1-4d992caecb68": {
       "attrs": {
        "height": 0.8,
        "width": 0.8,
        "x": 0.1,
        "y": 0.1
       },
       "content": {
        "cell": "2fab5d24-eadf-4247-9467-6eda9d6cdb89",
        "part": "whole"
       },
       "id": "b2615484-9931-4282-87d1-4d992caecb68"
      }
     }
    },
    "4c0ae8f4-715c-457c-981b-0be6a9bace42": {
     "id": "4c0ae8f4-715c-457c-981b-0be6a9bace42",
     "prev": "e86c27cd-adc7-4f9a-a6d1-7c8d4ea40437",
     "regions": {
      "da8f7542-dbef-49d8-a7d9-86a02ef5b75e": {
       "attrs": {
        "height": 0.8,
        "width": 0.8,
        "x": 0.1,
        "y": 0.1
       },
       "content": {
        "cell": "b7cf8b14-32b6-4be9-9fa1-fad5ad36fcf5",
        "part": "whole"
       },
       "id": "da8f7542-dbef-49d8-a7d9-86a02ef5b75e"
      }
     }
    },
    "4c75eb43-3e6e-45d3-8111-dd3604f9730f": {
     "id": "4c75eb43-3e6e-45d3-8111-dd3604f9730f",
     "prev": "08b219a9-e722-4279-a4eb-72aaa5601f7a",
     "regions": {
      "fc03d0cd-f8e2-48e9-87ad-ae8800ec7096": {
       "attrs": {
        "height": 0.8,
        "width": 0.8,
        "x": 0.1,
        "y": 0.1
       },
       "content": {
        "cell": "af999a68-bf06-4e32-91d3-937d16b859ae",
        "part": "whole"
       },
       "id": "fc03d0cd-f8e2-48e9-87ad-ae8800ec7096"
      }
     }
    },
    "4d3bb7c2-2447-4819-9559-76497c2f21a9": {
     "id": "4d3bb7c2-2447-4819-9559-76497c2f21a9",
     "prev": "8025e2cc-451f-4239-8e01-c910c1bfb6c9",
     "regions": {
      "20ab4e2e-3b14-40f6-b128-e25954107a5e": {
       "attrs": {
        "height": 0.8,
        "width": 0.8,
        "x": 0.1,
        "y": 0.1
       },
       "content": {
        "cell": "c701f940-fa68-449c-a7cf-e78bb3872121",
        "part": "whole"
       },
       "id": "20ab4e2e-3b14-40f6-b128-e25954107a5e"
      }
     }
    },
    "4dd4ed02-3630-4e98-88cb-ef6257d1f0f0": {
     "id": "4dd4ed02-3630-4e98-88cb-ef6257d1f0f0",
     "prev": "6677658f-115f-48e2-ae55-147b0b7cfdf0",
     "regions": {
      "75d2b259-28f0-4c25-b54a-cdbb2f7034fb": {
       "attrs": {
        "height": 0.8,
        "width": 0.8,
        "x": 0.1,
        "y": 0.1
       },
       "content": {
        "cell": "468c2dc6-f9fd-4c91-a318-4e1ab0aaab04",
        "part": "whole"
       },
       "id": "75d2b259-28f0-4c25-b54a-cdbb2f7034fb"
      }
     }
    },
    "566723b1-0d1e-46b5-be1b-41fd77ccb66f": {
     "id": "566723b1-0d1e-46b5-be1b-41fd77ccb66f",
     "prev": "186da30a-d69f-425a-974f-45e9fe6e5ec0",
     "regions": {
      "794ff235-ebee-404b-a004-58defc455b63": {
       "attrs": {
        "height": 0.8,
        "width": 0.8,
        "x": 0.1,
        "y": 0.1
       },
       "content": {
        "cell": "ef51b55f-66ca-4210-92c3-59c3a698c7e1",
        "part": "whole"
       },
       "id": "794ff235-ebee-404b-a004-58defc455b63"
      }
     }
    },
    "56c6fc53-8d02-456c-b115-1505acc669ce": {
     "id": "56c6fc53-8d02-456c-b115-1505acc669ce",
     "prev": "204edd70-760d-48b7-9eb1-cd8d78c19c4d",
     "regions": {
      "cc87298e-a6df-4ee5-939e-63f4a09b492e": {
       "attrs": {
        "height": 0.8,
        "width": 0.8,
        "x": 0.1,
        "y": 0.1
       },
       "content": {
        "cell": "f9110c8f-4195-4e0e-b7c3-3317288da951",
        "part": "whole"
       },
       "id": "cc87298e-a6df-4ee5-939e-63f4a09b492e"
      }
     }
    },
    "59c8cd58-bc6b-4742-b0a0-4aa929605c78": {
     "id": "59c8cd58-bc6b-4742-b0a0-4aa929605c78",
     "prev": "80229192-8ed5-4a8c-ba7f-05cb0f42752e",
     "regions": {
      "2d251a29-7f68-429a-b6e8-0dde1fd98ee5": {
       "attrs": {
        "height": 0.8,
        "width": 0.8,
        "x": 0.1,
        "y": 0.1
       },
       "content": {
        "cell": "09f081f0-594f-47e6-8dbf-4ca3c641c3c1",
        "part": "whole"
       },
       "id": "2d251a29-7f68-429a-b6e8-0dde1fd98ee5"
      }
     }
    },
    "5d8f57c3-ba8b-41f1-945e-6ef9116d8b12": {
     "id": "5d8f57c3-ba8b-41f1-945e-6ef9116d8b12",
     "prev": "d507fe41-2616-40ef-91c6-121c3c4fc66a",
     "regions": {
      "238a5058-3d2d-47df-b336-bcbf46c15077": {
       "attrs": {
        "height": 0.8,
        "width": 0.8,
        "x": 0.1,
        "y": 0.1
       },
       "content": {
        "cell": "cdb821c1-eb44-4fa6-b968-24cb2f2c959b",
        "part": "whole"
       },
       "id": "238a5058-3d2d-47df-b336-bcbf46c15077"
      }
     }
    },
    "5fcab06b-ed69-4051-b80c-39f92c6027bc": {
     "id": "5fcab06b-ed69-4051-b80c-39f92c6027bc",
     "prev": "7e1e4374-162c-4f78-93a3-68096dbbc0d8",
     "regions": {
      "6a52a57c-7e46-4216-bb95-2eb349a6d337": {
       "attrs": {
        "height": 0.8,
        "width": 0.8,
        "x": 0.1,
        "y": 0.1
       },
       "content": {
        "cell": "3a6b70e2-03d0-4332-9c38-b7b7d3f7cbe5",
        "part": "whole"
       },
       "id": "6a52a57c-7e46-4216-bb95-2eb349a6d337"
      }
     }
    },
    "60e2b323-5dd7-4e5c-b0f8-238080394ac3": {
     "id": "60e2b323-5dd7-4e5c-b0f8-238080394ac3",
     "prev": "412da0dc-f023-4dce-907f-b7e20c081e81",
     "regions": {
      "a4cbd5ca-4d93-4835-8cc9-a1a247289157": {
       "attrs": {
        "height": 0.8,
        "width": 0.8,
        "x": 0.1,
        "y": 0.1
       },
       "content": {
        "cell": "ebcf5362-0c4f-4b57-918b-3e3d34c54d8e",
        "part": "whole"
       },
       "id": "a4cbd5ca-4d93-4835-8cc9-a1a247289157"
      }
     }
    },
    "651f7cba-2903-4460-bd20-ee8815ec730c": {
     "id": "651f7cba-2903-4460-bd20-ee8815ec730c",
     "prev": "73d61b7e-ac2b-42cd-8038-f44935aaee8d",
     "regions": {
      "52ebdb59-33e8-4f9e-ac85-a23ce9f44599": {
       "attrs": {
        "height": 0.8,
        "width": 0.8,
        "x": 0.1,
        "y": 0.1
       },
       "content": {
        "cell": "fd3e64ad-b247-4bec-a171-e99cdc938e4e",
        "part": "whole"
       },
       "id": "52ebdb59-33e8-4f9e-ac85-a23ce9f44599"
      }
     }
    },
    "6677658f-115f-48e2-ae55-147b0b7cfdf0": {
     "id": "6677658f-115f-48e2-ae55-147b0b7cfdf0",
     "prev": "883b74af-1543-4e93-b6dc-76739bc790e3",
     "regions": {
      "614219e8-dc96-445f-8812-5d2c14a00302": {
       "attrs": {
        "height": 0.8,
        "width": 0.8,
        "x": 0.1,
        "y": 0.1
       },
       "content": {
        "cell": "0bb42b32-d760-426a-83ea-8acc82fb371e",
        "part": "whole"
       },
       "id": "614219e8-dc96-445f-8812-5d2c14a00302"
      }
     }
    },
    "6a24885e-2743-4cef-8265-a7a7252d8dc1": {
     "id": "6a24885e-2743-4cef-8265-a7a7252d8dc1",
     "prev": "38dd2aff-b135-4bad-ba37-749314225cf1",
     "regions": {
      "0636b041-357e-4cd5-a5d8-dc9e68e46970": {
       "attrs": {
        "height": 0.8,
        "width": 0.8,
        "x": 0.1,
        "y": 0.1
       },
       "content": {
        "cell": "1f6fa8af-8f3f-4b6d-9920-e690aba763e2",
        "part": "whole"
       },
       "id": "0636b041-357e-4cd5-a5d8-dc9e68e46970"
      }
     }
    },
    "6a8299d2-7555-4041-8051-6ce0ec5c5f74": {
     "id": "6a8299d2-7555-4041-8051-6ce0ec5c5f74",
     "prev": null,
     "regions": {
      "6038cf80-d698-4653-acee-e26e2778a3bc": {
       "attrs": {
        "height": 0.8,
        "width": 0.8,
        "x": 0.1,
        "y": 0.1
       },
       "content": {
        "cell": "9f27af25-8652-4f24-9ad2-139a50e2a81e",
        "part": "whole"
       },
       "id": "6038cf80-d698-4653-acee-e26e2778a3bc"
      }
     }
    },
    "6bbe3beb-9241-4e76-ac5d-79c016e6b34e": {
     "id": "6bbe3beb-9241-4e76-ac5d-79c016e6b34e",
     "prev": "09ba89c3-dedc-46b8-99f9-6e5bbe737e31",
     "regions": {
      "288ec3ce-d277-4cf9-b535-4caa6952d1b9": {
       "attrs": {
        "height": 0.8,
        "width": 0.8,
        "x": 0.1,
        "y": 0.1
       },
       "content": {
        "cell": "c37f7b72-9f9d-41c3-a767-44f21e6645d8",
        "part": "whole"
       },
       "id": "288ec3ce-d277-4cf9-b535-4caa6952d1b9"
      }
     }
    },
    "7329da23-7c6f-439e-9214-78c3657a80f2": {
     "id": "7329da23-7c6f-439e-9214-78c3657a80f2",
     "prev": "5fcab06b-ed69-4051-b80c-39f92c6027bc",
     "regions": {
      "8733f68e-3d9c-426e-b57b-4b7f79692e5f": {
       "attrs": {
        "height": 0.8,
        "width": 0.8,
        "x": 0.1,
        "y": 0.1
       },
       "content": {
        "cell": "4389e4ae-fe06-4d25-8bf1-d8c1f426ba00",
        "part": "whole"
       },
       "id": "8733f68e-3d9c-426e-b57b-4b7f79692e5f"
      }
     }
    },
    "73d61b7e-ac2b-42cd-8038-f44935aaee8d": {
     "id": "73d61b7e-ac2b-42cd-8038-f44935aaee8d",
     "prev": "6bbe3beb-9241-4e76-ac5d-79c016e6b34e",
     "regions": {
      "0cb37f4d-e18d-410a-a69b-de2b48f65587": {
       "attrs": {
        "height": 0.8,
        "width": 0.8,
        "x": 0.1,
        "y": 0.1
       },
       "content": {
        "cell": "88130e58-8e48-42de-a72d-85f9168ef30d",
        "part": "whole"
       },
       "id": "0cb37f4d-e18d-410a-a69b-de2b48f65587"
      }
     }
    },
    "79abf25c-f5c8-4d87-a353-40688c43eb0e": {
     "id": "79abf25c-f5c8-4d87-a353-40688c43eb0e",
     "prev": "e4c681bb-128d-4958-b21e-7a82b3ecd28f",
     "regions": {
      "490f6e5a-5247-422e-b849-003e76780d44": {
       "attrs": {
        "height": 0.8,
        "width": 0.8,
        "x": 0.1,
        "y": 0.1
       },
       "content": {
        "cell": "efec32b5-1614-4902-a13b-91d91e967dcc",
        "part": "whole"
       },
       "id": "490f6e5a-5247-422e-b849-003e76780d44"
      }
     }
    },
    "7b3b4591-f1dc-4a9f-a7a8-1151bd4ca057": {
     "id": "7b3b4591-f1dc-4a9f-a7a8-1151bd4ca057",
     "prev": "f246e611-37fd-4c36-b435-d102ff6977d9",
     "regions": {
      "66e7515a-6448-4150-8dd3-930ec112fdd7": {
       "attrs": {
        "height": 0.8,
        "width": 0.8,
        "x": 0.1,
        "y": 0.1
       },
       "content": {
        "cell": "bbebc175-e773-4e5d-937a-6edf46412407",
        "part": "whole"
       },
       "id": "66e7515a-6448-4150-8dd3-930ec112fdd7"
      }
     }
    },
    "7e1e4374-162c-4f78-93a3-68096dbbc0d8": {
     "id": "7e1e4374-162c-4f78-93a3-68096dbbc0d8",
     "prev": "90a9766b-5c33-4a48-9412-e6a5781072c2",
     "regions": {
      "14330aff-b18d-4245-8661-23c7661ee445": {
       "attrs": {
        "height": 0.8,
        "width": 0.8,
        "x": 0.1,
        "y": 0.1
       },
       "content": {
        "cell": "539a5298-af99-452c-ab63-4e0bf403c176",
        "part": "whole"
       },
       "id": "14330aff-b18d-4245-8661-23c7661ee445"
      }
     }
    },
    "80229192-8ed5-4a8c-ba7f-05cb0f42752e": {
     "id": "80229192-8ed5-4a8c-ba7f-05cb0f42752e",
     "prev": "c9a49400-6c87-4228-815f-c828b9bedb0b",
     "regions": {
      "e8b719cf-5589-4a00-80de-84ac82fd6d64": {
       "attrs": {
        "height": 0.8,
        "width": 0.8,
        "x": 0.1,
        "y": 0.1
       },
       "content": {
        "cell": "fccb28bb-5558-450a-be07-5c033f540718",
        "part": "whole"
       },
       "id": "e8b719cf-5589-4a00-80de-84ac82fd6d64"
      }
     }
    },
    "8025e2cc-451f-4239-8e01-c910c1bfb6c9": {
     "id": "8025e2cc-451f-4239-8e01-c910c1bfb6c9",
     "prev": "e9c51e5e-dd7d-4bd8-b250-bf4d09746046",
     "regions": {
      "2c8ec8d0-a872-4170-8e1c-ee45090b60d8": {
       "attrs": {
        "height": 0.8,
        "width": 0.8,
        "x": 0.1,
        "y": 0.1
       },
       "content": {
        "cell": "e32a1b8d-fb06-4943-a941-4c3920ce067c",
        "part": "whole"
       },
       "id": "2c8ec8d0-a872-4170-8e1c-ee45090b60d8"
      }
     }
    },
    "8708bc02-1683-4be1-8062-cfb0318150dc": {
     "id": "8708bc02-1683-4be1-8062-cfb0318150dc",
     "prev": "d2c8f9c2-348a-46c9-a51f-c883ace3f7ef",
     "regions": {
      "6d90bb78-7794-4028-aab5-f2fb98955471": {
       "attrs": {
        "height": 0.8,
        "width": 0.8,
        "x": 0.1,
        "y": 0.1
       },
       "content": {
        "cell": "22c83146-607c-4f36-b76e-3eebf686421b",
        "part": "whole"
       },
       "id": "6d90bb78-7794-4028-aab5-f2fb98955471"
      }
     }
    },
    "883b74af-1543-4e93-b6dc-76739bc790e3": {
     "id": "883b74af-1543-4e93-b6dc-76739bc790e3",
     "prev": "6a24885e-2743-4cef-8265-a7a7252d8dc1",
     "regions": {
      "be30875b-92c6-4049-ae54-2ebaa8749527": {
       "attrs": {
        "height": 0.8,
        "width": 0.8,
        "x": 0.1,
        "y": 0.1
       },
       "content": {
        "cell": "6ca12622-45f4-45a5-9deb-5ffc4bece8c3",
        "part": "whole"
       },
       "id": "be30875b-92c6-4049-ae54-2ebaa8749527"
      }
     }
    },
    "8b687fa6-a707-40b9-9b2d-a7e609f5fc9b": {
     "id": "8b687fa6-a707-40b9-9b2d-a7e609f5fc9b",
     "prev": "566723b1-0d1e-46b5-be1b-41fd77ccb66f",
     "regions": {
      "dd12a0f6-afcd-4e4d-aa9f-616825f2d156": {
       "attrs": {
        "height": 0.8,
        "width": 0.8,
        "x": 0.1,
        "y": 0.1
       },
       "content": {
        "cell": "665a04a2-2c63-4837-9e89-070163357824",
        "part": "whole"
       },
       "id": "dd12a0f6-afcd-4e4d-aa9f-616825f2d156"
      }
     }
    },
    "8ba9e5b4-ff26-4b2c-965c-1205831b77b1": {
     "id": "8ba9e5b4-ff26-4b2c-965c-1205831b77b1",
     "prev": "7b3b4591-f1dc-4a9f-a7a8-1151bd4ca057",
     "regions": {
      "de62034c-a74e-4c69-9b50-ca18edd57fc8": {
       "attrs": {
        "height": 0.8,
        "width": 0.8,
        "x": 0.1,
        "y": 0.1
       },
       "content": {
        "cell": "3af7d2f4-adaa-441b-97eb-3d9816d16f3e",
        "part": "whole"
       },
       "id": "de62034c-a74e-4c69-9b50-ca18edd57fc8"
      }
     }
    },
    "8d0805fe-b12e-40ac-b21d-8527f1330db7": {
     "id": "8d0805fe-b12e-40ac-b21d-8527f1330db7",
     "prev": "9964cc0f-7ba6-42da-8595-c2eb7f650def",
     "regions": {
      "800f22f9-eab2-45cb-97d1-3d99775af960": {
       "attrs": {
        "height": 0.8,
        "width": 0.8,
        "x": 0.1,
        "y": 0.1
       },
       "content": {
        "cell": "e73f472a-03b5-4711-a21a-68e5b3addaa9",
        "part": "whole"
       },
       "id": "800f22f9-eab2-45cb-97d1-3d99775af960"
      }
     }
    },
    "90a9766b-5c33-4a48-9412-e6a5781072c2": {
     "id": "90a9766b-5c33-4a48-9412-e6a5781072c2",
     "prev": "f178d1aa-45ba-4694-bbcf-473f40a11fb4",
     "regions": {
      "ac41c3a4-0791-4bc1-adac-868eb2f90f4e": {
       "attrs": {
        "height": 0.8,
        "width": 0.8,
        "x": 0.1,
        "y": 0.1
       },
       "content": {
        "cell": "2e7e2f9b-c4f5-45d5-b230-c335d1950488",
        "part": "whole"
       },
       "id": "ac41c3a4-0791-4bc1-adac-868eb2f90f4e"
      }
     }
    },
    "9519d3aa-b9d1-40fc-96ab-ae6a72d57b0a": {
     "id": "9519d3aa-b9d1-40fc-96ab-ae6a72d57b0a",
     "prev": "8708bc02-1683-4be1-8062-cfb0318150dc",
     "regions": {
      "e1236edf-4458-496e-9acc-5a0a49a91b72": {
       "attrs": {
        "height": 0.8,
        "width": 0.8,
        "x": 0.1,
        "y": 0.1
       },
       "content": {
        "cell": "15dd21d8-c8c0-4462-9d86-7f158692e453",
        "part": "whole"
       },
       "id": "e1236edf-4458-496e-9acc-5a0a49a91b72"
      }
     }
    },
    "9964cc0f-7ba6-42da-8595-c2eb7f650def": {
     "id": "9964cc0f-7ba6-42da-8595-c2eb7f650def",
     "prev": "ca6f05dd-a652-48cd-8193-1afc754cfa30",
     "regions": {
      "75eab717-2405-4749-b376-facf731cc102": {
       "attrs": {
        "height": 0.8,
        "width": 0.8,
        "x": 0.1,
        "y": 0.1
       },
       "content": {
        "cell": "70987ee8-91e9-4e92-bc57-99cbd0501e9b",
        "part": "whole"
       },
       "id": "75eab717-2405-4749-b376-facf731cc102"
      }
     }
    },
    "a174749b-f033-4df7-9c2f-0a7b35c4687c": {
     "id": "a174749b-f033-4df7-9c2f-0a7b35c4687c",
     "prev": "4aee03ba-7978-4b4c-9e2a-db7f677c9da9",
     "regions": {
      "f9593a31-1436-4375-98d3-5290502ec8f7": {
       "attrs": {
        "height": 0.8,
        "width": 0.8,
        "x": 0.1,
        "y": 0.1
       },
       "content": {
        "cell": "075fa57b-dbc3-4b71-964e-0e20a97c3509",
        "part": "whole"
       },
       "id": "f9593a31-1436-4375-98d3-5290502ec8f7"
      }
     }
    },
    "aaa9a7ea-c353-4b7c-a9c9-90888e6076ef": {
     "id": "aaa9a7ea-c353-4b7c-a9c9-90888e6076ef",
     "prev": "79abf25c-f5c8-4d87-a353-40688c43eb0e",
     "regions": {
      "796ef1db-a2d2-43dd-9cb3-a35a81072d11": {
       "attrs": {
        "height": 0.8,
        "width": 0.8,
        "x": 0.1,
        "y": 0.1
       },
       "content": {
        "cell": "56b177cd-1813-40c6-a904-68f7e3fdc2d7",
        "part": "whole"
       },
       "id": "796ef1db-a2d2-43dd-9cb3-a35a81072d11"
      }
     }
    },
    "b258cb5b-56eb-4162-a4a7-beed06afd469": {
     "id": "b258cb5b-56eb-4162-a4a7-beed06afd469",
     "prev": "5d8f57c3-ba8b-41f1-945e-6ef9116d8b12",
     "regions": {
      "0af2ba23-de00-407f-8962-e41145eadf7e": {
       "attrs": {
        "height": 0.8,
        "width": 0.8,
        "x": 0.1,
        "y": 0.1
       },
       "content": {
        "cell": "d376447c-8283-4a74-b6de-f2e7e5b888ad",
        "part": "whole"
       },
       "id": "0af2ba23-de00-407f-8962-e41145eadf7e"
      }
     }
    },
    "b480d0a3-cab4-4244-8316-849c639f22ab": {
     "id": "b480d0a3-cab4-4244-8316-849c639f22ab",
     "prev": "05123fce-83f4-48f8-b86e-65c1e6d8b66a",
     "regions": {
      "9248d13a-cc71-4dae-b0cd-a6c46710a6dd": {
       "attrs": {
        "height": 0.8,
        "width": 0.8,
        "x": 0.1,
        "y": 0.1
       },
       "content": {
        "cell": "c870bc8f-ab9c-4752-8561-2ca6466d99c9",
        "part": "whole"
       },
       "id": "9248d13a-cc71-4dae-b0cd-a6c46710a6dd"
      }
     }
    },
    "b9892fd9-d1e9-434c-ba2f-f1145091f4d5": {
     "id": "b9892fd9-d1e9-434c-ba2f-f1145091f4d5",
     "prev": "b258cb5b-56eb-4162-a4a7-beed06afd469",
     "regions": {
      "a46a9731-c400-42bd-bb1f-a5fe802dfd40": {
       "attrs": {
        "height": 0.8,
        "width": 0.8,
        "x": 0.1,
        "y": 0.1
       },
       "content": {
        "cell": "d1abc3e6-439b-4373-9333-11ad2adfc31a",
        "part": "whole"
       },
       "id": "a46a9731-c400-42bd-bb1f-a5fe802dfd40"
      }
     }
    },
    "c9a49400-6c87-4228-815f-c828b9bedb0b": {
     "id": "c9a49400-6c87-4228-815f-c828b9bedb0b",
     "prev": "fc18c2af-b245-4991-8905-c3230b478acd",
     "regions": {
      "3b9460b7-719f-4a08-80cc-467c8944d1de": {
       "attrs": {
        "height": 0.8,
        "width": 0.8,
        "x": 0.1,
        "y": 0.1
       },
       "content": {
        "cell": "19848058-c1ae-4251-ab90-f840ace92cc3",
        "part": "whole"
       },
       "id": "3b9460b7-719f-4a08-80cc-467c8944d1de"
      }
     }
    },
    "ca6f05dd-a652-48cd-8193-1afc754cfa30": {
     "id": "ca6f05dd-a652-48cd-8193-1afc754cfa30",
     "prev": "4d3bb7c2-2447-4819-9559-76497c2f21a9",
     "regions": {
      "fb231a23-f643-4a00-85de-ee298b174932": {
       "attrs": {
        "height": 0.8,
        "width": 0.8,
        "x": 0.1,
        "y": 0.1
       },
       "content": {
        "cell": "8e648ac5-dd06-4361-af85-d4fd03643b5a",
        "part": "whole"
       },
       "id": "fb231a23-f643-4a00-85de-ee298b174932"
      }
     }
    },
    "ca83b5da-99d1-44cd-b826-afa68e2a8c94": {
     "id": "ca83b5da-99d1-44cd-b826-afa68e2a8c94",
     "prev": "60e2b323-5dd7-4e5c-b0f8-238080394ac3",
     "regions": {
      "5ec7df3a-a682-42eb-9b92-d9bbff3e9e95": {
       "attrs": {
        "height": 0.8,
        "width": 0.8,
        "x": 0.1,
        "y": 0.1
       },
       "content": {
        "cell": "d5e79922-6cde-43cb-91c8-d039c9f17c44",
        "part": "whole"
       },
       "id": "5ec7df3a-a682-42eb-9b92-d9bbff3e9e95"
      }
     }
    },
    "cf2735ab-0991-4439-b422-ad428d9f8f7a": {
     "id": "cf2735ab-0991-4439-b422-ad428d9f8f7a",
     "prev": "3bc56135-12c9-46c8-9ef7-bc737df00fad",
     "regions": {
      "e58d1640-e351-4bd0-8e5a-661c80d8bbc0": {
       "attrs": {
        "height": 0.8,
        "width": 0.8,
        "x": 0.1,
        "y": 0.1
       },
       "content": {
        "cell": "a7b52d0b-3a2e-4e1d-a959-1b8b21f61885",
        "part": "whole"
       },
       "id": "e58d1640-e351-4bd0-8e5a-661c80d8bbc0"
      }
     }
    },
    "cf2c021a-c222-4ce4-9866-39099f02d0c0": {
     "id": "cf2c021a-c222-4ce4-9866-39099f02d0c0",
     "prev": "2faa259b-7a0b-44fa-a9f9-6bdbeb5d39cf",
     "regions": {
      "8a953aa8-1e6b-40d3-a8eb-005ac2d2b57a": {
       "attrs": {
        "height": 0.8,
        "width": 0.8,
        "x": 0.1,
        "y": 0.1
       },
       "content": {
        "cell": "1109ad69-4d60-402a-8306-485dc5388558",
        "part": "whole"
       },
       "id": "8a953aa8-1e6b-40d3-a8eb-005ac2d2b57a"
      }
     }
    },
    "cf6456c2-be60-4969-80fd-acc6a851e4fe": {
     "id": "cf6456c2-be60-4969-80fd-acc6a851e4fe",
     "prev": "d06ea6d5-9325-4125-ba67-058491cf697a",
     "regions": {
      "5a4c3417-fc6f-4b46-a209-cc736793ce37": {
       "attrs": {
        "height": 0.8,
        "width": 0.8,
        "x": 0.1,
        "y": 0.1
       },
       "content": {
        "cell": "984fb399-90fc-4a2b-af10-39e723508952",
        "part": "whole"
       },
       "id": "5a4c3417-fc6f-4b46-a209-cc736793ce37"
      }
     }
    },
    "d06ea6d5-9325-4125-ba67-058491cf697a": {
     "id": "d06ea6d5-9325-4125-ba67-058491cf697a",
     "prev": "8b687fa6-a707-40b9-9b2d-a7e609f5fc9b",
     "regions": {
      "520a8265-b645-4b43-a2e3-387271976065": {
       "attrs": {
        "height": 0.8,
        "width": 0.8,
        "x": 0.1,
        "y": 0.1
       },
       "content": {
        "cell": "15fc5696-d047-44bc-8467-b06c48d1e10b",
        "part": "whole"
       },
       "id": "520a8265-b645-4b43-a2e3-387271976065"
      }
     }
    },
    "d2c8f9c2-348a-46c9-a51f-c883ace3f7ef": {
     "id": "d2c8f9c2-348a-46c9-a51f-c883ace3f7ef",
     "prev": "05a1400a-e777-401a-a4eb-fd86a1f166c3",
     "regions": {
      "7f194f97-3298-459d-9fe7-8f9b816d7ae0": {
       "attrs": {
        "height": 0.8,
        "width": 0.8,
        "x": 0.1,
        "y": 0.1
       },
       "content": {
        "cell": "044c465e-a8a7-4195-b8a9-33aabcf91b74",
        "part": "whole"
       },
       "id": "7f194f97-3298-459d-9fe7-8f9b816d7ae0"
      }
     }
    },
    "d4b7d1b3-169d-4069-bf69-9d139cb14560": {
     "id": "d4b7d1b3-169d-4069-bf69-9d139cb14560",
     "prev": "df287643-6296-4fc1-b1ce-bd745f910bef",
     "regions": {
      "20ae407f-ae22-4e72-8e27-b9f771ddff21": {
       "attrs": {
        "height": 0.8,
        "width": 0.8,
        "x": 0.1,
        "y": 0.1
       },
       "content": {
        "cell": "6c4b3925-5930-4b18-b0e1-600a19b8ae3c",
        "part": "whole"
       },
       "id": "20ae407f-ae22-4e72-8e27-b9f771ddff21"
      }
     }
    },
    "d507fe41-2616-40ef-91c6-121c3c4fc66a": {
     "id": "d507fe41-2616-40ef-91c6-121c3c4fc66a",
     "prev": "4aa4c4fb-f46b-462d-ac74-261dea855e8f",
     "regions": {
      "060c31c4-c4d6-4fe6-a9eb-db5532d57ecd": {
       "attrs": {
        "height": 0.8,
        "width": 0.8,
        "x": 0.1,
        "y": 0.1
       },
       "content": {
        "cell": "cf1e664f-f30a-4a29-b3ac-60311b2dd333",
        "part": "whole"
       },
       "id": "060c31c4-c4d6-4fe6-a9eb-db5532d57ecd"
      }
     }
    },
    "df287643-6296-4fc1-b1ce-bd745f910bef": {
     "id": "df287643-6296-4fc1-b1ce-bd745f910bef",
     "prev": "cf2735ab-0991-4439-b422-ad428d9f8f7a",
     "regions": {
      "4b8dbb60-8d75-4240-80b2-253e5bc9dae5": {
       "attrs": {
        "height": 0.8,
        "width": 0.8,
        "x": 0.1,
        "y": 0.1
       },
       "content": {
        "cell": "15fc47e9-0505-4d5c-a39c-632792ffdfbc",
        "part": "whole"
       },
       "id": "4b8dbb60-8d75-4240-80b2-253e5bc9dae5"
      }
     }
    },
    "e4c681bb-128d-4958-b21e-7a82b3ecd28f": {
     "id": "e4c681bb-128d-4958-b21e-7a82b3ecd28f",
     "prev": "9519d3aa-b9d1-40fc-96ab-ae6a72d57b0a",
     "regions": {
      "2f32a019-0f54-40d0-8ef3-69090ef5c900": {
       "attrs": {
        "height": 0.8,
        "width": 0.8,
        "x": 0.1,
        "y": 0.1
       },
       "content": {
        "cell": "5c025872-5cb7-44d5-b7f2-02a1558708b8",
        "part": "whole"
       },
       "id": "2f32a019-0f54-40d0-8ef3-69090ef5c900"
      }
     }
    },
    "e7c94e3a-34c1-4413-8ea9-f998bb26ff2f": {
     "id": "e7c94e3a-34c1-4413-8ea9-f998bb26ff2f",
     "prev": "8d0805fe-b12e-40ac-b21d-8527f1330db7",
     "regions": {
      "8569dd25-0e6e-4cee-b569-241b3f0e85fe": {
       "attrs": {
        "height": 0.8,
        "width": 0.8,
        "x": 0.1,
        "y": 0.1
       },
       "content": {
        "cell": "999a2f59-ab97-4fa5-9788-849c06a6f80c",
        "part": "whole"
       },
       "id": "8569dd25-0e6e-4cee-b569-241b3f0e85fe"
      }
     }
    },
    "e86c27cd-adc7-4f9a-a6d1-7c8d4ea40437": {
     "id": "e86c27cd-adc7-4f9a-a6d1-7c8d4ea40437",
     "prev": "aaa9a7ea-c353-4b7c-a9c9-90888e6076ef",
     "regions": {
      "d2a24f77-2d1e-4007-8215-0a91af8f82a5": {
       "attrs": {
        "height": 0.8,
        "width": 0.8,
        "x": 0.1,
        "y": 0.1
       },
       "content": {
        "cell": "5d5da69b-a9a6-40c6-ace8-7ed7e5faf432",
        "part": "whole"
       },
       "id": "d2a24f77-2d1e-4007-8215-0a91af8f82a5"
      }
     }
    },
    "e9c51e5e-dd7d-4bd8-b250-bf4d09746046": {
     "id": "e9c51e5e-dd7d-4bd8-b250-bf4d09746046",
     "prev": "04a98b53-d01c-4ead-b1a4-b9d85cc7bfce",
     "regions": {
      "e128027f-ecc0-4762-a165-82887ff4dcaf": {
       "attrs": {
        "height": 0.8,
        "width": 0.8,
        "x": 0.1,
        "y": 0.1
       },
       "content": {
        "cell": "4d523c9c-d7ae-4465-aa73-275f70de233c",
        "part": "whole"
       },
       "id": "e128027f-ecc0-4762-a165-82887ff4dcaf"
      }
     }
    },
    "f178d1aa-45ba-4694-bbcf-473f40a11fb4": {
     "id": "f178d1aa-45ba-4694-bbcf-473f40a11fb4",
     "prev": "149f25fa-1e35-48b1-bb2e-b8c51c25897a",
     "regions": {
      "558d597c-ca8a-4a20-bf2c-e6fe5cc3a45f": {
       "attrs": {
        "height": 0.8,
        "width": 0.8,
        "x": 0.1,
        "y": 0.1
       },
       "content": {
        "cell": "1378e4b7-299b-47e9-bf31-0a4d4a97314b",
        "part": "whole"
       },
       "id": "558d597c-ca8a-4a20-bf2c-e6fe5cc3a45f"
      }
     }
    },
    "f246e611-37fd-4c36-b435-d102ff6977d9": {
     "id": "f246e611-37fd-4c36-b435-d102ff6977d9",
     "prev": "472dc18a-72e0-4715-a10e-ce634fbf0b1b",
     "regions": {
      "c6a40b0a-3045-4424-be8e-250efa88a0b9": {
       "attrs": {
        "height": 0.8,
        "width": 0.8,
        "x": 0.1,
        "y": 0.1
       },
       "content": {
        "cell": "96ace95b-296e-46ae-a59f-2c6c159331b6",
        "part": "whole"
       },
       "id": "c6a40b0a-3045-4424-be8e-250efa88a0b9"
      }
     }
    },
    "f3f2fc7d-3f37-4d64-bd5d-d34042e238a8": {
     "id": "f3f2fc7d-3f37-4d64-bd5d-d34042e238a8",
     "prev": "fda1689d-adbe-4168-a147-9993572f08dd",
     "regions": {
      "68432fd7-9356-4244-b6af-945c653942e5": {
       "attrs": {
        "height": 0.8,
        "width": 0.8,
        "x": 0.1,
        "y": 0.1
       },
       "content": {
        "cell": "ea561652-50c4-444f-add7-91336f4c821d",
        "part": "whole"
       },
       "id": "68432fd7-9356-4244-b6af-945c653942e5"
      }
     }
    },
    "f50f01cc-a319-49f6-80e6-42406e05d28a": {
     "id": "f50f01cc-a319-49f6-80e6-42406e05d28a",
     "prev": "ca83b5da-99d1-44cd-b826-afa68e2a8c94",
     "regions": {
      "36035a7e-beec-43fa-ab31-c838e3349cc4": {
       "attrs": {
        "height": 0.8,
        "width": 0.8,
        "x": 0.1,
        "y": 0.1
       },
       "content": {
        "cell": "e1d3f510-96fa-4820-b28b-2efc7eb38fcc",
        "part": "whole"
       },
       "id": "36035a7e-beec-43fa-ab31-c838e3349cc4"
      }
     }
    },
    "fc18c2af-b245-4991-8905-c3230b478acd": {
     "id": "fc18c2af-b245-4991-8905-c3230b478acd",
     "prev": "4c0ae8f4-715c-457c-981b-0be6a9bace42",
     "regions": {
      "6d4422b2-96e2-4427-8605-e9c7a0298ab1": {
       "attrs": {
        "height": 0.8,
        "width": 0.8,
        "x": 0.1,
        "y": 0.1
       },
       "content": {
        "cell": "436323dc-ffd2-4a5b-915f-013131477055",
        "part": "whole"
       },
       "id": "6d4422b2-96e2-4427-8605-e9c7a0298ab1"
      }
     }
    },
    "fda1689d-adbe-4168-a147-9993572f08dd": {
     "id": "fda1689d-adbe-4168-a147-9993572f08dd",
     "prev": "16ed6eab-7131-4953-9fe1-31363db006ed",
     "regions": {
      "4333b8ba-bbb8-4848-974d-960d7e767bc8": {
       "attrs": {
        "height": 0.8,
        "width": 0.8,
        "x": 0.1,
        "y": 0.1
       },
       "content": {
        "cell": "e0cde812-3e48-47c8-883c-e4d2d4819564",
        "part": "whole"
       },
       "id": "4333b8ba-bbb8-4848-974d-960d7e767bc8"
      }
     }
    }
   },
   "themes": {}
  }
 },
 "nbformat": 4,
 "nbformat_minor": 0
}
